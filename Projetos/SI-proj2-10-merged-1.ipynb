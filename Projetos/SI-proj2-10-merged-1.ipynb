{
 "cells": [
  {
   "cell_type": "markdown",
   "metadata": {},
   "source": [
    "# Sistemas Inteligentes 2021/2022\n",
    "\n",
    "## Mini-projeto 2: Quadrados Latinos\n"
   ]
  },
  {
   "cell_type": "markdown",
   "metadata": {},
   "source": [
    "## Grupo: 10\n",
    "\n",
    "### Elementos do Grupo\n",
    "\n",
    "Número: 59270 Nome: Tatiana Moura\n",
    "Número: 55945 Nome: Mariana Valente\n",
    "Número: 54356 Nome: Judite Ramos      \n",
    "\n",
    "(Nota: Neste relatório pode adicionar as células de texto e código que achar necessárias.)"
   ]
  },
  {
   "cell_type": "markdown",
   "metadata": {},
   "source": [
    "## Representação de variáveis, domínios, vizinhos e restrições\n",
    "\n",
    "Descreva aqui, textualmente, como decidiu representar as variáveis, domínios, vizinhos e restrições em Python;"
   ]
  },
  {
   "cell_type": "markdown",
   "metadata": {},
   "source": [
    "**variáveis -->** Representadas por uma lista de strings por exemplo:  [A1, A2, A3, B1, B2, B3, C1 ,C2 ,C3], cada variável corresponde a uma posição na matriz.\n",
    "\n",
    "**domínios -->** Representados por um dicionário em que as chaves são as variáveis e os valores são os possíveis números de 1 a n, sendo que n é o tamanho da matriz.\n",
    "\n",
    "**vizinhos -->** Representados por um dicionário em que as chaves são as variáveis e os valores são a lista de variáveis com a qual tem restrições.\n",
    "\n",
    "**restrições -->** Na primeira parte do projeto usamos uma função do tipo f(A, a, B, b), que devolve True caso a e b sejam diferentes. Na segunda fase do projeto, a versão futoshiki, utilizamos também uma função do tipo f(A, a, B, b), que devolve True caso as desigualdades sejam satisfeitas."
   ]
  },
  {
   "cell_type": "markdown",
   "metadata": {},
   "source": [
    "## Formulação do problema"
   ]
  },
  {
   "cell_type": "code",
   "execution_count": 92,
   "metadata": {},
   "outputs": [],
   "source": [
    "from csp import *\n",
    "\n",
    "alfabeto='ABCDEFGHIJKLMNOPQRSTUVWXYZ'\n",
    "def quadrado_latino(len = 4, dom_quadrado = {}, ineq = []):\n",
    "    \"\"\"\n",
    "    Pode receber parametros ou não.\n",
    "    Deve devolver um CSP, à semelhança dos guiões das aulas PL.\n",
    "    Comente o código.\n",
    "    \"\"\"\n",
    "    #definir as variáveis\n",
    "    var = []\n",
    "    for x in range(len):\n",
    "        acc = x+1 #o x começa no zero, e as nossas variáveis começam no a1, não no a0\n",
    "        letras = [alfabeto[n] + str(acc) for n in range(len)] #para termos o numero de letras correspondente a n (se n = 4, letras vão até D), juntamente com os números obtidos anteriormente\n",
    "        var = var + letras #juntar as letras com os numeros numa lista\n",
    "          \n",
    "    #definir domínios     \n",
    "    dominios = {}\n",
    "    if dom_quadrado != {}: #dicionário não vazio, para conseguir entrar no 'for' do dom_quadrado. Se estiver vazio, não vai fazer o for\n",
    "        for v in var:\n",
    "            for v2 in dom_quadrado: #2 ciclos 'for', para comparar a lista das variáveis com o dicionário das variáveis com valores atribuídos\n",
    "                dominios[v2] = [dom_quadrado.get(v2)] #se a variável existir no dom_quadrado, o valor que ela tem(o seu domínio) é o que lhe está atribuído nesse dicionário\n",
    "                if (v2[0] == v[0] or v2[1] == v[1]) and v2!= v: #se houver uma variável cujo primeiro elemento(a letra) é igual à letra de uma variável no dom_quadrado\n",
    "                    #ou tem o segundo elemento(o número) igual a uma variável no dom_quadrado (e não são a mesma variável)\n",
    "                    proibido = [dom_quadrado.get(v2)] #nesta lista fica o valor(domínio) que a variável presente no dom_quadrado tem\n",
    "                    if v in dominios: #se a variável(que não está no dom_quadrado) já existir no dominios (já tem domínio)\n",
    "                        dominios[v] = [x for x in range (1, len+1) if x not in proibido if x in dominios.get(v)] #o domínio da variável v é o conjunto de todos os números naturais\n",
    "                        #até ao número de linhas/colunas do problema, exceto aquele que a variável no dom_quadrado (cuja letra ou número é igual à letra/número da variável v) tem. \n",
    "                        #Para além disso, não pode ser nenhum valor que a variável v não tenha já no domínio (se o valor não está no domínio, é devido a alguma restrição anterior)\n",
    "                    else: #a variável v não tem ainda domínio atribuido \n",
    "                        dominios[v] = [x for x in range (1, len+1) if x not in proibido] #então a única restrição dos valores do seu domínio é não ser igual ao valor que a variável em\n",
    "                        #dom_quadrado (que tem letra ou número igual a ela - isto é, pertence à mesma linha ou coluna) tem\n",
    "                else: #a variável v não está na mesma linha nem coluna (não tenha letra ou número igual) a nenhuma variável do dom_quadrado\n",
    "                    if v in dominios: #tudo igual aos pontos anteriores, exceto que não há a preocupação de ser o mesmo valor de uma variável presente em dom_quadrado\n",
    "                        dominios[v] = [x for x in range (1, len+1) if x in dominios.get(v)]\n",
    "                    else:\n",
    "                        dominios[v] = [x for x in range (1, len+1)]\n",
    "    else: #o dicionário está vazio, não há variaveis com valores atribuidos\n",
    "        for v in var:\n",
    "            dominios[v] = [x for x in range (1, len+1)] #os dominios são simplesmente todos os numeros naturais até ao nº de linhas do problema\n",
    "    \n",
    "    #definir vizinhos com restrições:\n",
    "    visitadas = []\n",
    "    vizinho = ''\n",
    "    \n",
    "    for v1 in var:\n",
    "        vizinho += v1 + ':' #a função parse_neighbors requer uma string na forma 'X: Y Z; Y: Z', daí a variável ser seguida de ':'\n",
    "        visitadas.append (v1) #necessário manter registo das variáveis já tidas em conta, uma vez que se declararmos X:Y na string, não precisamos de declarar Y:X\n",
    "        for v2 in var:\n",
    "            if v1 != v2 and (v1[0] == v2[0] or v1[1] == v2[1]) and v2 not in visitadas: #se as variáveis estão na mesma linha ou coluna\n",
    "                #(têm letra ou número igual)\n",
    "                vizinho += ' ' + v2 #então a seguir aos ':' adiciona-se a segunda variável, uma vez que os elementos na mesma linha ou coluna\n",
    "                #vão ter restrições (definição de vizinho)\n",
    "        vizinho += '; ' #para garantir que a semântica da string está como é pedida\n",
    "    \n",
    "    vizinho = vizinho[:-2] #é necessário retirar o último ';', para a função parse_neighbors funcionar\n",
    "    vizinhos_quad = parse_neighbors(vizinho) #gerar os vizinhos num dicionário\n",
    "    \n",
    "    #definir restrições:\n",
    "    \n",
    "    def valores_diferentes(a, b):\n",
    "        return a != b #os seus valores têm de ser diferentes\n",
    "    \n",
    "    #-------------------------------para o futoshiki------------------------------------------------------------\n",
    "    \n",
    "    def menor_que(a, b):\n",
    "        return a < b\n",
    "    \n",
    "    def maior_que(a, b):\n",
    "        return a > b\n",
    "    \n",
    "    def restricoes_quad(A,a,B,b):\n",
    "        restricoes = {}\n",
    "    \n",
    "        if ineq == []:\n",
    "            if (A[0] == B[0] or A[1] == B[1]) and A!=B:\n",
    "                restricoes[(A,B)] = valores_diferentes\n",
    "        \n",
    "        else:\n",
    "            desigualdades = []\n",
    "        \n",
    "            for i in ineq:\n",
    "                i = i.split(' ')\n",
    "                desigualdades.append(i)\n",
    "        \n",
    "            for d in desigualdades:\n",
    "                if d[1] == '<' and d[0] == A and d[2]==B :\n",
    "                    restricoes[(A,B)] = menor_que \n",
    "                if d[1] == '<' and d[0] == B and d[2]==A:\n",
    "                    restricoes[(A,B)] = maior_que\n",
    "                if d[1] == '>' and d[0] == A and d[2]==B :\n",
    "                    restricoes[(A,B)] = maior_que\n",
    "                if d[1] == '>' and d[0] == B and d[2]==A :\n",
    "                    restricoes[(A,B)] = menor_que\n",
    "                    \n",
    "            if (A,B) not in restricoes:\n",
    "                if (A[0] == B[0] or A[1] == B[1]) and A!=B:\n",
    "                    restricoes[(A,B)] = valores_diferentes\n",
    "    \n",
    "        if (A,B) in restricoes :\n",
    "            return restricoes[(A,B)](a,b)\n",
    "        else:\n",
    "            return True\n",
    "        \n",
    "    return CSP(var, dominios, vizinhos_quad, restricoes_quad)"
   ]
  },
  {
   "cell_type": "markdown",
   "metadata": {},
   "source": [
    "## Criação do problema do quadrado latino simples\n",
    "\n",
    "Mostrem que o código está a funcionar, construindo um problema de quadrado latino *4x4*, imprimindo as variáveis, domínios iniciais, e vizinhos. Adicione os comentários necessários. Mostre como podemos criar um puzzle com quadrados já preenchidos, e qual o impacto que isso tem nas variáveis, domínios iniciais, e vizinhos."
   ]
  },
  {
   "cell_type": "markdown",
   "metadata": {},
   "source": [
    "**Problema do quadrado latino vázio no inicio**\n",
    "\n",
    "Neste exemplo concluímos que quando o quadrado está vázio, temos os domínios de 1 a 4 para todas a variáveis."
   ]
  },
  {
   "cell_type": "code",
   "execution_count": 93,
   "metadata": {},
   "outputs": [
    {
     "name": "stdout",
     "output_type": "stream",
     "text": [
      "variáveis: ['A1', 'B1', 'C1', 'D1', 'A2', 'B2', 'C2', 'D2', 'A3', 'B3', 'C3', 'D3', 'A4', 'B4', 'C4', 'D4'] \n",
      "\n",
      "domínios iniciais: {'A1': [1, 2, 3, 4], 'B1': [1, 2, 3, 4], 'C1': [1, 2, 3, 4], 'D1': [1, 2, 3, 4], 'A2': [1, 2, 3, 4], 'B2': [1, 2, 3, 4], 'C2': [1, 2, 3, 4], 'D2': [1, 2, 3, 4], 'A3': [1, 2, 3, 4], 'B3': [1, 2, 3, 4], 'C3': [1, 2, 3, 4], 'D3': [1, 2, 3, 4], 'A4': [1, 2, 3, 4], 'B4': [1, 2, 3, 4], 'C4': [1, 2, 3, 4], 'D4': [1, 2, 3, 4]} \n",
      "\n",
      "vizinhos: defaultdict(<class 'list'>, {'A1': ['B1', 'C1', 'D1', 'A2', 'A3', 'A4'], 'B1': ['A1', 'C1', 'D1', 'B2', 'B3', 'B4'], 'C1': ['A1', 'B1', 'D1', 'C2', 'C3', 'C4'], 'D1': ['A1', 'B1', 'C1', 'D2', 'D3', 'D4'], 'A2': ['A1', 'B2', 'C2', 'D2', 'A3', 'A4'], 'A3': ['A1', 'A2', 'B3', 'C3', 'D3', 'A4'], 'A4': ['A1', 'A2', 'A3', 'B4', 'C4', 'D4'], 'B2': ['B1', 'A2', 'C2', 'D2', 'B3', 'B4'], 'B3': ['B1', 'B2', 'A3', 'C3', 'D3', 'B4'], 'B4': ['B1', 'B2', 'B3', 'A4', 'C4', 'D4'], 'C2': ['C1', 'A2', 'B2', 'D2', 'C3', 'C4'], 'C3': ['C1', 'C2', 'A3', 'B3', 'D3', 'C4'], 'C4': ['C1', 'C2', 'C3', 'A4', 'B4', 'D4'], 'D2': ['D1', 'A2', 'B2', 'C2', 'D3', 'D4'], 'D3': ['D1', 'D2', 'A3', 'B3', 'C3', 'D4'], 'D4': ['D1', 'D2', 'D3', 'A4', 'B4', 'C4']}) \n",
      "\n"
     ]
    }
   ],
   "source": [
    "p = quadrado_latino(len=4)\n",
    "print ('variáveis:', p.variables, '\\n')\n",
    "print ('domínios iniciais:', p.domains, '\\n')\n",
    "print ('vizinhos:', p.neighbors, '\\n')"
   ]
  },
  {
   "cell_type": "markdown",
   "metadata": {},
   "source": [
    "**Problema do quadrado latino com quadrados já preenchidos**\n",
    "\n",
    "Para criar um puzzle com quadrados ja preenchidos, é necessário utilizar outro parâmetro da função, chamado dom_quadrado, que\n",
    "é um dicionário. Atribui-se o valor x à variavel V da seguinte forma: dom_quadrado{'V':x}\n",
    "\n",
    "E neste exemplo concluímos que há apenas um valor nos dominios iniciais das variáveis que ja estáo preenchidas com um valor. E consequentemente os outros domínios de outras celulas também teem menos valores porcausa da restrição do alldiff para cada linha e coluna"
   ]
  },
  {
   "cell_type": "code",
   "execution_count": 94,
   "metadata": {},
   "outputs": [
    {
     "name": "stdout",
     "output_type": "stream",
     "text": [
      "variáveis: ['A1', 'B1', 'C1', 'D1', 'A2', 'B2', 'C2', 'D2', 'A3', 'B3', 'C3', 'D3', 'A4', 'B4', 'C4', 'D4'] \n",
      "\n",
      "domínios iniciais: {'A1': [3], 'B4': [2], 'C2': [1], 'B1': [1, 4], 'C1': [2, 4], 'D1': [1, 2, 4], 'A2': [2, 4], 'B2': [3, 4], 'D2': [2, 3, 4], 'A3': [1, 2, 4], 'B3': [1, 3, 4], 'C3': [2, 3, 4], 'D3': [1, 2, 3, 4], 'A4': [1, 4], 'C4': [3, 4], 'D4': [1, 3, 4]} \n",
      "\n",
      "vizinhos: defaultdict(<class 'list'>, {'A1': ['B1', 'C1', 'D1', 'A2', 'A3', 'A4'], 'B1': ['A1', 'C1', 'D1', 'B2', 'B3', 'B4'], 'C1': ['A1', 'B1', 'D1', 'C2', 'C3', 'C4'], 'D1': ['A1', 'B1', 'C1', 'D2', 'D3', 'D4'], 'A2': ['A1', 'B2', 'C2', 'D2', 'A3', 'A4'], 'A3': ['A1', 'A2', 'B3', 'C3', 'D3', 'A4'], 'A4': ['A1', 'A2', 'A3', 'B4', 'C4', 'D4'], 'B2': ['B1', 'A2', 'C2', 'D2', 'B3', 'B4'], 'B3': ['B1', 'B2', 'A3', 'C3', 'D3', 'B4'], 'B4': ['B1', 'B2', 'B3', 'A4', 'C4', 'D4'], 'C2': ['C1', 'A2', 'B2', 'D2', 'C3', 'C4'], 'C3': ['C1', 'C2', 'A3', 'B3', 'D3', 'C4'], 'C4': ['C1', 'C2', 'C3', 'A4', 'B4', 'D4'], 'D2': ['D1', 'A2', 'B2', 'C2', 'D3', 'D4'], 'D3': ['D1', 'D2', 'A3', 'B3', 'C3', 'D4'], 'D4': ['D1', 'D2', 'D3', 'A4', 'B4', 'C4']}) \n",
      "\n"
     ]
    }
   ],
   "source": [
    "p = quadrado_latino(len=4, dom_quadrado= {'A1': 3, 'B4': 2, 'C2': 1})\n",
    "print ('variáveis:', p.variables, '\\n')\n",
    "print ('domínios iniciais:', p.domains, '\\n')\n",
    "print ('vizinhos:', p.neighbors, '\\n')"
   ]
  },
  {
   "cell_type": "markdown",
   "metadata": {},
   "source": [
    "Resolva o problema com o backtracking sem inferencia, com inferencia, e com uma heurística."
   ]
  },
  {
   "cell_type": "markdown",
   "metadata": {},
   "source": [
    "**Backtracking sem inferencia**"
   ]
  },
  {
   "cell_type": "code",
   "execution_count": 95,
   "metadata": {
    "scrolled": false
   },
   "outputs": [
    {
     "name": "stdout",
     "output_type": "stream",
     "text": [
      "Afetações =  {'A1': 3, 'B1': 1, 'C1': 2, 'D1': 4, 'A2': 2, 'B2': 4, 'C2': 1, 'D2': 3, 'A3': 1, 'B3': 3, 'C3': 4, 'D3': 2, 'A4': 4, 'B4': 2, 'C4': 3, 'D4': 1}\n"
     ]
    }
   ],
   "source": [
    "#trocar verbose para true para mais detalhes de cada etapa até á solução\n",
    "backtracking = backtracking_search(p,verbose = False)\n",
    "print('Afetações = ', backtracking) "
   ]
  },
  {
   "cell_type": "markdown",
   "metadata": {},
   "source": [
    "**Backtracking com inferencia**"
   ]
  },
  {
   "cell_type": "code",
   "execution_count": 96,
   "metadata": {},
   "outputs": [
    {
     "name": "stdout",
     "output_type": "stream",
     "text": [
      "Backtracking com inferencia : forward checking\n",
      "Afetações =  {'A1': 3, 'B1': 1, 'C1': 2, 'D1': 4, 'A2': 2, 'B2': 4, 'C2': 1, 'D2': 3, 'A3': 1, 'B3': 3, 'C3': 4, 'D3': 2, 'A4': 4, 'B4': 2, 'C4': 3, 'D4': 1}\n",
      "\n",
      "Backtracking com inferencia : Mantain Arc Consistent\n",
      "Afetações =  {'A1': 3, 'B1': 1, 'C1': 2, 'D1': 4, 'A2': 2, 'B2': 4, 'C2': 1, 'D2': 3, 'A3': 1, 'B3': 3, 'C3': 4, 'D3': 2, 'A4': 4, 'B4': 2, 'C4': 3, 'D4': 1}\n"
     ]
    }
   ],
   "source": [
    "#temos de criar um novo problema para cada vez que fazemos uma nova solucao porque ja temos uma solucao no problema anterior do problema \n",
    "print(\"Backtracking com inferencia : forward checking\")\n",
    "p2 = quadrado_latino(len=4, dom_quadrado= {'A1': 3, 'B4': 2, 'C2': 1})\n",
    "b_inf_forward_checking = backtracking_search(p2, inference = forward_checking, verbose = False)\n",
    "print('Afetações = ',b_inf_forward_checking)\n",
    "\n",
    "print(\"\\nBacktracking com inferencia : Mantain Arc Consistent\")\n",
    "p3 = quadrado_latino(len=4, dom_quadrado= {'A1': 3, 'B4': 2, 'C2': 1})\n",
    "b_inf_mac = backtracking_search(p3,inference = mac, verbose = False)\n",
    "print('Afetações = ',b_inf_mac)"
   ]
  },
  {
   "cell_type": "markdown",
   "metadata": {},
   "source": [
    "**Backtracking com heuristica**"
   ]
  },
  {
   "cell_type": "code",
   "execution_count": 97,
   "metadata": {},
   "outputs": [
    {
     "name": "stdout",
     "output_type": "stream",
     "text": [
      "Afetações =  {'B4': 2, 'C2': 1, 'A1': 3, 'C1': 2, 'A4': 1, 'B1': 1, 'C4': 4, 'B2': 3, 'A2': 4, 'C3': 3, 'D4': 3, 'B3': 4, 'D2': 2, 'A3': 2, 'D1': 4, 'D3': 1}\n"
     ]
    }
   ],
   "source": [
    "p4 = quadrado_latino(len=4, dom_quadrado= {'A1': 3, 'B4': 2, 'C2': 1})\n",
    "b_heur_mrv = backtracking_search(p4,select_unassigned_variable = mrv, verbose=False)\n",
    "print('Afetações = ',b_heur_mrv)"
   ]
  },
  {
   "cell_type": "markdown",
   "metadata": {},
   "source": [
    "## Visualização do problema"
   ]
  },
  {
   "cell_type": "code",
   "execution_count": 98,
   "metadata": {},
   "outputs": [],
   "source": [
    "# Implemente uma função que permita visualizar o quadrado latino, antes e depois de resolvido.\n",
    "\n",
    "#o r é para qualquer algoritmo com a solucao em formato dict\n",
    "def display(p = quadrado_latino (), r = backtracking):\n",
    "    \n",
    "   #visualizacao do problema quadrado latino no estado inicial:\n",
    "    print('Quadrado inicial:\\n')\n",
    "    var = p.variables\n",
    "    n_linhas = []\n",
    "    for v in var:\n",
    "        if v[0] == 'A':\n",
    "            n_linhas.append(v) #o número de A (ou de outra letra qualquer), dá nos o numero de linhas/ o numero de elementos por\n",
    "            #linha, que vai ser necessário mais à frente. Por isso criei esta lista so com os A, assim à frente chamo a lenght\n",
    "            #disto para fazer as contas consoante o numero de linhas de cada problema em específico\n",
    "    \n",
    "    valores = {}\n",
    "    for v in var:\n",
    "        if len(p.domains[v]) == 1:\n",
    "            #se nos domínios só tiver 1 valor (as variáveis que estão preenchidas desde o início, ou cujo valor, devido a restrições,\n",
    "            # já está atribuído)\n",
    "            valores[v] = p.domains.get(v)[0]\n",
    "            #adiciona ao dicionário valores o valor (único do seu domínio)\n",
    "        else:\n",
    "            #caso contrário, o valor das variáveis que têm mais de um valor no domínio fica '-'\n",
    "            valores[v] = '-'\n",
    "    \n",
    "    n = 0 #vai entrar no ciclo while, onde se vai somar 1 \n",
    "    count = 1 #para fazer print dos números que são a primeira coluna da grelha\n",
    "    print ('', end = '    ') #só para questão de alinhamento\n",
    "    for x in range(len(n_linhas)): #x vai até ao nº de linhas/colunas do quadrado\n",
    "        print(var[x][0], end = ' ') #fazemos print do primeiro carater da variável, que é a letra - cabeçalho da grelha\n",
    "    print (' ') #para o próximo print aparecer na linha de baixo\n",
    "    while n < len(var): \n",
    "        if (n+1)%(len(n_linhas)) == 0: #queremos ter tantas linhas no print como o numero de linhas do problema, por isso temos \n",
    "            #de mudar de linha quando já tivermos n=nº de linhas elementos. Quando n+1(porque começa no zero) for divisivel pelo\n",
    "            #numero de linhas, o proximo print aparece na linha seguinte\n",
    "            print (valores[var[n]], end = '\\n') #fazemos print do valor que está associado à variável de indíce n, no dicionário valores\n",
    "        elif n %(len(n_linhas)) == 0: #quando mudamos de linha, o primeiro elemento tem de ser o número, que corresponde ao \n",
    "            #segundo carater da variavel (para fazer uma tabela, em que no cruzamento otemos as variáveis - A1, B1, etc)\n",
    "            print (count, '|', valores[var[n]], end = ' ' )\n",
    "            count += 1\n",
    "        else:\n",
    "            print (valores[var[n]], end = ' ') \n",
    "        n += 1    \n",
    "    \n",
    "    #visualização do quadrado latino preenchido usando o algoritmo:\n",
    "    \n",
    "    print('\\nQuadrado final:\\n')\n",
    "    dict_var = r #dicionário com as soluções do algoritmo\n",
    "    #print para verificar se a visualizacao esta certa\n",
    "    #print(dict_var)\n",
    "    \n",
    "    n_linhas = []\n",
    "    valores = {}\n",
    "    for key in dict_var :#As chaves do dicionário, que são as nossas variáveis (A1, B1, etc)\n",
    "        valores[key] = dict_var[key] #criar um novo dicionário, em que as chaves são as variáveis (A1, B1, etc) e os valores são os valores que a solução atribuiu às variáveis\n",
    "        if key[0] == 'A': #nº de variaveis cuja letra é A é o numero de linhas/colunas do quadrado. Usando a lenght desta lista vamos conseguir criar a grelha de visualização\n",
    "            n_linhas.append(key[1]) \n",
    "            \n",
    "     \n",
    "    n = 0 #vai entrar no ciclo while, onde se vai somar 1 \n",
    "    count = 1 #para fazer print dos números que são a primeira coluna da grelha\n",
    "    print ('', end = '    ') #só para questão de alinhamento\n",
    "    for x in range(len(n_linhas)): #x vai até ao nº de linhas/colunas do quadrado\n",
    "        print(var[x][0], end = ' ') #fazemos print do primeiro carater da variável, que é a letra - cabeçalho da grelha\n",
    "    print (' ') #para o próximo print aparecer na linha de baixo        \n",
    "    while n < len(var): \n",
    "        if (n+1)%(len(n_linhas)) == 0: #queremos ter tantas linhas no print como o numero de linhas do problema, por isso temos \n",
    "            #de mudar de linha quando já tivermos n=nº de linhas elementos. Quando n+1(porque começa no zero) for divisivel pelo\n",
    "            #numero de linhas, o proximo print aparece na linha seguinte\n",
    "            print (valores[var[n]], end = '\\n') #fazemos print do valor que está associado à variável de indíce n, no dicionário valores\n",
    "        elif n %(len(n_linhas)) == 0: #quando mudamos de linha, o primeiro elemento tem de ser o número, que corresponde ao \n",
    "            #segundo carater da variavel (para fazer uma tabela, em que no cruzamento otemos as variáveis - A1, B1, etc)\n",
    "            print (count, '|', valores[var[n]], end = ' ' )\n",
    "            count += 1\n",
    "        else:\n",
    "            print (valores[var[n]], end = ' ') \n",
    "        n += 1"
   ]
  },
  {
   "cell_type": "code",
   "execution_count": 99,
   "metadata": {},
   "outputs": [
    {
     "name": "stdout",
     "output_type": "stream",
     "text": [
      "Backtracking básico\n",
      "Quadrado inicial:\n",
      "\n",
      "    A B C D  \n",
      "1 | 3 - - -\n",
      "2 | - - 1 -\n",
      "3 | - - - -\n",
      "4 | - 2 - -\n",
      "\n",
      "Quadrado final:\n",
      "\n",
      "    A B C D  \n",
      "1 | 3 1 2 4\n",
      "2 | 2 4 1 3\n",
      "3 | 1 3 4 2\n",
      "4 | 4 2 3 1\n",
      "\n",
      "Backtracking com inferencia forward checking\n",
      "Quadrado inicial:\n",
      "\n",
      "    A B C D  \n",
      "1 | 3 - - -\n",
      "2 | - - 1 -\n",
      "3 | - - - -\n",
      "4 | - 2 - -\n",
      "\n",
      "Quadrado final:\n",
      "\n",
      "    A B C D  \n",
      "1 | 3 1 2 4\n",
      "2 | 2 4 1 3\n",
      "3 | 1 3 4 2\n",
      "4 | 4 2 3 1\n",
      "\n",
      "Backtracking com inferencia maintain arc consistency\n",
      "Quadrado inicial:\n",
      "\n",
      "    A B C D  \n",
      "1 | 3 - - -\n",
      "2 | - - 1 -\n",
      "3 | - - - -\n",
      "4 | - 2 - -\n",
      "\n",
      "Quadrado final:\n",
      "\n",
      "    A B C D  \n",
      "1 | 3 1 2 4\n",
      "2 | 2 4 1 3\n",
      "3 | 1 3 4 2\n",
      "4 | 4 2 3 1\n",
      "\n",
      "Backtracking com heristica MINIMUM-REMAINING-VALUES\n",
      "Quadrado inicial:\n",
      "\n",
      "    A B C D  \n",
      "1 | 3 - - -\n",
      "2 | - - 1 -\n",
      "3 | - - - -\n",
      "4 | - 2 - -\n",
      "\n",
      "Quadrado final:\n",
      "\n",
      "    A B C D  \n",
      "1 | 3 1 2 4\n",
      "2 | 4 3 1 2\n",
      "3 | 2 4 3 1\n",
      "4 | 1 2 4 3\n"
     ]
    }
   ],
   "source": [
    "print(\"Backtracking básico\")\n",
    "display(p , backtracking)\n",
    "print(\"\\nBacktracking com inferencia forward checking\")\n",
    "display(p2 , b_inf_forward_checking)\n",
    "print(\"\\nBacktracking com inferencia maintain arc consistency\")\n",
    "display(p3 , b_inf_mac)\n",
    "print(\"\\nBacktracking com heristica MINIMUM-REMAINING-VALUES\")\n",
    "display(p4 , b_heur_mrv)"
   ]
  },
  {
   "cell_type": "markdown",
   "metadata": {},
   "source": [
    "## Criação do problema Futoshiki *5x5*\n",
    "\n",
    "Mostrem que o código está a funcionar, construindo um problema de Futoshiki *5x5*, imprimindo as variáveis, domínios iniciais, e vizinhos. Adicione os comentários necessários. Utilize o [link](https://www.futoshiki.org/) para gerar puzzles e validar a implementação."
   ]
  },
  {
   "cell_type": "code",
   "execution_count": 125,
   "metadata": {},
   "outputs": [
    {
     "name": "stdout",
     "output_type": "stream",
     "text": [
      "variáveis: ['A1', 'B1', 'C1', 'D1', 'E1', 'A2', 'B2', 'C2', 'D2', 'E2', 'A3', 'B3', 'C3', 'D3', 'E3', 'A4', 'B4', 'C4', 'D4', 'E4', 'A5', 'B5', 'C5', 'D5', 'E5'] \n",
      "\n",
      "domínios iniciais: {'A1': [2], 'D3': [3], 'B1': [1, 3, 4, 5], 'C1': [1, 3, 4, 5], 'D1': [1, 4, 5], 'E1': [1, 3, 4, 5], 'A2': [1, 3, 4, 5], 'B2': [1, 2, 3, 4, 5], 'C2': [1, 2, 3, 4, 5], 'D2': [1, 2, 4, 5], 'E2': [1, 2, 3, 4, 5], 'A3': [1, 4, 5], 'B3': [1, 2, 4, 5], 'C3': [1, 2, 4, 5], 'E3': [1, 2, 4, 5], 'A4': [1, 3, 4, 5], 'B4': [1, 2, 3, 4, 5], 'C4': [1, 2, 3, 4, 5], 'D4': [1, 2, 4, 5], 'E4': [1, 2, 3, 4, 5], 'A5': [1, 3, 4, 5], 'B5': [1, 2, 3, 4, 5], 'C5': [1, 2, 3, 4, 5], 'D5': [1, 2, 4, 5], 'E5': [1, 2, 3, 4, 5]} \n",
      "\n",
      "vizinhos: defaultdict(<class 'list'>, {'A1': ['B1', 'C1', 'D1', 'E1', 'A2', 'A3', 'A4', 'A5'], 'B1': ['A1', 'C1', 'D1', 'E1', 'B2', 'B3', 'B4', 'B5'], 'C1': ['A1', 'B1', 'D1', 'E1', 'C2', 'C3', 'C4', 'C5'], 'D1': ['A1', 'B1', 'C1', 'E1', 'D2', 'D3', 'D4', 'D5'], 'E1': ['A1', 'B1', 'C1', 'D1', 'E2', 'E3', 'E4', 'E5'], 'A2': ['A1', 'B2', 'C2', 'D2', 'E2', 'A3', 'A4', 'A5'], 'A3': ['A1', 'A2', 'B3', 'C3', 'D3', 'E3', 'A4', 'A5'], 'A4': ['A1', 'A2', 'A3', 'B4', 'C4', 'D4', 'E4', 'A5'], 'A5': ['A1', 'A2', 'A3', 'A4', 'B5', 'C5', 'D5', 'E5'], 'B2': ['B1', 'A2', 'C2', 'D2', 'E2', 'B3', 'B4', 'B5'], 'B3': ['B1', 'B2', 'A3', 'C3', 'D3', 'E3', 'B4', 'B5'], 'B4': ['B1', 'B2', 'B3', 'A4', 'C4', 'D4', 'E4', 'B5'], 'B5': ['B1', 'B2', 'B3', 'B4', 'A5', 'C5', 'D5', 'E5'], 'C2': ['C1', 'A2', 'B2', 'D2', 'E2', 'C3', 'C4', 'C5'], 'C3': ['C1', 'C2', 'A3', 'B3', 'D3', 'E3', 'C4', 'C5'], 'C4': ['C1', 'C2', 'C3', 'A4', 'B4', 'D4', 'E4', 'C5'], 'C5': ['C1', 'C2', 'C3', 'C4', 'A5', 'B5', 'D5', 'E5'], 'D2': ['D1', 'A2', 'B2', 'C2', 'E2', 'D3', 'D4', 'D5'], 'D3': ['D1', 'D2', 'A3', 'B3', 'C3', 'E3', 'D4', 'D5'], 'D4': ['D1', 'D2', 'D3', 'A4', 'B4', 'C4', 'E4', 'D5'], 'D5': ['D1', 'D2', 'D3', 'D4', 'A5', 'B5', 'C5', 'E5'], 'E2': ['E1', 'A2', 'B2', 'C2', 'D2', 'E3', 'E4', 'E5'], 'E3': ['E1', 'E2', 'A3', 'B3', 'C3', 'D3', 'E4', 'E5'], 'E4': ['E1', 'E2', 'E3', 'A4', 'B4', 'C4', 'D4', 'E5'], 'E5': ['E1', 'E2', 'E3', 'E4', 'A5', 'B5', 'C5', 'D5']}) \n",
      "\n",
      "Afetações =  {'A1': 2, 'B1': 3, 'C1': 1, 'D1': 4, 'E1': 5, 'A2': 1, 'B2': 5, 'C2': 3, 'D2': 2, 'E2': 4, 'A3': 5, 'B3': 1, 'C3': 4, 'D3': 3, 'E3': 2, 'A4': 3, 'B4': 4, 'C4': 2, 'D4': 5, 'E4': 1, 'A5': 4, 'B5': 2, 'C5': 5, 'D5': 1, 'E5': 3}\n"
     ]
    }
   ],
   "source": [
    "#para a criação do problema futoshiki é necessário adicionar as restrições das inegualidades ao problema quadrado_latino\n",
    "p5 = quadrado_latino(len = 5, dom_quadrado = {'A1':2,'D3':3}, ineq = ['C2 < C3', 'A1 < B1', 'D3 < D4'])\n",
    "print ('variáveis:', p5.variables, '\\n')\n",
    "print ('domínios iniciais:', p5.domains, '\\n')\n",
    "print ('vizinhos:', p5.neighbors, '\\n')\n",
    "backtracking = backtracking_search(p5,verbose = False)\n",
    "print('Afetações = ', backtracking)"
   ]
  },
  {
   "cell_type": "markdown",
   "metadata": {},
   "source": [
    "Resolva o problema com o backtracking sem inferencia, com inferencia, e com uma heurística. Até que dimensão consegue resolver o problema em menos de 1 minuto?"
   ]
  },
  {
   "cell_type": "code",
   "execution_count": 126,
   "metadata": {},
   "outputs": [
    {
     "name": "stdout",
     "output_type": "stream",
     "text": [
      "Backtracking simples\n",
      "Afetações =  {'A1': 2, 'B1': 3, 'C1': 1, 'D1': 4, 'E1': 5, 'F1': 6, 'G1': 7, 'H1': 8, 'I1': 9, 'A2': 1, 'B2': 2, 'C2': 3, 'D2': 5, 'E2': 4, 'F2': 7, 'G2': 6, 'H2': 9, 'I2': 8, 'A3': 4, 'B3': 1, 'C3': 5, 'D3': 3, 'E3': 2, 'F3': 8, 'G3': 9, 'H3': 6, 'I3': 7, 'A4': 3, 'B4': 4, 'C4': 2, 'D4': 6, 'E4': 1, 'F4': 9, 'G4': 8, 'H4': 7, 'I4': 5, 'A5': 5, 'B5': 6, 'C5': 7, 'D5': 9, 'E5': 8, 'F5': 3, 'G5': 2, 'H5': 1, 'I5': 4, 'A6': 6, 'B6': 5, 'C6': 8, 'D6': 7, 'E6': 9, 'F6': 4, 'G6': 1, 'H6': 2, 'I6': 3, 'A7': 7, 'B7': 8, 'C7': 9, 'D7': 1, 'E7': 3, 'F7': 2, 'G7': 5, 'H7': 4, 'I7': 6, 'A8': 8, 'B8': 9, 'C8': 6, 'D8': 2, 'E8': 7, 'F8': 5, 'G8': 4, 'H8': 3, 'I8': 1, 'A9': 9, 'B9': 7, 'C9': 4, 'D9': 8, 'E9': 6, 'F9': 1, 'G9': 3, 'H9': 5, 'I9': 2}\n",
      "Tempo:  0.2615339000003587\n",
      "\n",
      "Backtracking com inferencia : forward checking\n",
      "Afetações =  {'A1': 2, 'B1': 3, 'C1': 1, 'D1': 4, 'E1': 5, 'F1': 6, 'G1': 7, 'H1': 8, 'I1': 9, 'A2': 1, 'B2': 2, 'C2': 3, 'D2': 5, 'E2': 4, 'F2': 7, 'G2': 6, 'H2': 9, 'I2': 8, 'A3': 4, 'B3': 1, 'C3': 5, 'D3': 3, 'E3': 2, 'F3': 8, 'G3': 9, 'H3': 6, 'I3': 7, 'A4': 3, 'B4': 4, 'C4': 2, 'D4': 6, 'E4': 1, 'F4': 9, 'G4': 8, 'H4': 7, 'I4': 5, 'A5': 5, 'B5': 6, 'C5': 7, 'D5': 9, 'E5': 8, 'F5': 3, 'G5': 2, 'H5': 1, 'I5': 4, 'A6': 6, 'B6': 5, 'C6': 8, 'D6': 7, 'E6': 9, 'F6': 1, 'G6': 4, 'H6': 3, 'I6': 2, 'A7': 7, 'B7': 8, 'C7': 9, 'D7': 2, 'E7': 3, 'F7': 4, 'G7': 1, 'H7': 5, 'I7': 6, 'A8': 8, 'B8': 9, 'C8': 6, 'D8': 1, 'E8': 7, 'F8': 2, 'G8': 5, 'H8': 4, 'I8': 3, 'A9': 9, 'B9': 7, 'C9': 4, 'D9': 8, 'E9': 6, 'F9': 5, 'G9': 3, 'H9': 2, 'I9': 1}\n",
      "Tempo:  0.07217680000030668\n",
      "\n",
      "Backtracking com inferencia : Mantain Arc Consistent\n",
      "Afetações =  {'A1': 2, 'B1': 3, 'C1': 1, 'D1': 4, 'E1': 5, 'F1': 6, 'G1': 7, 'H1': 8, 'I1': 9, 'A2': 1, 'B2': 2, 'C2': 3, 'D2': 5, 'E2': 4, 'F2': 7, 'G2': 6, 'H2': 9, 'I2': 8, 'A3': 4, 'B3': 1, 'C3': 5, 'D3': 3, 'E3': 2, 'F3': 8, 'G3': 9, 'H3': 6, 'I3': 7, 'A4': 3, 'B4': 4, 'C4': 2, 'D4': 6, 'E4': 1, 'F4': 9, 'G4': 8, 'H4': 7, 'I4': 5, 'A5': 5, 'B5': 6, 'C5': 7, 'D5': 9, 'E5': 8, 'F5': 3, 'G5': 1, 'H5': 2, 'I5': 4, 'A6': 6, 'B6': 5, 'C6': 8, 'D6': 7, 'E6': 9, 'F6': 4, 'G6': 3, 'H6': 1, 'I6': 2, 'A7': 7, 'B7': 8, 'C7': 9, 'D7': 2, 'E7': 6, 'F7': 5, 'G7': 4, 'H7': 3, 'I7': 1, 'A8': 8, 'B8': 9, 'C8': 6, 'D8': 1, 'E8': 7, 'F8': 2, 'G8': 5, 'H8': 4, 'I8': 3, 'A9': 9, 'B9': 7, 'C9': 4, 'D9': 8, 'E9': 3, 'F9': 1, 'G9': 2, 'H9': 5, 'I9': 6}\n",
      "Tempo:  0.7293567000015173\n",
      "\n",
      "Backtracking com heuristica : mrv\n"
     ]
    },
    {
     "ename": "KeyboardInterrupt",
     "evalue": "",
     "output_type": "error",
     "traceback": [
      "\u001b[1;31m---------------------------------------------------------------------------\u001b[0m",
      "\u001b[1;31mKeyboardInterrupt\u001b[0m                         Traceback (most recent call last)",
      "\u001b[1;32m<ipython-input-126-8fefefc7af7f>\u001b[0m in \u001b[0;36m<module>\u001b[1;34m\u001b[0m\n\u001b[0;32m     35\u001b[0m \u001b[0mp8\u001b[0m \u001b[1;33m=\u001b[0m \u001b[0mquadrado_latino\u001b[0m\u001b[1;33m(\u001b[0m\u001b[0mlen\u001b[0m \u001b[1;33m=\u001b[0m \u001b[0mdim\u001b[0m\u001b[1;33m,\u001b[0m \u001b[0mdom_quadrado\u001b[0m \u001b[1;33m=\u001b[0m \u001b[1;33m{\u001b[0m\u001b[1;34m'A1'\u001b[0m\u001b[1;33m:\u001b[0m\u001b[1;36m2\u001b[0m\u001b[1;33m,\u001b[0m\u001b[1;34m'D3'\u001b[0m\u001b[1;33m:\u001b[0m\u001b[1;36m3\u001b[0m\u001b[1;33m}\u001b[0m\u001b[1;33m,\u001b[0m \u001b[0mineq\u001b[0m \u001b[1;33m=\u001b[0m \u001b[1;33m[\u001b[0m\u001b[1;34m'C2 < C3'\u001b[0m\u001b[1;33m,\u001b[0m \u001b[1;34m'A1 < B1'\u001b[0m\u001b[1;33m,\u001b[0m \u001b[1;34m'D3 < D4'\u001b[0m\u001b[1;33m]\u001b[0m\u001b[1;33m)\u001b[0m\u001b[1;33m\u001b[0m\u001b[1;33m\u001b[0m\u001b[0m\n\u001b[0;32m     36\u001b[0m \u001b[0mstart4\u001b[0m \u001b[1;33m=\u001b[0m \u001b[0mtimeit\u001b[0m\u001b[1;33m.\u001b[0m\u001b[0mdefault_timer\u001b[0m\u001b[1;33m(\u001b[0m\u001b[1;33m)\u001b[0m\u001b[1;33m\u001b[0m\u001b[1;33m\u001b[0m\u001b[0m\n\u001b[1;32m---> 37\u001b[1;33m \u001b[0mb_heur_mrv\u001b[0m \u001b[1;33m=\u001b[0m \u001b[0mbacktracking_search\u001b[0m\u001b[1;33m(\u001b[0m\u001b[0mp8\u001b[0m\u001b[1;33m,\u001b[0m\u001b[0mselect_unassigned_variable\u001b[0m \u001b[1;33m=\u001b[0m \u001b[0mmrv\u001b[0m\u001b[1;33m,\u001b[0m \u001b[0mverbose\u001b[0m\u001b[1;33m=\u001b[0m\u001b[1;32mFalse\u001b[0m\u001b[1;33m)\u001b[0m\u001b[1;33m\u001b[0m\u001b[1;33m\u001b[0m\u001b[0m\n\u001b[0m\u001b[0;32m     38\u001b[0m \u001b[0mstop4\u001b[0m \u001b[1;33m=\u001b[0m \u001b[0mtimeit\u001b[0m\u001b[1;33m.\u001b[0m\u001b[0mdefault_timer\u001b[0m\u001b[1;33m(\u001b[0m\u001b[1;33m)\u001b[0m\u001b[1;33m\u001b[0m\u001b[1;33m\u001b[0m\u001b[0m\n\u001b[0;32m     39\u001b[0m \u001b[0mprint\u001b[0m\u001b[1;33m(\u001b[0m\u001b[1;34m'Afetações = '\u001b[0m\u001b[1;33m,\u001b[0m\u001b[0mb_heur_mrv\u001b[0m\u001b[1;33m)\u001b[0m\u001b[1;33m\u001b[0m\u001b[1;33m\u001b[0m\u001b[0m\n",
      "\u001b[1;32m~\\Desktop\\Sint\\projeto2-SI\\csp.py\u001b[0m in \u001b[0;36mbacktracking_search\u001b[1;34m(csp, select_unassigned_variable, order_domain_values, inference, verbose)\u001b[0m\n\u001b[0;32m    356\u001b[0m         \u001b[1;32mreturn\u001b[0m \u001b[1;32mNone\u001b[0m\u001b[1;33m\u001b[0m\u001b[1;33m\u001b[0m\u001b[0m\n\u001b[0;32m    357\u001b[0m \u001b[1;33m\u001b[0m\u001b[0m\n\u001b[1;32m--> 358\u001b[1;33m     \u001b[0mresult\u001b[0m \u001b[1;33m=\u001b[0m \u001b[0mbacktrack\u001b[0m\u001b[1;33m(\u001b[0m\u001b[1;33m{\u001b[0m\u001b[1;33m}\u001b[0m\u001b[1;33m)\u001b[0m\u001b[1;33m\u001b[0m\u001b[1;33m\u001b[0m\u001b[0m\n\u001b[0m\u001b[0;32m    359\u001b[0m     \u001b[1;32massert\u001b[0m \u001b[0mresult\u001b[0m \u001b[1;32mis\u001b[0m \u001b[1;32mNone\u001b[0m \u001b[1;32mor\u001b[0m \u001b[0mcsp\u001b[0m\u001b[1;33m.\u001b[0m\u001b[0mgoal_test\u001b[0m\u001b[1;33m(\u001b[0m\u001b[0mresult\u001b[0m\u001b[1;33m)\u001b[0m\u001b[1;33m\u001b[0m\u001b[1;33m\u001b[0m\u001b[0m\n\u001b[0;32m    360\u001b[0m     \u001b[1;32mreturn\u001b[0m \u001b[0mresult\u001b[0m\u001b[1;33m\u001b[0m\u001b[1;33m\u001b[0m\u001b[0m\n",
      "\u001b[1;32m~\\Desktop\\Sint\\projeto2-SI\\csp.py\u001b[0m in \u001b[0;36mbacktrack\u001b[1;34m(assignment)\u001b[0m\n\u001b[0;32m    343\u001b[0m                     \u001b[1;32mif\u001b[0m \u001b[0mverbose\u001b[0m\u001b[1;33m:\u001b[0m\u001b[1;33m\u001b[0m\u001b[1;33m\u001b[0m\u001b[0m\n\u001b[0;32m    344\u001b[0m                         \u001b[0mprint\u001b[0m\u001b[1;33m(\u001b[0m\u001b[1;34m'----Assigned!'\u001b[0m\u001b[1;33m)\u001b[0m\u001b[1;33m\u001b[0m\u001b[1;33m\u001b[0m\u001b[0m\n\u001b[1;32m--> 345\u001b[1;33m                     \u001b[0mresult\u001b[0m \u001b[1;33m=\u001b[0m \u001b[0mbacktrack\u001b[0m\u001b[1;33m(\u001b[0m\u001b[0massignment\u001b[0m\u001b[1;33m)\u001b[0m\u001b[1;33m\u001b[0m\u001b[1;33m\u001b[0m\u001b[0m\n\u001b[0m\u001b[0;32m    346\u001b[0m                     \u001b[1;32mif\u001b[0m \u001b[0mresult\u001b[0m \u001b[1;32mis\u001b[0m \u001b[1;32mnot\u001b[0m \u001b[1;32mNone\u001b[0m\u001b[1;33m:\u001b[0m\u001b[1;33m\u001b[0m\u001b[1;33m\u001b[0m\u001b[0m\n\u001b[0;32m    347\u001b[0m                         \u001b[1;32mreturn\u001b[0m \u001b[0mresult\u001b[0m\u001b[1;33m\u001b[0m\u001b[1;33m\u001b[0m\u001b[0m\n",
      "\u001b[1;32m~\\Desktop\\Sint\\projeto2-SI\\csp.py\u001b[0m in \u001b[0;36mbacktrack\u001b[1;34m(assignment)\u001b[0m\n\u001b[0;32m    343\u001b[0m                     \u001b[1;32mif\u001b[0m \u001b[0mverbose\u001b[0m\u001b[1;33m:\u001b[0m\u001b[1;33m\u001b[0m\u001b[1;33m\u001b[0m\u001b[0m\n\u001b[0;32m    344\u001b[0m                         \u001b[0mprint\u001b[0m\u001b[1;33m(\u001b[0m\u001b[1;34m'----Assigned!'\u001b[0m\u001b[1;33m)\u001b[0m\u001b[1;33m\u001b[0m\u001b[1;33m\u001b[0m\u001b[0m\n\u001b[1;32m--> 345\u001b[1;33m                     \u001b[0mresult\u001b[0m \u001b[1;33m=\u001b[0m \u001b[0mbacktrack\u001b[0m\u001b[1;33m(\u001b[0m\u001b[0massignment\u001b[0m\u001b[1;33m)\u001b[0m\u001b[1;33m\u001b[0m\u001b[1;33m\u001b[0m\u001b[0m\n\u001b[0m\u001b[0;32m    346\u001b[0m                     \u001b[1;32mif\u001b[0m \u001b[0mresult\u001b[0m \u001b[1;32mis\u001b[0m \u001b[1;32mnot\u001b[0m \u001b[1;32mNone\u001b[0m\u001b[1;33m:\u001b[0m\u001b[1;33m\u001b[0m\u001b[1;33m\u001b[0m\u001b[0m\n\u001b[0;32m    347\u001b[0m                         \u001b[1;32mreturn\u001b[0m \u001b[0mresult\u001b[0m\u001b[1;33m\u001b[0m\u001b[1;33m\u001b[0m\u001b[0m\n",
      "\u001b[1;32m~\\Desktop\\Sint\\projeto2-SI\\csp.py\u001b[0m in \u001b[0;36mbacktrack\u001b[1;34m(assignment)\u001b[0m\n\u001b[0;32m    343\u001b[0m                     \u001b[1;32mif\u001b[0m \u001b[0mverbose\u001b[0m\u001b[1;33m:\u001b[0m\u001b[1;33m\u001b[0m\u001b[1;33m\u001b[0m\u001b[0m\n\u001b[0;32m    344\u001b[0m                         \u001b[0mprint\u001b[0m\u001b[1;33m(\u001b[0m\u001b[1;34m'----Assigned!'\u001b[0m\u001b[1;33m)\u001b[0m\u001b[1;33m\u001b[0m\u001b[1;33m\u001b[0m\u001b[0m\n\u001b[1;32m--> 345\u001b[1;33m                     \u001b[0mresult\u001b[0m \u001b[1;33m=\u001b[0m \u001b[0mbacktrack\u001b[0m\u001b[1;33m(\u001b[0m\u001b[0massignment\u001b[0m\u001b[1;33m)\u001b[0m\u001b[1;33m\u001b[0m\u001b[1;33m\u001b[0m\u001b[0m\n\u001b[0m\u001b[0;32m    346\u001b[0m                     \u001b[1;32mif\u001b[0m \u001b[0mresult\u001b[0m \u001b[1;32mis\u001b[0m \u001b[1;32mnot\u001b[0m \u001b[1;32mNone\u001b[0m\u001b[1;33m:\u001b[0m\u001b[1;33m\u001b[0m\u001b[1;33m\u001b[0m\u001b[0m\n\u001b[0;32m    347\u001b[0m                         \u001b[1;32mreturn\u001b[0m \u001b[0mresult\u001b[0m\u001b[1;33m\u001b[0m\u001b[1;33m\u001b[0m\u001b[0m\n",
      "\u001b[1;32m~\\Desktop\\Sint\\projeto2-SI\\csp.py\u001b[0m in \u001b[0;36mbacktrack\u001b[1;34m(assignment)\u001b[0m\n\u001b[0;32m    343\u001b[0m                     \u001b[1;32mif\u001b[0m \u001b[0mverbose\u001b[0m\u001b[1;33m:\u001b[0m\u001b[1;33m\u001b[0m\u001b[1;33m\u001b[0m\u001b[0m\n\u001b[0;32m    344\u001b[0m                         \u001b[0mprint\u001b[0m\u001b[1;33m(\u001b[0m\u001b[1;34m'----Assigned!'\u001b[0m\u001b[1;33m)\u001b[0m\u001b[1;33m\u001b[0m\u001b[1;33m\u001b[0m\u001b[0m\n\u001b[1;32m--> 345\u001b[1;33m                     \u001b[0mresult\u001b[0m \u001b[1;33m=\u001b[0m \u001b[0mbacktrack\u001b[0m\u001b[1;33m(\u001b[0m\u001b[0massignment\u001b[0m\u001b[1;33m)\u001b[0m\u001b[1;33m\u001b[0m\u001b[1;33m\u001b[0m\u001b[0m\n\u001b[0m\u001b[0;32m    346\u001b[0m                     \u001b[1;32mif\u001b[0m \u001b[0mresult\u001b[0m \u001b[1;32mis\u001b[0m \u001b[1;32mnot\u001b[0m \u001b[1;32mNone\u001b[0m\u001b[1;33m:\u001b[0m\u001b[1;33m\u001b[0m\u001b[1;33m\u001b[0m\u001b[0m\n\u001b[0;32m    347\u001b[0m                         \u001b[1;32mreturn\u001b[0m \u001b[0mresult\u001b[0m\u001b[1;33m\u001b[0m\u001b[1;33m\u001b[0m\u001b[0m\n",
      "\u001b[1;32m~\\Desktop\\Sint\\projeto2-SI\\csp.py\u001b[0m in \u001b[0;36mbacktrack\u001b[1;34m(assignment)\u001b[0m\n\u001b[0;32m    343\u001b[0m                     \u001b[1;32mif\u001b[0m \u001b[0mverbose\u001b[0m\u001b[1;33m:\u001b[0m\u001b[1;33m\u001b[0m\u001b[1;33m\u001b[0m\u001b[0m\n\u001b[0;32m    344\u001b[0m                         \u001b[0mprint\u001b[0m\u001b[1;33m(\u001b[0m\u001b[1;34m'----Assigned!'\u001b[0m\u001b[1;33m)\u001b[0m\u001b[1;33m\u001b[0m\u001b[1;33m\u001b[0m\u001b[0m\n\u001b[1;32m--> 345\u001b[1;33m                     \u001b[0mresult\u001b[0m \u001b[1;33m=\u001b[0m \u001b[0mbacktrack\u001b[0m\u001b[1;33m(\u001b[0m\u001b[0massignment\u001b[0m\u001b[1;33m)\u001b[0m\u001b[1;33m\u001b[0m\u001b[1;33m\u001b[0m\u001b[0m\n\u001b[0m\u001b[0;32m    346\u001b[0m                     \u001b[1;32mif\u001b[0m \u001b[0mresult\u001b[0m \u001b[1;32mis\u001b[0m \u001b[1;32mnot\u001b[0m \u001b[1;32mNone\u001b[0m\u001b[1;33m:\u001b[0m\u001b[1;33m\u001b[0m\u001b[1;33m\u001b[0m\u001b[0m\n\u001b[0;32m    347\u001b[0m                         \u001b[1;32mreturn\u001b[0m \u001b[0mresult\u001b[0m\u001b[1;33m\u001b[0m\u001b[1;33m\u001b[0m\u001b[0m\n",
      "\u001b[1;32m~\\Desktop\\Sint\\projeto2-SI\\csp.py\u001b[0m in \u001b[0;36mbacktrack\u001b[1;34m(assignment)\u001b[0m\n\u001b[0;32m    343\u001b[0m                     \u001b[1;32mif\u001b[0m \u001b[0mverbose\u001b[0m\u001b[1;33m:\u001b[0m\u001b[1;33m\u001b[0m\u001b[1;33m\u001b[0m\u001b[0m\n\u001b[0;32m    344\u001b[0m                         \u001b[0mprint\u001b[0m\u001b[1;33m(\u001b[0m\u001b[1;34m'----Assigned!'\u001b[0m\u001b[1;33m)\u001b[0m\u001b[1;33m\u001b[0m\u001b[1;33m\u001b[0m\u001b[0m\n\u001b[1;32m--> 345\u001b[1;33m                     \u001b[0mresult\u001b[0m \u001b[1;33m=\u001b[0m \u001b[0mbacktrack\u001b[0m\u001b[1;33m(\u001b[0m\u001b[0massignment\u001b[0m\u001b[1;33m)\u001b[0m\u001b[1;33m\u001b[0m\u001b[1;33m\u001b[0m\u001b[0m\n\u001b[0m\u001b[0;32m    346\u001b[0m                     \u001b[1;32mif\u001b[0m \u001b[0mresult\u001b[0m \u001b[1;32mis\u001b[0m \u001b[1;32mnot\u001b[0m \u001b[1;32mNone\u001b[0m\u001b[1;33m:\u001b[0m\u001b[1;33m\u001b[0m\u001b[1;33m\u001b[0m\u001b[0m\n\u001b[0;32m    347\u001b[0m                         \u001b[1;32mreturn\u001b[0m \u001b[0mresult\u001b[0m\u001b[1;33m\u001b[0m\u001b[1;33m\u001b[0m\u001b[0m\n",
      "\u001b[1;32m~\\Desktop\\Sint\\projeto2-SI\\csp.py\u001b[0m in \u001b[0;36mbacktrack\u001b[1;34m(assignment)\u001b[0m\n\u001b[0;32m    343\u001b[0m                     \u001b[1;32mif\u001b[0m \u001b[0mverbose\u001b[0m\u001b[1;33m:\u001b[0m\u001b[1;33m\u001b[0m\u001b[1;33m\u001b[0m\u001b[0m\n\u001b[0;32m    344\u001b[0m                         \u001b[0mprint\u001b[0m\u001b[1;33m(\u001b[0m\u001b[1;34m'----Assigned!'\u001b[0m\u001b[1;33m)\u001b[0m\u001b[1;33m\u001b[0m\u001b[1;33m\u001b[0m\u001b[0m\n\u001b[1;32m--> 345\u001b[1;33m                     \u001b[0mresult\u001b[0m \u001b[1;33m=\u001b[0m \u001b[0mbacktrack\u001b[0m\u001b[1;33m(\u001b[0m\u001b[0massignment\u001b[0m\u001b[1;33m)\u001b[0m\u001b[1;33m\u001b[0m\u001b[1;33m\u001b[0m\u001b[0m\n\u001b[0m\u001b[0;32m    346\u001b[0m                     \u001b[1;32mif\u001b[0m \u001b[0mresult\u001b[0m \u001b[1;32mis\u001b[0m \u001b[1;32mnot\u001b[0m \u001b[1;32mNone\u001b[0m\u001b[1;33m:\u001b[0m\u001b[1;33m\u001b[0m\u001b[1;33m\u001b[0m\u001b[0m\n\u001b[0;32m    347\u001b[0m                         \u001b[1;32mreturn\u001b[0m \u001b[0mresult\u001b[0m\u001b[1;33m\u001b[0m\u001b[1;33m\u001b[0m\u001b[0m\n",
      "\u001b[1;32m~\\Desktop\\Sint\\projeto2-SI\\csp.py\u001b[0m in \u001b[0;36mbacktrack\u001b[1;34m(assignment)\u001b[0m\n\u001b[0;32m    343\u001b[0m                     \u001b[1;32mif\u001b[0m \u001b[0mverbose\u001b[0m\u001b[1;33m:\u001b[0m\u001b[1;33m\u001b[0m\u001b[1;33m\u001b[0m\u001b[0m\n\u001b[0;32m    344\u001b[0m                         \u001b[0mprint\u001b[0m\u001b[1;33m(\u001b[0m\u001b[1;34m'----Assigned!'\u001b[0m\u001b[1;33m)\u001b[0m\u001b[1;33m\u001b[0m\u001b[1;33m\u001b[0m\u001b[0m\n\u001b[1;32m--> 345\u001b[1;33m                     \u001b[0mresult\u001b[0m \u001b[1;33m=\u001b[0m \u001b[0mbacktrack\u001b[0m\u001b[1;33m(\u001b[0m\u001b[0massignment\u001b[0m\u001b[1;33m)\u001b[0m\u001b[1;33m\u001b[0m\u001b[1;33m\u001b[0m\u001b[0m\n\u001b[0m\u001b[0;32m    346\u001b[0m                     \u001b[1;32mif\u001b[0m \u001b[0mresult\u001b[0m \u001b[1;32mis\u001b[0m \u001b[1;32mnot\u001b[0m \u001b[1;32mNone\u001b[0m\u001b[1;33m:\u001b[0m\u001b[1;33m\u001b[0m\u001b[1;33m\u001b[0m\u001b[0m\n\u001b[0;32m    347\u001b[0m                         \u001b[1;32mreturn\u001b[0m \u001b[0mresult\u001b[0m\u001b[1;33m\u001b[0m\u001b[1;33m\u001b[0m\u001b[0m\n",
      "\u001b[1;32m~\\Desktop\\Sint\\projeto2-SI\\csp.py\u001b[0m in \u001b[0;36mbacktrack\u001b[1;34m(assignment)\u001b[0m\n\u001b[0;32m    343\u001b[0m                     \u001b[1;32mif\u001b[0m \u001b[0mverbose\u001b[0m\u001b[1;33m:\u001b[0m\u001b[1;33m\u001b[0m\u001b[1;33m\u001b[0m\u001b[0m\n\u001b[0;32m    344\u001b[0m                         \u001b[0mprint\u001b[0m\u001b[1;33m(\u001b[0m\u001b[1;34m'----Assigned!'\u001b[0m\u001b[1;33m)\u001b[0m\u001b[1;33m\u001b[0m\u001b[1;33m\u001b[0m\u001b[0m\n\u001b[1;32m--> 345\u001b[1;33m                     \u001b[0mresult\u001b[0m \u001b[1;33m=\u001b[0m \u001b[0mbacktrack\u001b[0m\u001b[1;33m(\u001b[0m\u001b[0massignment\u001b[0m\u001b[1;33m)\u001b[0m\u001b[1;33m\u001b[0m\u001b[1;33m\u001b[0m\u001b[0m\n\u001b[0m\u001b[0;32m    346\u001b[0m                     \u001b[1;32mif\u001b[0m \u001b[0mresult\u001b[0m \u001b[1;32mis\u001b[0m \u001b[1;32mnot\u001b[0m \u001b[1;32mNone\u001b[0m\u001b[1;33m:\u001b[0m\u001b[1;33m\u001b[0m\u001b[1;33m\u001b[0m\u001b[0m\n\u001b[0;32m    347\u001b[0m                         \u001b[1;32mreturn\u001b[0m \u001b[0mresult\u001b[0m\u001b[1;33m\u001b[0m\u001b[1;33m\u001b[0m\u001b[0m\n",
      "\u001b[1;32m~\\Desktop\\Sint\\projeto2-SI\\csp.py\u001b[0m in \u001b[0;36mbacktrack\u001b[1;34m(assignment)\u001b[0m\n\u001b[0;32m    343\u001b[0m                     \u001b[1;32mif\u001b[0m \u001b[0mverbose\u001b[0m\u001b[1;33m:\u001b[0m\u001b[1;33m\u001b[0m\u001b[1;33m\u001b[0m\u001b[0m\n\u001b[0;32m    344\u001b[0m                         \u001b[0mprint\u001b[0m\u001b[1;33m(\u001b[0m\u001b[1;34m'----Assigned!'\u001b[0m\u001b[1;33m)\u001b[0m\u001b[1;33m\u001b[0m\u001b[1;33m\u001b[0m\u001b[0m\n\u001b[1;32m--> 345\u001b[1;33m                     \u001b[0mresult\u001b[0m \u001b[1;33m=\u001b[0m \u001b[0mbacktrack\u001b[0m\u001b[1;33m(\u001b[0m\u001b[0massignment\u001b[0m\u001b[1;33m)\u001b[0m\u001b[1;33m\u001b[0m\u001b[1;33m\u001b[0m\u001b[0m\n\u001b[0m\u001b[0;32m    346\u001b[0m                     \u001b[1;32mif\u001b[0m \u001b[0mresult\u001b[0m \u001b[1;32mis\u001b[0m \u001b[1;32mnot\u001b[0m \u001b[1;32mNone\u001b[0m\u001b[1;33m:\u001b[0m\u001b[1;33m\u001b[0m\u001b[1;33m\u001b[0m\u001b[0m\n\u001b[0;32m    347\u001b[0m                         \u001b[1;32mreturn\u001b[0m \u001b[0mresult\u001b[0m\u001b[1;33m\u001b[0m\u001b[1;33m\u001b[0m\u001b[0m\n",
      "\u001b[1;32m~\\Desktop\\Sint\\projeto2-SI\\csp.py\u001b[0m in \u001b[0;36mbacktrack\u001b[1;34m(assignment)\u001b[0m\n\u001b[0;32m    343\u001b[0m                     \u001b[1;32mif\u001b[0m \u001b[0mverbose\u001b[0m\u001b[1;33m:\u001b[0m\u001b[1;33m\u001b[0m\u001b[1;33m\u001b[0m\u001b[0m\n\u001b[0;32m    344\u001b[0m                         \u001b[0mprint\u001b[0m\u001b[1;33m(\u001b[0m\u001b[1;34m'----Assigned!'\u001b[0m\u001b[1;33m)\u001b[0m\u001b[1;33m\u001b[0m\u001b[1;33m\u001b[0m\u001b[0m\n\u001b[1;32m--> 345\u001b[1;33m                     \u001b[0mresult\u001b[0m \u001b[1;33m=\u001b[0m \u001b[0mbacktrack\u001b[0m\u001b[1;33m(\u001b[0m\u001b[0massignment\u001b[0m\u001b[1;33m)\u001b[0m\u001b[1;33m\u001b[0m\u001b[1;33m\u001b[0m\u001b[0m\n\u001b[0m\u001b[0;32m    346\u001b[0m                     \u001b[1;32mif\u001b[0m \u001b[0mresult\u001b[0m \u001b[1;32mis\u001b[0m \u001b[1;32mnot\u001b[0m \u001b[1;32mNone\u001b[0m\u001b[1;33m:\u001b[0m\u001b[1;33m\u001b[0m\u001b[1;33m\u001b[0m\u001b[0m\n\u001b[0;32m    347\u001b[0m                         \u001b[1;32mreturn\u001b[0m \u001b[0mresult\u001b[0m\u001b[1;33m\u001b[0m\u001b[1;33m\u001b[0m\u001b[0m\n",
      "\u001b[1;32m~\\Desktop\\Sint\\projeto2-SI\\csp.py\u001b[0m in \u001b[0;36mbacktrack\u001b[1;34m(assignment)\u001b[0m\n\u001b[0;32m    343\u001b[0m                     \u001b[1;32mif\u001b[0m \u001b[0mverbose\u001b[0m\u001b[1;33m:\u001b[0m\u001b[1;33m\u001b[0m\u001b[1;33m\u001b[0m\u001b[0m\n\u001b[0;32m    344\u001b[0m                         \u001b[0mprint\u001b[0m\u001b[1;33m(\u001b[0m\u001b[1;34m'----Assigned!'\u001b[0m\u001b[1;33m)\u001b[0m\u001b[1;33m\u001b[0m\u001b[1;33m\u001b[0m\u001b[0m\n\u001b[1;32m--> 345\u001b[1;33m                     \u001b[0mresult\u001b[0m \u001b[1;33m=\u001b[0m \u001b[0mbacktrack\u001b[0m\u001b[1;33m(\u001b[0m\u001b[0massignment\u001b[0m\u001b[1;33m)\u001b[0m\u001b[1;33m\u001b[0m\u001b[1;33m\u001b[0m\u001b[0m\n\u001b[0m\u001b[0;32m    346\u001b[0m                     \u001b[1;32mif\u001b[0m \u001b[0mresult\u001b[0m \u001b[1;32mis\u001b[0m \u001b[1;32mnot\u001b[0m \u001b[1;32mNone\u001b[0m\u001b[1;33m:\u001b[0m\u001b[1;33m\u001b[0m\u001b[1;33m\u001b[0m\u001b[0m\n\u001b[0;32m    347\u001b[0m                         \u001b[1;32mreturn\u001b[0m \u001b[0mresult\u001b[0m\u001b[1;33m\u001b[0m\u001b[1;33m\u001b[0m\u001b[0m\n",
      "\u001b[1;32m~\\Desktop\\Sint\\projeto2-SI\\csp.py\u001b[0m in \u001b[0;36mbacktrack\u001b[1;34m(assignment)\u001b[0m\n\u001b[0;32m    343\u001b[0m                     \u001b[1;32mif\u001b[0m \u001b[0mverbose\u001b[0m\u001b[1;33m:\u001b[0m\u001b[1;33m\u001b[0m\u001b[1;33m\u001b[0m\u001b[0m\n\u001b[0;32m    344\u001b[0m                         \u001b[0mprint\u001b[0m\u001b[1;33m(\u001b[0m\u001b[1;34m'----Assigned!'\u001b[0m\u001b[1;33m)\u001b[0m\u001b[1;33m\u001b[0m\u001b[1;33m\u001b[0m\u001b[0m\n\u001b[1;32m--> 345\u001b[1;33m                     \u001b[0mresult\u001b[0m \u001b[1;33m=\u001b[0m \u001b[0mbacktrack\u001b[0m\u001b[1;33m(\u001b[0m\u001b[0massignment\u001b[0m\u001b[1;33m)\u001b[0m\u001b[1;33m\u001b[0m\u001b[1;33m\u001b[0m\u001b[0m\n\u001b[0m\u001b[0;32m    346\u001b[0m                     \u001b[1;32mif\u001b[0m \u001b[0mresult\u001b[0m \u001b[1;32mis\u001b[0m \u001b[1;32mnot\u001b[0m \u001b[1;32mNone\u001b[0m\u001b[1;33m:\u001b[0m\u001b[1;33m\u001b[0m\u001b[1;33m\u001b[0m\u001b[0m\n\u001b[0;32m    347\u001b[0m                         \u001b[1;32mreturn\u001b[0m \u001b[0mresult\u001b[0m\u001b[1;33m\u001b[0m\u001b[1;33m\u001b[0m\u001b[0m\n",
      "\u001b[1;32m~\\Desktop\\Sint\\projeto2-SI\\csp.py\u001b[0m in \u001b[0;36mbacktrack\u001b[1;34m(assignment)\u001b[0m\n\u001b[0;32m    343\u001b[0m                     \u001b[1;32mif\u001b[0m \u001b[0mverbose\u001b[0m\u001b[1;33m:\u001b[0m\u001b[1;33m\u001b[0m\u001b[1;33m\u001b[0m\u001b[0m\n\u001b[0;32m    344\u001b[0m                         \u001b[0mprint\u001b[0m\u001b[1;33m(\u001b[0m\u001b[1;34m'----Assigned!'\u001b[0m\u001b[1;33m)\u001b[0m\u001b[1;33m\u001b[0m\u001b[1;33m\u001b[0m\u001b[0m\n\u001b[1;32m--> 345\u001b[1;33m                     \u001b[0mresult\u001b[0m \u001b[1;33m=\u001b[0m \u001b[0mbacktrack\u001b[0m\u001b[1;33m(\u001b[0m\u001b[0massignment\u001b[0m\u001b[1;33m)\u001b[0m\u001b[1;33m\u001b[0m\u001b[1;33m\u001b[0m\u001b[0m\n\u001b[0m\u001b[0;32m    346\u001b[0m                     \u001b[1;32mif\u001b[0m \u001b[0mresult\u001b[0m \u001b[1;32mis\u001b[0m \u001b[1;32mnot\u001b[0m \u001b[1;32mNone\u001b[0m\u001b[1;33m:\u001b[0m\u001b[1;33m\u001b[0m\u001b[1;33m\u001b[0m\u001b[0m\n\u001b[0;32m    347\u001b[0m                         \u001b[1;32mreturn\u001b[0m \u001b[0mresult\u001b[0m\u001b[1;33m\u001b[0m\u001b[1;33m\u001b[0m\u001b[0m\n",
      "\u001b[1;32m~\\Desktop\\Sint\\projeto2-SI\\csp.py\u001b[0m in \u001b[0;36mbacktrack\u001b[1;34m(assignment)\u001b[0m\n\u001b[0;32m    343\u001b[0m                     \u001b[1;32mif\u001b[0m \u001b[0mverbose\u001b[0m\u001b[1;33m:\u001b[0m\u001b[1;33m\u001b[0m\u001b[1;33m\u001b[0m\u001b[0m\n\u001b[0;32m    344\u001b[0m                         \u001b[0mprint\u001b[0m\u001b[1;33m(\u001b[0m\u001b[1;34m'----Assigned!'\u001b[0m\u001b[1;33m)\u001b[0m\u001b[1;33m\u001b[0m\u001b[1;33m\u001b[0m\u001b[0m\n\u001b[1;32m--> 345\u001b[1;33m                     \u001b[0mresult\u001b[0m \u001b[1;33m=\u001b[0m \u001b[0mbacktrack\u001b[0m\u001b[1;33m(\u001b[0m\u001b[0massignment\u001b[0m\u001b[1;33m)\u001b[0m\u001b[1;33m\u001b[0m\u001b[1;33m\u001b[0m\u001b[0m\n\u001b[0m\u001b[0;32m    346\u001b[0m                     \u001b[1;32mif\u001b[0m \u001b[0mresult\u001b[0m \u001b[1;32mis\u001b[0m \u001b[1;32mnot\u001b[0m \u001b[1;32mNone\u001b[0m\u001b[1;33m:\u001b[0m\u001b[1;33m\u001b[0m\u001b[1;33m\u001b[0m\u001b[0m\n\u001b[0;32m    347\u001b[0m                         \u001b[1;32mreturn\u001b[0m \u001b[0mresult\u001b[0m\u001b[1;33m\u001b[0m\u001b[1;33m\u001b[0m\u001b[0m\n",
      "\u001b[1;32m~\\Desktop\\Sint\\projeto2-SI\\csp.py\u001b[0m in \u001b[0;36mbacktrack\u001b[1;34m(assignment)\u001b[0m\n\u001b[0;32m    343\u001b[0m                     \u001b[1;32mif\u001b[0m \u001b[0mverbose\u001b[0m\u001b[1;33m:\u001b[0m\u001b[1;33m\u001b[0m\u001b[1;33m\u001b[0m\u001b[0m\n\u001b[0;32m    344\u001b[0m                         \u001b[0mprint\u001b[0m\u001b[1;33m(\u001b[0m\u001b[1;34m'----Assigned!'\u001b[0m\u001b[1;33m)\u001b[0m\u001b[1;33m\u001b[0m\u001b[1;33m\u001b[0m\u001b[0m\n\u001b[1;32m--> 345\u001b[1;33m                     \u001b[0mresult\u001b[0m \u001b[1;33m=\u001b[0m \u001b[0mbacktrack\u001b[0m\u001b[1;33m(\u001b[0m\u001b[0massignment\u001b[0m\u001b[1;33m)\u001b[0m\u001b[1;33m\u001b[0m\u001b[1;33m\u001b[0m\u001b[0m\n\u001b[0m\u001b[0;32m    346\u001b[0m                     \u001b[1;32mif\u001b[0m \u001b[0mresult\u001b[0m \u001b[1;32mis\u001b[0m \u001b[1;32mnot\u001b[0m \u001b[1;32mNone\u001b[0m\u001b[1;33m:\u001b[0m\u001b[1;33m\u001b[0m\u001b[1;33m\u001b[0m\u001b[0m\n\u001b[0;32m    347\u001b[0m                         \u001b[1;32mreturn\u001b[0m \u001b[0mresult\u001b[0m\u001b[1;33m\u001b[0m\u001b[1;33m\u001b[0m\u001b[0m\n",
      "\u001b[1;32m~\\Desktop\\Sint\\projeto2-SI\\csp.py\u001b[0m in \u001b[0;36mbacktrack\u001b[1;34m(assignment)\u001b[0m\n\u001b[0;32m    343\u001b[0m                     \u001b[1;32mif\u001b[0m \u001b[0mverbose\u001b[0m\u001b[1;33m:\u001b[0m\u001b[1;33m\u001b[0m\u001b[1;33m\u001b[0m\u001b[0m\n\u001b[0;32m    344\u001b[0m                         \u001b[0mprint\u001b[0m\u001b[1;33m(\u001b[0m\u001b[1;34m'----Assigned!'\u001b[0m\u001b[1;33m)\u001b[0m\u001b[1;33m\u001b[0m\u001b[1;33m\u001b[0m\u001b[0m\n\u001b[1;32m--> 345\u001b[1;33m                     \u001b[0mresult\u001b[0m \u001b[1;33m=\u001b[0m \u001b[0mbacktrack\u001b[0m\u001b[1;33m(\u001b[0m\u001b[0massignment\u001b[0m\u001b[1;33m)\u001b[0m\u001b[1;33m\u001b[0m\u001b[1;33m\u001b[0m\u001b[0m\n\u001b[0m\u001b[0;32m    346\u001b[0m                     \u001b[1;32mif\u001b[0m \u001b[0mresult\u001b[0m \u001b[1;32mis\u001b[0m \u001b[1;32mnot\u001b[0m \u001b[1;32mNone\u001b[0m\u001b[1;33m:\u001b[0m\u001b[1;33m\u001b[0m\u001b[1;33m\u001b[0m\u001b[0m\n\u001b[0;32m    347\u001b[0m                         \u001b[1;32mreturn\u001b[0m \u001b[0mresult\u001b[0m\u001b[1;33m\u001b[0m\u001b[1;33m\u001b[0m\u001b[0m\n",
      "\u001b[1;32m~\\Desktop\\Sint\\projeto2-SI\\csp.py\u001b[0m in \u001b[0;36mbacktrack\u001b[1;34m(assignment)\u001b[0m\n\u001b[0;32m    343\u001b[0m                     \u001b[1;32mif\u001b[0m \u001b[0mverbose\u001b[0m\u001b[1;33m:\u001b[0m\u001b[1;33m\u001b[0m\u001b[1;33m\u001b[0m\u001b[0m\n\u001b[0;32m    344\u001b[0m                         \u001b[0mprint\u001b[0m\u001b[1;33m(\u001b[0m\u001b[1;34m'----Assigned!'\u001b[0m\u001b[1;33m)\u001b[0m\u001b[1;33m\u001b[0m\u001b[1;33m\u001b[0m\u001b[0m\n\u001b[1;32m--> 345\u001b[1;33m                     \u001b[0mresult\u001b[0m \u001b[1;33m=\u001b[0m \u001b[0mbacktrack\u001b[0m\u001b[1;33m(\u001b[0m\u001b[0massignment\u001b[0m\u001b[1;33m)\u001b[0m\u001b[1;33m\u001b[0m\u001b[1;33m\u001b[0m\u001b[0m\n\u001b[0m\u001b[0;32m    346\u001b[0m                     \u001b[1;32mif\u001b[0m \u001b[0mresult\u001b[0m \u001b[1;32mis\u001b[0m \u001b[1;32mnot\u001b[0m \u001b[1;32mNone\u001b[0m\u001b[1;33m:\u001b[0m\u001b[1;33m\u001b[0m\u001b[1;33m\u001b[0m\u001b[0m\n\u001b[0;32m    347\u001b[0m                         \u001b[1;32mreturn\u001b[0m \u001b[0mresult\u001b[0m\u001b[1;33m\u001b[0m\u001b[1;33m\u001b[0m\u001b[0m\n",
      "\u001b[1;32m~\\Desktop\\Sint\\projeto2-SI\\csp.py\u001b[0m in \u001b[0;36mbacktrack\u001b[1;34m(assignment)\u001b[0m\n\u001b[0;32m    343\u001b[0m                     \u001b[1;32mif\u001b[0m \u001b[0mverbose\u001b[0m\u001b[1;33m:\u001b[0m\u001b[1;33m\u001b[0m\u001b[1;33m\u001b[0m\u001b[0m\n\u001b[0;32m    344\u001b[0m                         \u001b[0mprint\u001b[0m\u001b[1;33m(\u001b[0m\u001b[1;34m'----Assigned!'\u001b[0m\u001b[1;33m)\u001b[0m\u001b[1;33m\u001b[0m\u001b[1;33m\u001b[0m\u001b[0m\n\u001b[1;32m--> 345\u001b[1;33m                     \u001b[0mresult\u001b[0m \u001b[1;33m=\u001b[0m \u001b[0mbacktrack\u001b[0m\u001b[1;33m(\u001b[0m\u001b[0massignment\u001b[0m\u001b[1;33m)\u001b[0m\u001b[1;33m\u001b[0m\u001b[1;33m\u001b[0m\u001b[0m\n\u001b[0m\u001b[0;32m    346\u001b[0m                     \u001b[1;32mif\u001b[0m \u001b[0mresult\u001b[0m \u001b[1;32mis\u001b[0m \u001b[1;32mnot\u001b[0m \u001b[1;32mNone\u001b[0m\u001b[1;33m:\u001b[0m\u001b[1;33m\u001b[0m\u001b[1;33m\u001b[0m\u001b[0m\n\u001b[0;32m    347\u001b[0m                         \u001b[1;32mreturn\u001b[0m \u001b[0mresult\u001b[0m\u001b[1;33m\u001b[0m\u001b[1;33m\u001b[0m\u001b[0m\n",
      "\u001b[1;32m~\\Desktop\\Sint\\projeto2-SI\\csp.py\u001b[0m in \u001b[0;36mbacktrack\u001b[1;34m(assignment)\u001b[0m\n\u001b[0;32m    343\u001b[0m                     \u001b[1;32mif\u001b[0m \u001b[0mverbose\u001b[0m\u001b[1;33m:\u001b[0m\u001b[1;33m\u001b[0m\u001b[1;33m\u001b[0m\u001b[0m\n\u001b[0;32m    344\u001b[0m                         \u001b[0mprint\u001b[0m\u001b[1;33m(\u001b[0m\u001b[1;34m'----Assigned!'\u001b[0m\u001b[1;33m)\u001b[0m\u001b[1;33m\u001b[0m\u001b[1;33m\u001b[0m\u001b[0m\n\u001b[1;32m--> 345\u001b[1;33m                     \u001b[0mresult\u001b[0m \u001b[1;33m=\u001b[0m \u001b[0mbacktrack\u001b[0m\u001b[1;33m(\u001b[0m\u001b[0massignment\u001b[0m\u001b[1;33m)\u001b[0m\u001b[1;33m\u001b[0m\u001b[1;33m\u001b[0m\u001b[0m\n\u001b[0m\u001b[0;32m    346\u001b[0m                     \u001b[1;32mif\u001b[0m \u001b[0mresult\u001b[0m \u001b[1;32mis\u001b[0m \u001b[1;32mnot\u001b[0m \u001b[1;32mNone\u001b[0m\u001b[1;33m:\u001b[0m\u001b[1;33m\u001b[0m\u001b[1;33m\u001b[0m\u001b[0m\n\u001b[0;32m    347\u001b[0m                         \u001b[1;32mreturn\u001b[0m \u001b[0mresult\u001b[0m\u001b[1;33m\u001b[0m\u001b[1;33m\u001b[0m\u001b[0m\n",
      "\u001b[1;32m~\\Desktop\\Sint\\projeto2-SI\\csp.py\u001b[0m in \u001b[0;36mbacktrack\u001b[1;34m(assignment)\u001b[0m\n\u001b[0;32m    343\u001b[0m                     \u001b[1;32mif\u001b[0m \u001b[0mverbose\u001b[0m\u001b[1;33m:\u001b[0m\u001b[1;33m\u001b[0m\u001b[1;33m\u001b[0m\u001b[0m\n\u001b[0;32m    344\u001b[0m                         \u001b[0mprint\u001b[0m\u001b[1;33m(\u001b[0m\u001b[1;34m'----Assigned!'\u001b[0m\u001b[1;33m)\u001b[0m\u001b[1;33m\u001b[0m\u001b[1;33m\u001b[0m\u001b[0m\n\u001b[1;32m--> 345\u001b[1;33m                     \u001b[0mresult\u001b[0m \u001b[1;33m=\u001b[0m \u001b[0mbacktrack\u001b[0m\u001b[1;33m(\u001b[0m\u001b[0massignment\u001b[0m\u001b[1;33m)\u001b[0m\u001b[1;33m\u001b[0m\u001b[1;33m\u001b[0m\u001b[0m\n\u001b[0m\u001b[0;32m    346\u001b[0m                     \u001b[1;32mif\u001b[0m \u001b[0mresult\u001b[0m \u001b[1;32mis\u001b[0m \u001b[1;32mnot\u001b[0m \u001b[1;32mNone\u001b[0m\u001b[1;33m:\u001b[0m\u001b[1;33m\u001b[0m\u001b[1;33m\u001b[0m\u001b[0m\n\u001b[0;32m    347\u001b[0m                         \u001b[1;32mreturn\u001b[0m \u001b[0mresult\u001b[0m\u001b[1;33m\u001b[0m\u001b[1;33m\u001b[0m\u001b[0m\n",
      "\u001b[1;32m~\\Desktop\\Sint\\projeto2-SI\\csp.py\u001b[0m in \u001b[0;36mbacktrack\u001b[1;34m(assignment)\u001b[0m\n\u001b[0;32m    343\u001b[0m                     \u001b[1;32mif\u001b[0m \u001b[0mverbose\u001b[0m\u001b[1;33m:\u001b[0m\u001b[1;33m\u001b[0m\u001b[1;33m\u001b[0m\u001b[0m\n\u001b[0;32m    344\u001b[0m                         \u001b[0mprint\u001b[0m\u001b[1;33m(\u001b[0m\u001b[1;34m'----Assigned!'\u001b[0m\u001b[1;33m)\u001b[0m\u001b[1;33m\u001b[0m\u001b[1;33m\u001b[0m\u001b[0m\n\u001b[1;32m--> 345\u001b[1;33m                     \u001b[0mresult\u001b[0m \u001b[1;33m=\u001b[0m \u001b[0mbacktrack\u001b[0m\u001b[1;33m(\u001b[0m\u001b[0massignment\u001b[0m\u001b[1;33m)\u001b[0m\u001b[1;33m\u001b[0m\u001b[1;33m\u001b[0m\u001b[0m\n\u001b[0m\u001b[0;32m    346\u001b[0m                     \u001b[1;32mif\u001b[0m \u001b[0mresult\u001b[0m \u001b[1;32mis\u001b[0m \u001b[1;32mnot\u001b[0m \u001b[1;32mNone\u001b[0m\u001b[1;33m:\u001b[0m\u001b[1;33m\u001b[0m\u001b[1;33m\u001b[0m\u001b[0m\n\u001b[0;32m    347\u001b[0m                         \u001b[1;32mreturn\u001b[0m \u001b[0mresult\u001b[0m\u001b[1;33m\u001b[0m\u001b[1;33m\u001b[0m\u001b[0m\n",
      "\u001b[1;32m~\\Desktop\\Sint\\projeto2-SI\\csp.py\u001b[0m in \u001b[0;36mbacktrack\u001b[1;34m(assignment)\u001b[0m\n\u001b[0;32m    343\u001b[0m                     \u001b[1;32mif\u001b[0m \u001b[0mverbose\u001b[0m\u001b[1;33m:\u001b[0m\u001b[1;33m\u001b[0m\u001b[1;33m\u001b[0m\u001b[0m\n\u001b[0;32m    344\u001b[0m                         \u001b[0mprint\u001b[0m\u001b[1;33m(\u001b[0m\u001b[1;34m'----Assigned!'\u001b[0m\u001b[1;33m)\u001b[0m\u001b[1;33m\u001b[0m\u001b[1;33m\u001b[0m\u001b[0m\n\u001b[1;32m--> 345\u001b[1;33m                     \u001b[0mresult\u001b[0m \u001b[1;33m=\u001b[0m \u001b[0mbacktrack\u001b[0m\u001b[1;33m(\u001b[0m\u001b[0massignment\u001b[0m\u001b[1;33m)\u001b[0m\u001b[1;33m\u001b[0m\u001b[1;33m\u001b[0m\u001b[0m\n\u001b[0m\u001b[0;32m    346\u001b[0m                     \u001b[1;32mif\u001b[0m \u001b[0mresult\u001b[0m \u001b[1;32mis\u001b[0m \u001b[1;32mnot\u001b[0m \u001b[1;32mNone\u001b[0m\u001b[1;33m:\u001b[0m\u001b[1;33m\u001b[0m\u001b[1;33m\u001b[0m\u001b[0m\n\u001b[0;32m    347\u001b[0m                         \u001b[1;32mreturn\u001b[0m \u001b[0mresult\u001b[0m\u001b[1;33m\u001b[0m\u001b[1;33m\u001b[0m\u001b[0m\n",
      "\u001b[1;32m~\\Desktop\\Sint\\projeto2-SI\\csp.py\u001b[0m in \u001b[0;36mbacktrack\u001b[1;34m(assignment)\u001b[0m\n\u001b[0;32m    343\u001b[0m                     \u001b[1;32mif\u001b[0m \u001b[0mverbose\u001b[0m\u001b[1;33m:\u001b[0m\u001b[1;33m\u001b[0m\u001b[1;33m\u001b[0m\u001b[0m\n\u001b[0;32m    344\u001b[0m                         \u001b[0mprint\u001b[0m\u001b[1;33m(\u001b[0m\u001b[1;34m'----Assigned!'\u001b[0m\u001b[1;33m)\u001b[0m\u001b[1;33m\u001b[0m\u001b[1;33m\u001b[0m\u001b[0m\n\u001b[1;32m--> 345\u001b[1;33m                     \u001b[0mresult\u001b[0m \u001b[1;33m=\u001b[0m \u001b[0mbacktrack\u001b[0m\u001b[1;33m(\u001b[0m\u001b[0massignment\u001b[0m\u001b[1;33m)\u001b[0m\u001b[1;33m\u001b[0m\u001b[1;33m\u001b[0m\u001b[0m\n\u001b[0m\u001b[0;32m    346\u001b[0m                     \u001b[1;32mif\u001b[0m \u001b[0mresult\u001b[0m \u001b[1;32mis\u001b[0m \u001b[1;32mnot\u001b[0m \u001b[1;32mNone\u001b[0m\u001b[1;33m:\u001b[0m\u001b[1;33m\u001b[0m\u001b[1;33m\u001b[0m\u001b[0m\n\u001b[0;32m    347\u001b[0m                         \u001b[1;32mreturn\u001b[0m \u001b[0mresult\u001b[0m\u001b[1;33m\u001b[0m\u001b[1;33m\u001b[0m\u001b[0m\n",
      "\u001b[1;32m~\\Desktop\\Sint\\projeto2-SI\\csp.py\u001b[0m in \u001b[0;36mbacktrack\u001b[1;34m(assignment)\u001b[0m\n\u001b[0;32m    343\u001b[0m                     \u001b[1;32mif\u001b[0m \u001b[0mverbose\u001b[0m\u001b[1;33m:\u001b[0m\u001b[1;33m\u001b[0m\u001b[1;33m\u001b[0m\u001b[0m\n\u001b[0;32m    344\u001b[0m                         \u001b[0mprint\u001b[0m\u001b[1;33m(\u001b[0m\u001b[1;34m'----Assigned!'\u001b[0m\u001b[1;33m)\u001b[0m\u001b[1;33m\u001b[0m\u001b[1;33m\u001b[0m\u001b[0m\n\u001b[1;32m--> 345\u001b[1;33m                     \u001b[0mresult\u001b[0m \u001b[1;33m=\u001b[0m \u001b[0mbacktrack\u001b[0m\u001b[1;33m(\u001b[0m\u001b[0massignment\u001b[0m\u001b[1;33m)\u001b[0m\u001b[1;33m\u001b[0m\u001b[1;33m\u001b[0m\u001b[0m\n\u001b[0m\u001b[0;32m    346\u001b[0m                     \u001b[1;32mif\u001b[0m \u001b[0mresult\u001b[0m \u001b[1;32mis\u001b[0m \u001b[1;32mnot\u001b[0m \u001b[1;32mNone\u001b[0m\u001b[1;33m:\u001b[0m\u001b[1;33m\u001b[0m\u001b[1;33m\u001b[0m\u001b[0m\n\u001b[0;32m    347\u001b[0m                         \u001b[1;32mreturn\u001b[0m \u001b[0mresult\u001b[0m\u001b[1;33m\u001b[0m\u001b[1;33m\u001b[0m\u001b[0m\n",
      "\u001b[1;32m~\\Desktop\\Sint\\projeto2-SI\\csp.py\u001b[0m in \u001b[0;36mbacktrack\u001b[1;34m(assignment)\u001b[0m\n\u001b[0;32m    343\u001b[0m                     \u001b[1;32mif\u001b[0m \u001b[0mverbose\u001b[0m\u001b[1;33m:\u001b[0m\u001b[1;33m\u001b[0m\u001b[1;33m\u001b[0m\u001b[0m\n\u001b[0;32m    344\u001b[0m                         \u001b[0mprint\u001b[0m\u001b[1;33m(\u001b[0m\u001b[1;34m'----Assigned!'\u001b[0m\u001b[1;33m)\u001b[0m\u001b[1;33m\u001b[0m\u001b[1;33m\u001b[0m\u001b[0m\n\u001b[1;32m--> 345\u001b[1;33m                     \u001b[0mresult\u001b[0m \u001b[1;33m=\u001b[0m \u001b[0mbacktrack\u001b[0m\u001b[1;33m(\u001b[0m\u001b[0massignment\u001b[0m\u001b[1;33m)\u001b[0m\u001b[1;33m\u001b[0m\u001b[1;33m\u001b[0m\u001b[0m\n\u001b[0m\u001b[0;32m    346\u001b[0m                     \u001b[1;32mif\u001b[0m \u001b[0mresult\u001b[0m \u001b[1;32mis\u001b[0m \u001b[1;32mnot\u001b[0m \u001b[1;32mNone\u001b[0m\u001b[1;33m:\u001b[0m\u001b[1;33m\u001b[0m\u001b[1;33m\u001b[0m\u001b[0m\n\u001b[0;32m    347\u001b[0m                         \u001b[1;32mreturn\u001b[0m \u001b[0mresult\u001b[0m\u001b[1;33m\u001b[0m\u001b[1;33m\u001b[0m\u001b[0m\n",
      "\u001b[1;32m~\\Desktop\\Sint\\projeto2-SI\\csp.py\u001b[0m in \u001b[0;36mbacktrack\u001b[1;34m(assignment)\u001b[0m\n\u001b[0;32m    343\u001b[0m                     \u001b[1;32mif\u001b[0m \u001b[0mverbose\u001b[0m\u001b[1;33m:\u001b[0m\u001b[1;33m\u001b[0m\u001b[1;33m\u001b[0m\u001b[0m\n\u001b[0;32m    344\u001b[0m                         \u001b[0mprint\u001b[0m\u001b[1;33m(\u001b[0m\u001b[1;34m'----Assigned!'\u001b[0m\u001b[1;33m)\u001b[0m\u001b[1;33m\u001b[0m\u001b[1;33m\u001b[0m\u001b[0m\n\u001b[1;32m--> 345\u001b[1;33m                     \u001b[0mresult\u001b[0m \u001b[1;33m=\u001b[0m \u001b[0mbacktrack\u001b[0m\u001b[1;33m(\u001b[0m\u001b[0massignment\u001b[0m\u001b[1;33m)\u001b[0m\u001b[1;33m\u001b[0m\u001b[1;33m\u001b[0m\u001b[0m\n\u001b[0m\u001b[0;32m    346\u001b[0m                     \u001b[1;32mif\u001b[0m \u001b[0mresult\u001b[0m \u001b[1;32mis\u001b[0m \u001b[1;32mnot\u001b[0m \u001b[1;32mNone\u001b[0m\u001b[1;33m:\u001b[0m\u001b[1;33m\u001b[0m\u001b[1;33m\u001b[0m\u001b[0m\n\u001b[0;32m    347\u001b[0m                         \u001b[1;32mreturn\u001b[0m \u001b[0mresult\u001b[0m\u001b[1;33m\u001b[0m\u001b[1;33m\u001b[0m\u001b[0m\n",
      "\u001b[1;32m~\\Desktop\\Sint\\projeto2-SI\\csp.py\u001b[0m in \u001b[0;36mbacktrack\u001b[1;34m(assignment)\u001b[0m\n\u001b[0;32m    343\u001b[0m                     \u001b[1;32mif\u001b[0m \u001b[0mverbose\u001b[0m\u001b[1;33m:\u001b[0m\u001b[1;33m\u001b[0m\u001b[1;33m\u001b[0m\u001b[0m\n\u001b[0;32m    344\u001b[0m                         \u001b[0mprint\u001b[0m\u001b[1;33m(\u001b[0m\u001b[1;34m'----Assigned!'\u001b[0m\u001b[1;33m)\u001b[0m\u001b[1;33m\u001b[0m\u001b[1;33m\u001b[0m\u001b[0m\n\u001b[1;32m--> 345\u001b[1;33m                     \u001b[0mresult\u001b[0m \u001b[1;33m=\u001b[0m \u001b[0mbacktrack\u001b[0m\u001b[1;33m(\u001b[0m\u001b[0massignment\u001b[0m\u001b[1;33m)\u001b[0m\u001b[1;33m\u001b[0m\u001b[1;33m\u001b[0m\u001b[0m\n\u001b[0m\u001b[0;32m    346\u001b[0m                     \u001b[1;32mif\u001b[0m \u001b[0mresult\u001b[0m \u001b[1;32mis\u001b[0m \u001b[1;32mnot\u001b[0m \u001b[1;32mNone\u001b[0m\u001b[1;33m:\u001b[0m\u001b[1;33m\u001b[0m\u001b[1;33m\u001b[0m\u001b[0m\n\u001b[0;32m    347\u001b[0m                         \u001b[1;32mreturn\u001b[0m \u001b[0mresult\u001b[0m\u001b[1;33m\u001b[0m\u001b[1;33m\u001b[0m\u001b[0m\n",
      "\u001b[1;32m~\\Desktop\\Sint\\projeto2-SI\\csp.py\u001b[0m in \u001b[0;36mbacktrack\u001b[1;34m(assignment)\u001b[0m\n\u001b[0;32m    343\u001b[0m                     \u001b[1;32mif\u001b[0m \u001b[0mverbose\u001b[0m\u001b[1;33m:\u001b[0m\u001b[1;33m\u001b[0m\u001b[1;33m\u001b[0m\u001b[0m\n\u001b[0;32m    344\u001b[0m                         \u001b[0mprint\u001b[0m\u001b[1;33m(\u001b[0m\u001b[1;34m'----Assigned!'\u001b[0m\u001b[1;33m)\u001b[0m\u001b[1;33m\u001b[0m\u001b[1;33m\u001b[0m\u001b[0m\n\u001b[1;32m--> 345\u001b[1;33m                     \u001b[0mresult\u001b[0m \u001b[1;33m=\u001b[0m \u001b[0mbacktrack\u001b[0m\u001b[1;33m(\u001b[0m\u001b[0massignment\u001b[0m\u001b[1;33m)\u001b[0m\u001b[1;33m\u001b[0m\u001b[1;33m\u001b[0m\u001b[0m\n\u001b[0m\u001b[0;32m    346\u001b[0m                     \u001b[1;32mif\u001b[0m \u001b[0mresult\u001b[0m \u001b[1;32mis\u001b[0m \u001b[1;32mnot\u001b[0m \u001b[1;32mNone\u001b[0m\u001b[1;33m:\u001b[0m\u001b[1;33m\u001b[0m\u001b[1;33m\u001b[0m\u001b[0m\n\u001b[0;32m    347\u001b[0m                         \u001b[1;32mreturn\u001b[0m \u001b[0mresult\u001b[0m\u001b[1;33m\u001b[0m\u001b[1;33m\u001b[0m\u001b[0m\n",
      "\u001b[1;32m~\\Desktop\\Sint\\projeto2-SI\\csp.py\u001b[0m in \u001b[0;36mbacktrack\u001b[1;34m(assignment)\u001b[0m\n\u001b[0;32m    343\u001b[0m                     \u001b[1;32mif\u001b[0m \u001b[0mverbose\u001b[0m\u001b[1;33m:\u001b[0m\u001b[1;33m\u001b[0m\u001b[1;33m\u001b[0m\u001b[0m\n\u001b[0;32m    344\u001b[0m                         \u001b[0mprint\u001b[0m\u001b[1;33m(\u001b[0m\u001b[1;34m'----Assigned!'\u001b[0m\u001b[1;33m)\u001b[0m\u001b[1;33m\u001b[0m\u001b[1;33m\u001b[0m\u001b[0m\n\u001b[1;32m--> 345\u001b[1;33m                     \u001b[0mresult\u001b[0m \u001b[1;33m=\u001b[0m \u001b[0mbacktrack\u001b[0m\u001b[1;33m(\u001b[0m\u001b[0massignment\u001b[0m\u001b[1;33m)\u001b[0m\u001b[1;33m\u001b[0m\u001b[1;33m\u001b[0m\u001b[0m\n\u001b[0m\u001b[0;32m    346\u001b[0m                     \u001b[1;32mif\u001b[0m \u001b[0mresult\u001b[0m \u001b[1;32mis\u001b[0m \u001b[1;32mnot\u001b[0m \u001b[1;32mNone\u001b[0m\u001b[1;33m:\u001b[0m\u001b[1;33m\u001b[0m\u001b[1;33m\u001b[0m\u001b[0m\n\u001b[0;32m    347\u001b[0m                         \u001b[1;32mreturn\u001b[0m \u001b[0mresult\u001b[0m\u001b[1;33m\u001b[0m\u001b[1;33m\u001b[0m\u001b[0m\n",
      "\u001b[1;32m~\\Desktop\\Sint\\projeto2-SI\\csp.py\u001b[0m in \u001b[0;36mbacktrack\u001b[1;34m(assignment)\u001b[0m\n\u001b[0;32m    343\u001b[0m                     \u001b[1;32mif\u001b[0m \u001b[0mverbose\u001b[0m\u001b[1;33m:\u001b[0m\u001b[1;33m\u001b[0m\u001b[1;33m\u001b[0m\u001b[0m\n\u001b[0;32m    344\u001b[0m                         \u001b[0mprint\u001b[0m\u001b[1;33m(\u001b[0m\u001b[1;34m'----Assigned!'\u001b[0m\u001b[1;33m)\u001b[0m\u001b[1;33m\u001b[0m\u001b[1;33m\u001b[0m\u001b[0m\n\u001b[1;32m--> 345\u001b[1;33m                     \u001b[0mresult\u001b[0m \u001b[1;33m=\u001b[0m \u001b[0mbacktrack\u001b[0m\u001b[1;33m(\u001b[0m\u001b[0massignment\u001b[0m\u001b[1;33m)\u001b[0m\u001b[1;33m\u001b[0m\u001b[1;33m\u001b[0m\u001b[0m\n\u001b[0m\u001b[0;32m    346\u001b[0m                     \u001b[1;32mif\u001b[0m \u001b[0mresult\u001b[0m \u001b[1;32mis\u001b[0m \u001b[1;32mnot\u001b[0m \u001b[1;32mNone\u001b[0m\u001b[1;33m:\u001b[0m\u001b[1;33m\u001b[0m\u001b[1;33m\u001b[0m\u001b[0m\n\u001b[0;32m    347\u001b[0m                         \u001b[1;32mreturn\u001b[0m \u001b[0mresult\u001b[0m\u001b[1;33m\u001b[0m\u001b[1;33m\u001b[0m\u001b[0m\n",
      "\u001b[1;32m~\\Desktop\\Sint\\projeto2-SI\\csp.py\u001b[0m in \u001b[0;36mbacktrack\u001b[1;34m(assignment)\u001b[0m\n\u001b[0;32m    343\u001b[0m                     \u001b[1;32mif\u001b[0m \u001b[0mverbose\u001b[0m\u001b[1;33m:\u001b[0m\u001b[1;33m\u001b[0m\u001b[1;33m\u001b[0m\u001b[0m\n\u001b[0;32m    344\u001b[0m                         \u001b[0mprint\u001b[0m\u001b[1;33m(\u001b[0m\u001b[1;34m'----Assigned!'\u001b[0m\u001b[1;33m)\u001b[0m\u001b[1;33m\u001b[0m\u001b[1;33m\u001b[0m\u001b[0m\n\u001b[1;32m--> 345\u001b[1;33m                     \u001b[0mresult\u001b[0m \u001b[1;33m=\u001b[0m \u001b[0mbacktrack\u001b[0m\u001b[1;33m(\u001b[0m\u001b[0massignment\u001b[0m\u001b[1;33m)\u001b[0m\u001b[1;33m\u001b[0m\u001b[1;33m\u001b[0m\u001b[0m\n\u001b[0m\u001b[0;32m    346\u001b[0m                     \u001b[1;32mif\u001b[0m \u001b[0mresult\u001b[0m \u001b[1;32mis\u001b[0m \u001b[1;32mnot\u001b[0m \u001b[1;32mNone\u001b[0m\u001b[1;33m:\u001b[0m\u001b[1;33m\u001b[0m\u001b[1;33m\u001b[0m\u001b[0m\n\u001b[0;32m    347\u001b[0m                         \u001b[1;32mreturn\u001b[0m \u001b[0mresult\u001b[0m\u001b[1;33m\u001b[0m\u001b[1;33m\u001b[0m\u001b[0m\n",
      "\u001b[1;32m~\\Desktop\\Sint\\projeto2-SI\\csp.py\u001b[0m in \u001b[0;36mbacktrack\u001b[1;34m(assignment)\u001b[0m\n\u001b[0;32m    343\u001b[0m                     \u001b[1;32mif\u001b[0m \u001b[0mverbose\u001b[0m\u001b[1;33m:\u001b[0m\u001b[1;33m\u001b[0m\u001b[1;33m\u001b[0m\u001b[0m\n\u001b[0;32m    344\u001b[0m                         \u001b[0mprint\u001b[0m\u001b[1;33m(\u001b[0m\u001b[1;34m'----Assigned!'\u001b[0m\u001b[1;33m)\u001b[0m\u001b[1;33m\u001b[0m\u001b[1;33m\u001b[0m\u001b[0m\n\u001b[1;32m--> 345\u001b[1;33m                     \u001b[0mresult\u001b[0m \u001b[1;33m=\u001b[0m \u001b[0mbacktrack\u001b[0m\u001b[1;33m(\u001b[0m\u001b[0massignment\u001b[0m\u001b[1;33m)\u001b[0m\u001b[1;33m\u001b[0m\u001b[1;33m\u001b[0m\u001b[0m\n\u001b[0m\u001b[0;32m    346\u001b[0m                     \u001b[1;32mif\u001b[0m \u001b[0mresult\u001b[0m \u001b[1;32mis\u001b[0m \u001b[1;32mnot\u001b[0m \u001b[1;32mNone\u001b[0m\u001b[1;33m:\u001b[0m\u001b[1;33m\u001b[0m\u001b[1;33m\u001b[0m\u001b[0m\n\u001b[0;32m    347\u001b[0m                         \u001b[1;32mreturn\u001b[0m \u001b[0mresult\u001b[0m\u001b[1;33m\u001b[0m\u001b[1;33m\u001b[0m\u001b[0m\n",
      "\u001b[1;32m~\\Desktop\\Sint\\projeto2-SI\\csp.py\u001b[0m in \u001b[0;36mbacktrack\u001b[1;34m(assignment)\u001b[0m\n\u001b[0;32m    343\u001b[0m                     \u001b[1;32mif\u001b[0m \u001b[0mverbose\u001b[0m\u001b[1;33m:\u001b[0m\u001b[1;33m\u001b[0m\u001b[1;33m\u001b[0m\u001b[0m\n\u001b[0;32m    344\u001b[0m                         \u001b[0mprint\u001b[0m\u001b[1;33m(\u001b[0m\u001b[1;34m'----Assigned!'\u001b[0m\u001b[1;33m)\u001b[0m\u001b[1;33m\u001b[0m\u001b[1;33m\u001b[0m\u001b[0m\n\u001b[1;32m--> 345\u001b[1;33m                     \u001b[0mresult\u001b[0m \u001b[1;33m=\u001b[0m \u001b[0mbacktrack\u001b[0m\u001b[1;33m(\u001b[0m\u001b[0massignment\u001b[0m\u001b[1;33m)\u001b[0m\u001b[1;33m\u001b[0m\u001b[1;33m\u001b[0m\u001b[0m\n\u001b[0m\u001b[0;32m    346\u001b[0m                     \u001b[1;32mif\u001b[0m \u001b[0mresult\u001b[0m \u001b[1;32mis\u001b[0m \u001b[1;32mnot\u001b[0m \u001b[1;32mNone\u001b[0m\u001b[1;33m:\u001b[0m\u001b[1;33m\u001b[0m\u001b[1;33m\u001b[0m\u001b[0m\n\u001b[0;32m    347\u001b[0m                         \u001b[1;32mreturn\u001b[0m \u001b[0mresult\u001b[0m\u001b[1;33m\u001b[0m\u001b[1;33m\u001b[0m\u001b[0m\n",
      "\u001b[1;32m~\\Desktop\\Sint\\projeto2-SI\\csp.py\u001b[0m in \u001b[0;36mbacktrack\u001b[1;34m(assignment)\u001b[0m\n\u001b[0;32m    343\u001b[0m                     \u001b[1;32mif\u001b[0m \u001b[0mverbose\u001b[0m\u001b[1;33m:\u001b[0m\u001b[1;33m\u001b[0m\u001b[1;33m\u001b[0m\u001b[0m\n\u001b[0;32m    344\u001b[0m                         \u001b[0mprint\u001b[0m\u001b[1;33m(\u001b[0m\u001b[1;34m'----Assigned!'\u001b[0m\u001b[1;33m)\u001b[0m\u001b[1;33m\u001b[0m\u001b[1;33m\u001b[0m\u001b[0m\n\u001b[1;32m--> 345\u001b[1;33m                     \u001b[0mresult\u001b[0m \u001b[1;33m=\u001b[0m \u001b[0mbacktrack\u001b[0m\u001b[1;33m(\u001b[0m\u001b[0massignment\u001b[0m\u001b[1;33m)\u001b[0m\u001b[1;33m\u001b[0m\u001b[1;33m\u001b[0m\u001b[0m\n\u001b[0m\u001b[0;32m    346\u001b[0m                     \u001b[1;32mif\u001b[0m \u001b[0mresult\u001b[0m \u001b[1;32mis\u001b[0m \u001b[1;32mnot\u001b[0m \u001b[1;32mNone\u001b[0m\u001b[1;33m:\u001b[0m\u001b[1;33m\u001b[0m\u001b[1;33m\u001b[0m\u001b[0m\n\u001b[0;32m    347\u001b[0m                         \u001b[1;32mreturn\u001b[0m \u001b[0mresult\u001b[0m\u001b[1;33m\u001b[0m\u001b[1;33m\u001b[0m\u001b[0m\n",
      "\u001b[1;32m~\\Desktop\\Sint\\projeto2-SI\\csp.py\u001b[0m in \u001b[0;36mbacktrack\u001b[1;34m(assignment)\u001b[0m\n\u001b[0;32m    343\u001b[0m                     \u001b[1;32mif\u001b[0m \u001b[0mverbose\u001b[0m\u001b[1;33m:\u001b[0m\u001b[1;33m\u001b[0m\u001b[1;33m\u001b[0m\u001b[0m\n\u001b[0;32m    344\u001b[0m                         \u001b[0mprint\u001b[0m\u001b[1;33m(\u001b[0m\u001b[1;34m'----Assigned!'\u001b[0m\u001b[1;33m)\u001b[0m\u001b[1;33m\u001b[0m\u001b[1;33m\u001b[0m\u001b[0m\n\u001b[1;32m--> 345\u001b[1;33m                     \u001b[0mresult\u001b[0m \u001b[1;33m=\u001b[0m \u001b[0mbacktrack\u001b[0m\u001b[1;33m(\u001b[0m\u001b[0massignment\u001b[0m\u001b[1;33m)\u001b[0m\u001b[1;33m\u001b[0m\u001b[1;33m\u001b[0m\u001b[0m\n\u001b[0m\u001b[0;32m    346\u001b[0m                     \u001b[1;32mif\u001b[0m \u001b[0mresult\u001b[0m \u001b[1;32mis\u001b[0m \u001b[1;32mnot\u001b[0m \u001b[1;32mNone\u001b[0m\u001b[1;33m:\u001b[0m\u001b[1;33m\u001b[0m\u001b[1;33m\u001b[0m\u001b[0m\n\u001b[0;32m    347\u001b[0m                         \u001b[1;32mreturn\u001b[0m \u001b[0mresult\u001b[0m\u001b[1;33m\u001b[0m\u001b[1;33m\u001b[0m\u001b[0m\n",
      "\u001b[1;32m~\\Desktop\\Sint\\projeto2-SI\\csp.py\u001b[0m in \u001b[0;36mbacktrack\u001b[1;34m(assignment)\u001b[0m\n\u001b[0;32m    343\u001b[0m                     \u001b[1;32mif\u001b[0m \u001b[0mverbose\u001b[0m\u001b[1;33m:\u001b[0m\u001b[1;33m\u001b[0m\u001b[1;33m\u001b[0m\u001b[0m\n\u001b[0;32m    344\u001b[0m                         \u001b[0mprint\u001b[0m\u001b[1;33m(\u001b[0m\u001b[1;34m'----Assigned!'\u001b[0m\u001b[1;33m)\u001b[0m\u001b[1;33m\u001b[0m\u001b[1;33m\u001b[0m\u001b[0m\n\u001b[1;32m--> 345\u001b[1;33m                     \u001b[0mresult\u001b[0m \u001b[1;33m=\u001b[0m \u001b[0mbacktrack\u001b[0m\u001b[1;33m(\u001b[0m\u001b[0massignment\u001b[0m\u001b[1;33m)\u001b[0m\u001b[1;33m\u001b[0m\u001b[1;33m\u001b[0m\u001b[0m\n\u001b[0m\u001b[0;32m    346\u001b[0m                     \u001b[1;32mif\u001b[0m \u001b[0mresult\u001b[0m \u001b[1;32mis\u001b[0m \u001b[1;32mnot\u001b[0m \u001b[1;32mNone\u001b[0m\u001b[1;33m:\u001b[0m\u001b[1;33m\u001b[0m\u001b[1;33m\u001b[0m\u001b[0m\n\u001b[0;32m    347\u001b[0m                         \u001b[1;32mreturn\u001b[0m \u001b[0mresult\u001b[0m\u001b[1;33m\u001b[0m\u001b[1;33m\u001b[0m\u001b[0m\n",
      "\u001b[1;32m~\\Desktop\\Sint\\projeto2-SI\\csp.py\u001b[0m in \u001b[0;36mbacktrack\u001b[1;34m(assignment)\u001b[0m\n\u001b[0;32m    343\u001b[0m                     \u001b[1;32mif\u001b[0m \u001b[0mverbose\u001b[0m\u001b[1;33m:\u001b[0m\u001b[1;33m\u001b[0m\u001b[1;33m\u001b[0m\u001b[0m\n\u001b[0;32m    344\u001b[0m                         \u001b[0mprint\u001b[0m\u001b[1;33m(\u001b[0m\u001b[1;34m'----Assigned!'\u001b[0m\u001b[1;33m)\u001b[0m\u001b[1;33m\u001b[0m\u001b[1;33m\u001b[0m\u001b[0m\n\u001b[1;32m--> 345\u001b[1;33m                     \u001b[0mresult\u001b[0m \u001b[1;33m=\u001b[0m \u001b[0mbacktrack\u001b[0m\u001b[1;33m(\u001b[0m\u001b[0massignment\u001b[0m\u001b[1;33m)\u001b[0m\u001b[1;33m\u001b[0m\u001b[1;33m\u001b[0m\u001b[0m\n\u001b[0m\u001b[0;32m    346\u001b[0m                     \u001b[1;32mif\u001b[0m \u001b[0mresult\u001b[0m \u001b[1;32mis\u001b[0m \u001b[1;32mnot\u001b[0m \u001b[1;32mNone\u001b[0m\u001b[1;33m:\u001b[0m\u001b[1;33m\u001b[0m\u001b[1;33m\u001b[0m\u001b[0m\n\u001b[0;32m    347\u001b[0m                         \u001b[1;32mreturn\u001b[0m \u001b[0mresult\u001b[0m\u001b[1;33m\u001b[0m\u001b[1;33m\u001b[0m\u001b[0m\n",
      "\u001b[1;32m~\\Desktop\\Sint\\projeto2-SI\\csp.py\u001b[0m in \u001b[0;36mbacktrack\u001b[1;34m(assignment)\u001b[0m\n\u001b[0;32m    343\u001b[0m                     \u001b[1;32mif\u001b[0m \u001b[0mverbose\u001b[0m\u001b[1;33m:\u001b[0m\u001b[1;33m\u001b[0m\u001b[1;33m\u001b[0m\u001b[0m\n\u001b[0;32m    344\u001b[0m                         \u001b[0mprint\u001b[0m\u001b[1;33m(\u001b[0m\u001b[1;34m'----Assigned!'\u001b[0m\u001b[1;33m)\u001b[0m\u001b[1;33m\u001b[0m\u001b[1;33m\u001b[0m\u001b[0m\n\u001b[1;32m--> 345\u001b[1;33m                     \u001b[0mresult\u001b[0m \u001b[1;33m=\u001b[0m \u001b[0mbacktrack\u001b[0m\u001b[1;33m(\u001b[0m\u001b[0massignment\u001b[0m\u001b[1;33m)\u001b[0m\u001b[1;33m\u001b[0m\u001b[1;33m\u001b[0m\u001b[0m\n\u001b[0m\u001b[0;32m    346\u001b[0m                     \u001b[1;32mif\u001b[0m \u001b[0mresult\u001b[0m \u001b[1;32mis\u001b[0m \u001b[1;32mnot\u001b[0m \u001b[1;32mNone\u001b[0m\u001b[1;33m:\u001b[0m\u001b[1;33m\u001b[0m\u001b[1;33m\u001b[0m\u001b[0m\n\u001b[0;32m    347\u001b[0m                         \u001b[1;32mreturn\u001b[0m \u001b[0mresult\u001b[0m\u001b[1;33m\u001b[0m\u001b[1;33m\u001b[0m\u001b[0m\n",
      "\u001b[1;32m~\\Desktop\\Sint\\projeto2-SI\\csp.py\u001b[0m in \u001b[0;36mbacktrack\u001b[1;34m(assignment)\u001b[0m\n\u001b[0;32m    343\u001b[0m                     \u001b[1;32mif\u001b[0m \u001b[0mverbose\u001b[0m\u001b[1;33m:\u001b[0m\u001b[1;33m\u001b[0m\u001b[1;33m\u001b[0m\u001b[0m\n\u001b[0;32m    344\u001b[0m                         \u001b[0mprint\u001b[0m\u001b[1;33m(\u001b[0m\u001b[1;34m'----Assigned!'\u001b[0m\u001b[1;33m)\u001b[0m\u001b[1;33m\u001b[0m\u001b[1;33m\u001b[0m\u001b[0m\n\u001b[1;32m--> 345\u001b[1;33m                     \u001b[0mresult\u001b[0m \u001b[1;33m=\u001b[0m \u001b[0mbacktrack\u001b[0m\u001b[1;33m(\u001b[0m\u001b[0massignment\u001b[0m\u001b[1;33m)\u001b[0m\u001b[1;33m\u001b[0m\u001b[1;33m\u001b[0m\u001b[0m\n\u001b[0m\u001b[0;32m    346\u001b[0m                     \u001b[1;32mif\u001b[0m \u001b[0mresult\u001b[0m \u001b[1;32mis\u001b[0m \u001b[1;32mnot\u001b[0m \u001b[1;32mNone\u001b[0m\u001b[1;33m:\u001b[0m\u001b[1;33m\u001b[0m\u001b[1;33m\u001b[0m\u001b[0m\n\u001b[0;32m    347\u001b[0m                         \u001b[1;32mreturn\u001b[0m \u001b[0mresult\u001b[0m\u001b[1;33m\u001b[0m\u001b[1;33m\u001b[0m\u001b[0m\n",
      "\u001b[1;32m~\\Desktop\\Sint\\projeto2-SI\\csp.py\u001b[0m in \u001b[0;36mbacktrack\u001b[1;34m(assignment)\u001b[0m\n\u001b[0;32m    343\u001b[0m                     \u001b[1;32mif\u001b[0m \u001b[0mverbose\u001b[0m\u001b[1;33m:\u001b[0m\u001b[1;33m\u001b[0m\u001b[1;33m\u001b[0m\u001b[0m\n\u001b[0;32m    344\u001b[0m                         \u001b[0mprint\u001b[0m\u001b[1;33m(\u001b[0m\u001b[1;34m'----Assigned!'\u001b[0m\u001b[1;33m)\u001b[0m\u001b[1;33m\u001b[0m\u001b[1;33m\u001b[0m\u001b[0m\n\u001b[1;32m--> 345\u001b[1;33m                     \u001b[0mresult\u001b[0m \u001b[1;33m=\u001b[0m \u001b[0mbacktrack\u001b[0m\u001b[1;33m(\u001b[0m\u001b[0massignment\u001b[0m\u001b[1;33m)\u001b[0m\u001b[1;33m\u001b[0m\u001b[1;33m\u001b[0m\u001b[0m\n\u001b[0m\u001b[0;32m    346\u001b[0m                     \u001b[1;32mif\u001b[0m \u001b[0mresult\u001b[0m \u001b[1;32mis\u001b[0m \u001b[1;32mnot\u001b[0m \u001b[1;32mNone\u001b[0m\u001b[1;33m:\u001b[0m\u001b[1;33m\u001b[0m\u001b[1;33m\u001b[0m\u001b[0m\n\u001b[0;32m    347\u001b[0m                         \u001b[1;32mreturn\u001b[0m \u001b[0mresult\u001b[0m\u001b[1;33m\u001b[0m\u001b[1;33m\u001b[0m\u001b[0m\n",
      "\u001b[1;32m~\\Desktop\\Sint\\projeto2-SI\\csp.py\u001b[0m in \u001b[0;36mbacktrack\u001b[1;34m(assignment)\u001b[0m\n\u001b[0;32m    343\u001b[0m                     \u001b[1;32mif\u001b[0m \u001b[0mverbose\u001b[0m\u001b[1;33m:\u001b[0m\u001b[1;33m\u001b[0m\u001b[1;33m\u001b[0m\u001b[0m\n\u001b[0;32m    344\u001b[0m                         \u001b[0mprint\u001b[0m\u001b[1;33m(\u001b[0m\u001b[1;34m'----Assigned!'\u001b[0m\u001b[1;33m)\u001b[0m\u001b[1;33m\u001b[0m\u001b[1;33m\u001b[0m\u001b[0m\n\u001b[1;32m--> 345\u001b[1;33m                     \u001b[0mresult\u001b[0m \u001b[1;33m=\u001b[0m \u001b[0mbacktrack\u001b[0m\u001b[1;33m(\u001b[0m\u001b[0massignment\u001b[0m\u001b[1;33m)\u001b[0m\u001b[1;33m\u001b[0m\u001b[1;33m\u001b[0m\u001b[0m\n\u001b[0m\u001b[0;32m    346\u001b[0m                     \u001b[1;32mif\u001b[0m \u001b[0mresult\u001b[0m \u001b[1;32mis\u001b[0m \u001b[1;32mnot\u001b[0m \u001b[1;32mNone\u001b[0m\u001b[1;33m:\u001b[0m\u001b[1;33m\u001b[0m\u001b[1;33m\u001b[0m\u001b[0m\n\u001b[0;32m    347\u001b[0m                         \u001b[1;32mreturn\u001b[0m \u001b[0mresult\u001b[0m\u001b[1;33m\u001b[0m\u001b[1;33m\u001b[0m\u001b[0m\n",
      "\u001b[1;32m~\\Desktop\\Sint\\projeto2-SI\\csp.py\u001b[0m in \u001b[0;36mbacktrack\u001b[1;34m(assignment)\u001b[0m\n\u001b[0;32m    343\u001b[0m                     \u001b[1;32mif\u001b[0m \u001b[0mverbose\u001b[0m\u001b[1;33m:\u001b[0m\u001b[1;33m\u001b[0m\u001b[1;33m\u001b[0m\u001b[0m\n\u001b[0;32m    344\u001b[0m                         \u001b[0mprint\u001b[0m\u001b[1;33m(\u001b[0m\u001b[1;34m'----Assigned!'\u001b[0m\u001b[1;33m)\u001b[0m\u001b[1;33m\u001b[0m\u001b[1;33m\u001b[0m\u001b[0m\n\u001b[1;32m--> 345\u001b[1;33m                     \u001b[0mresult\u001b[0m \u001b[1;33m=\u001b[0m \u001b[0mbacktrack\u001b[0m\u001b[1;33m(\u001b[0m\u001b[0massignment\u001b[0m\u001b[1;33m)\u001b[0m\u001b[1;33m\u001b[0m\u001b[1;33m\u001b[0m\u001b[0m\n\u001b[0m\u001b[0;32m    346\u001b[0m                     \u001b[1;32mif\u001b[0m \u001b[0mresult\u001b[0m \u001b[1;32mis\u001b[0m \u001b[1;32mnot\u001b[0m \u001b[1;32mNone\u001b[0m\u001b[1;33m:\u001b[0m\u001b[1;33m\u001b[0m\u001b[1;33m\u001b[0m\u001b[0m\n\u001b[0;32m    347\u001b[0m                         \u001b[1;32mreturn\u001b[0m \u001b[0mresult\u001b[0m\u001b[1;33m\u001b[0m\u001b[1;33m\u001b[0m\u001b[0m\n",
      "\u001b[1;32m~\\Desktop\\Sint\\projeto2-SI\\csp.py\u001b[0m in \u001b[0;36mbacktrack\u001b[1;34m(assignment)\u001b[0m\n\u001b[0;32m    343\u001b[0m                     \u001b[1;32mif\u001b[0m \u001b[0mverbose\u001b[0m\u001b[1;33m:\u001b[0m\u001b[1;33m\u001b[0m\u001b[1;33m\u001b[0m\u001b[0m\n\u001b[0;32m    344\u001b[0m                         \u001b[0mprint\u001b[0m\u001b[1;33m(\u001b[0m\u001b[1;34m'----Assigned!'\u001b[0m\u001b[1;33m)\u001b[0m\u001b[1;33m\u001b[0m\u001b[1;33m\u001b[0m\u001b[0m\n\u001b[1;32m--> 345\u001b[1;33m                     \u001b[0mresult\u001b[0m \u001b[1;33m=\u001b[0m \u001b[0mbacktrack\u001b[0m\u001b[1;33m(\u001b[0m\u001b[0massignment\u001b[0m\u001b[1;33m)\u001b[0m\u001b[1;33m\u001b[0m\u001b[1;33m\u001b[0m\u001b[0m\n\u001b[0m\u001b[0;32m    346\u001b[0m                     \u001b[1;32mif\u001b[0m \u001b[0mresult\u001b[0m \u001b[1;32mis\u001b[0m \u001b[1;32mnot\u001b[0m \u001b[1;32mNone\u001b[0m\u001b[1;33m:\u001b[0m\u001b[1;33m\u001b[0m\u001b[1;33m\u001b[0m\u001b[0m\n\u001b[0;32m    347\u001b[0m                         \u001b[1;32mreturn\u001b[0m \u001b[0mresult\u001b[0m\u001b[1;33m\u001b[0m\u001b[1;33m\u001b[0m\u001b[0m\n",
      "\u001b[1;32m~\\Desktop\\Sint\\projeto2-SI\\csp.py\u001b[0m in \u001b[0;36mbacktrack\u001b[1;34m(assignment)\u001b[0m\n\u001b[0;32m    343\u001b[0m                     \u001b[1;32mif\u001b[0m \u001b[0mverbose\u001b[0m\u001b[1;33m:\u001b[0m\u001b[1;33m\u001b[0m\u001b[1;33m\u001b[0m\u001b[0m\n\u001b[0;32m    344\u001b[0m                         \u001b[0mprint\u001b[0m\u001b[1;33m(\u001b[0m\u001b[1;34m'----Assigned!'\u001b[0m\u001b[1;33m)\u001b[0m\u001b[1;33m\u001b[0m\u001b[1;33m\u001b[0m\u001b[0m\n\u001b[1;32m--> 345\u001b[1;33m                     \u001b[0mresult\u001b[0m \u001b[1;33m=\u001b[0m \u001b[0mbacktrack\u001b[0m\u001b[1;33m(\u001b[0m\u001b[0massignment\u001b[0m\u001b[1;33m)\u001b[0m\u001b[1;33m\u001b[0m\u001b[1;33m\u001b[0m\u001b[0m\n\u001b[0m\u001b[0;32m    346\u001b[0m                     \u001b[1;32mif\u001b[0m \u001b[0mresult\u001b[0m \u001b[1;32mis\u001b[0m \u001b[1;32mnot\u001b[0m \u001b[1;32mNone\u001b[0m\u001b[1;33m:\u001b[0m\u001b[1;33m\u001b[0m\u001b[1;33m\u001b[0m\u001b[0m\n\u001b[0;32m    347\u001b[0m                         \u001b[1;32mreturn\u001b[0m \u001b[0mresult\u001b[0m\u001b[1;33m\u001b[0m\u001b[1;33m\u001b[0m\u001b[0m\n",
      "\u001b[1;32m~\\Desktop\\Sint\\projeto2-SI\\csp.py\u001b[0m in \u001b[0;36mbacktrack\u001b[1;34m(assignment)\u001b[0m\n\u001b[0;32m    343\u001b[0m                     \u001b[1;32mif\u001b[0m \u001b[0mverbose\u001b[0m\u001b[1;33m:\u001b[0m\u001b[1;33m\u001b[0m\u001b[1;33m\u001b[0m\u001b[0m\n\u001b[0;32m    344\u001b[0m                         \u001b[0mprint\u001b[0m\u001b[1;33m(\u001b[0m\u001b[1;34m'----Assigned!'\u001b[0m\u001b[1;33m)\u001b[0m\u001b[1;33m\u001b[0m\u001b[1;33m\u001b[0m\u001b[0m\n\u001b[1;32m--> 345\u001b[1;33m                     \u001b[0mresult\u001b[0m \u001b[1;33m=\u001b[0m \u001b[0mbacktrack\u001b[0m\u001b[1;33m(\u001b[0m\u001b[0massignment\u001b[0m\u001b[1;33m)\u001b[0m\u001b[1;33m\u001b[0m\u001b[1;33m\u001b[0m\u001b[0m\n\u001b[0m\u001b[0;32m    346\u001b[0m                     \u001b[1;32mif\u001b[0m \u001b[0mresult\u001b[0m \u001b[1;32mis\u001b[0m \u001b[1;32mnot\u001b[0m \u001b[1;32mNone\u001b[0m\u001b[1;33m:\u001b[0m\u001b[1;33m\u001b[0m\u001b[1;33m\u001b[0m\u001b[0m\n\u001b[0;32m    347\u001b[0m                         \u001b[1;32mreturn\u001b[0m \u001b[0mresult\u001b[0m\u001b[1;33m\u001b[0m\u001b[1;33m\u001b[0m\u001b[0m\n",
      "\u001b[1;32m~\\Desktop\\Sint\\projeto2-SI\\csp.py\u001b[0m in \u001b[0;36mbacktrack\u001b[1;34m(assignment)\u001b[0m\n\u001b[0;32m    343\u001b[0m                     \u001b[1;32mif\u001b[0m \u001b[0mverbose\u001b[0m\u001b[1;33m:\u001b[0m\u001b[1;33m\u001b[0m\u001b[1;33m\u001b[0m\u001b[0m\n\u001b[0;32m    344\u001b[0m                         \u001b[0mprint\u001b[0m\u001b[1;33m(\u001b[0m\u001b[1;34m'----Assigned!'\u001b[0m\u001b[1;33m)\u001b[0m\u001b[1;33m\u001b[0m\u001b[1;33m\u001b[0m\u001b[0m\n\u001b[1;32m--> 345\u001b[1;33m                     \u001b[0mresult\u001b[0m \u001b[1;33m=\u001b[0m \u001b[0mbacktrack\u001b[0m\u001b[1;33m(\u001b[0m\u001b[0massignment\u001b[0m\u001b[1;33m)\u001b[0m\u001b[1;33m\u001b[0m\u001b[1;33m\u001b[0m\u001b[0m\n\u001b[0m\u001b[0;32m    346\u001b[0m                     \u001b[1;32mif\u001b[0m \u001b[0mresult\u001b[0m \u001b[1;32mis\u001b[0m \u001b[1;32mnot\u001b[0m \u001b[1;32mNone\u001b[0m\u001b[1;33m:\u001b[0m\u001b[1;33m\u001b[0m\u001b[1;33m\u001b[0m\u001b[0m\n\u001b[0;32m    347\u001b[0m                         \u001b[1;32mreturn\u001b[0m \u001b[0mresult\u001b[0m\u001b[1;33m\u001b[0m\u001b[1;33m\u001b[0m\u001b[0m\n",
      "\u001b[1;32m~\\Desktop\\Sint\\projeto2-SI\\csp.py\u001b[0m in \u001b[0;36mbacktrack\u001b[1;34m(assignment)\u001b[0m\n\u001b[0;32m    343\u001b[0m                     \u001b[1;32mif\u001b[0m \u001b[0mverbose\u001b[0m\u001b[1;33m:\u001b[0m\u001b[1;33m\u001b[0m\u001b[1;33m\u001b[0m\u001b[0m\n\u001b[0;32m    344\u001b[0m                         \u001b[0mprint\u001b[0m\u001b[1;33m(\u001b[0m\u001b[1;34m'----Assigned!'\u001b[0m\u001b[1;33m)\u001b[0m\u001b[1;33m\u001b[0m\u001b[1;33m\u001b[0m\u001b[0m\n\u001b[1;32m--> 345\u001b[1;33m                     \u001b[0mresult\u001b[0m \u001b[1;33m=\u001b[0m \u001b[0mbacktrack\u001b[0m\u001b[1;33m(\u001b[0m\u001b[0massignment\u001b[0m\u001b[1;33m)\u001b[0m\u001b[1;33m\u001b[0m\u001b[1;33m\u001b[0m\u001b[0m\n\u001b[0m\u001b[0;32m    346\u001b[0m                     \u001b[1;32mif\u001b[0m \u001b[0mresult\u001b[0m \u001b[1;32mis\u001b[0m \u001b[1;32mnot\u001b[0m \u001b[1;32mNone\u001b[0m\u001b[1;33m:\u001b[0m\u001b[1;33m\u001b[0m\u001b[1;33m\u001b[0m\u001b[0m\n\u001b[0;32m    347\u001b[0m                         \u001b[1;32mreturn\u001b[0m \u001b[0mresult\u001b[0m\u001b[1;33m\u001b[0m\u001b[1;33m\u001b[0m\u001b[0m\n",
      "\u001b[1;32m~\\Desktop\\Sint\\projeto2-SI\\csp.py\u001b[0m in \u001b[0;36mbacktrack\u001b[1;34m(assignment)\u001b[0m\n\u001b[0;32m    343\u001b[0m                     \u001b[1;32mif\u001b[0m \u001b[0mverbose\u001b[0m\u001b[1;33m:\u001b[0m\u001b[1;33m\u001b[0m\u001b[1;33m\u001b[0m\u001b[0m\n\u001b[0;32m    344\u001b[0m                         \u001b[0mprint\u001b[0m\u001b[1;33m(\u001b[0m\u001b[1;34m'----Assigned!'\u001b[0m\u001b[1;33m)\u001b[0m\u001b[1;33m\u001b[0m\u001b[1;33m\u001b[0m\u001b[0m\n\u001b[1;32m--> 345\u001b[1;33m                     \u001b[0mresult\u001b[0m \u001b[1;33m=\u001b[0m \u001b[0mbacktrack\u001b[0m\u001b[1;33m(\u001b[0m\u001b[0massignment\u001b[0m\u001b[1;33m)\u001b[0m\u001b[1;33m\u001b[0m\u001b[1;33m\u001b[0m\u001b[0m\n\u001b[0m\u001b[0;32m    346\u001b[0m                     \u001b[1;32mif\u001b[0m \u001b[0mresult\u001b[0m \u001b[1;32mis\u001b[0m \u001b[1;32mnot\u001b[0m \u001b[1;32mNone\u001b[0m\u001b[1;33m:\u001b[0m\u001b[1;33m\u001b[0m\u001b[1;33m\u001b[0m\u001b[0m\n\u001b[0;32m    347\u001b[0m                         \u001b[1;32mreturn\u001b[0m \u001b[0mresult\u001b[0m\u001b[1;33m\u001b[0m\u001b[1;33m\u001b[0m\u001b[0m\n",
      "\u001b[1;32m~\\Desktop\\Sint\\projeto2-SI\\csp.py\u001b[0m in \u001b[0;36mbacktrack\u001b[1;34m(assignment)\u001b[0m\n\u001b[0;32m    343\u001b[0m                     \u001b[1;32mif\u001b[0m \u001b[0mverbose\u001b[0m\u001b[1;33m:\u001b[0m\u001b[1;33m\u001b[0m\u001b[1;33m\u001b[0m\u001b[0m\n\u001b[0;32m    344\u001b[0m                         \u001b[0mprint\u001b[0m\u001b[1;33m(\u001b[0m\u001b[1;34m'----Assigned!'\u001b[0m\u001b[1;33m)\u001b[0m\u001b[1;33m\u001b[0m\u001b[1;33m\u001b[0m\u001b[0m\n\u001b[1;32m--> 345\u001b[1;33m                     \u001b[0mresult\u001b[0m \u001b[1;33m=\u001b[0m \u001b[0mbacktrack\u001b[0m\u001b[1;33m(\u001b[0m\u001b[0massignment\u001b[0m\u001b[1;33m)\u001b[0m\u001b[1;33m\u001b[0m\u001b[1;33m\u001b[0m\u001b[0m\n\u001b[0m\u001b[0;32m    346\u001b[0m                     \u001b[1;32mif\u001b[0m \u001b[0mresult\u001b[0m \u001b[1;32mis\u001b[0m \u001b[1;32mnot\u001b[0m \u001b[1;32mNone\u001b[0m\u001b[1;33m:\u001b[0m\u001b[1;33m\u001b[0m\u001b[1;33m\u001b[0m\u001b[0m\n\u001b[0;32m    347\u001b[0m                         \u001b[1;32mreturn\u001b[0m \u001b[0mresult\u001b[0m\u001b[1;33m\u001b[0m\u001b[1;33m\u001b[0m\u001b[0m\n",
      "\u001b[1;32m~\\Desktop\\Sint\\projeto2-SI\\csp.py\u001b[0m in \u001b[0;36mbacktrack\u001b[1;34m(assignment)\u001b[0m\n\u001b[0;32m    343\u001b[0m                     \u001b[1;32mif\u001b[0m \u001b[0mverbose\u001b[0m\u001b[1;33m:\u001b[0m\u001b[1;33m\u001b[0m\u001b[1;33m\u001b[0m\u001b[0m\n\u001b[0;32m    344\u001b[0m                         \u001b[0mprint\u001b[0m\u001b[1;33m(\u001b[0m\u001b[1;34m'----Assigned!'\u001b[0m\u001b[1;33m)\u001b[0m\u001b[1;33m\u001b[0m\u001b[1;33m\u001b[0m\u001b[0m\n\u001b[1;32m--> 345\u001b[1;33m                     \u001b[0mresult\u001b[0m \u001b[1;33m=\u001b[0m \u001b[0mbacktrack\u001b[0m\u001b[1;33m(\u001b[0m\u001b[0massignment\u001b[0m\u001b[1;33m)\u001b[0m\u001b[1;33m\u001b[0m\u001b[1;33m\u001b[0m\u001b[0m\n\u001b[0m\u001b[0;32m    346\u001b[0m                     \u001b[1;32mif\u001b[0m \u001b[0mresult\u001b[0m \u001b[1;32mis\u001b[0m \u001b[1;32mnot\u001b[0m \u001b[1;32mNone\u001b[0m\u001b[1;33m:\u001b[0m\u001b[1;33m\u001b[0m\u001b[1;33m\u001b[0m\u001b[0m\n\u001b[0;32m    347\u001b[0m                         \u001b[1;32mreturn\u001b[0m \u001b[0mresult\u001b[0m\u001b[1;33m\u001b[0m\u001b[1;33m\u001b[0m\u001b[0m\n",
      "\u001b[1;32m~\\Desktop\\Sint\\projeto2-SI\\csp.py\u001b[0m in \u001b[0;36mbacktrack\u001b[1;34m(assignment)\u001b[0m\n\u001b[0;32m    343\u001b[0m                     \u001b[1;32mif\u001b[0m \u001b[0mverbose\u001b[0m\u001b[1;33m:\u001b[0m\u001b[1;33m\u001b[0m\u001b[1;33m\u001b[0m\u001b[0m\n\u001b[0;32m    344\u001b[0m                         \u001b[0mprint\u001b[0m\u001b[1;33m(\u001b[0m\u001b[1;34m'----Assigned!'\u001b[0m\u001b[1;33m)\u001b[0m\u001b[1;33m\u001b[0m\u001b[1;33m\u001b[0m\u001b[0m\n\u001b[1;32m--> 345\u001b[1;33m                     \u001b[0mresult\u001b[0m \u001b[1;33m=\u001b[0m \u001b[0mbacktrack\u001b[0m\u001b[1;33m(\u001b[0m\u001b[0massignment\u001b[0m\u001b[1;33m)\u001b[0m\u001b[1;33m\u001b[0m\u001b[1;33m\u001b[0m\u001b[0m\n\u001b[0m\u001b[0;32m    346\u001b[0m                     \u001b[1;32mif\u001b[0m \u001b[0mresult\u001b[0m \u001b[1;32mis\u001b[0m \u001b[1;32mnot\u001b[0m \u001b[1;32mNone\u001b[0m\u001b[1;33m:\u001b[0m\u001b[1;33m\u001b[0m\u001b[1;33m\u001b[0m\u001b[0m\n\u001b[0;32m    347\u001b[0m                         \u001b[1;32mreturn\u001b[0m \u001b[0mresult\u001b[0m\u001b[1;33m\u001b[0m\u001b[1;33m\u001b[0m\u001b[0m\n",
      "\u001b[1;32m~\\Desktop\\Sint\\projeto2-SI\\csp.py\u001b[0m in \u001b[0;36mbacktrack\u001b[1;34m(assignment)\u001b[0m\n\u001b[0;32m    343\u001b[0m                     \u001b[1;32mif\u001b[0m \u001b[0mverbose\u001b[0m\u001b[1;33m:\u001b[0m\u001b[1;33m\u001b[0m\u001b[1;33m\u001b[0m\u001b[0m\n\u001b[0;32m    344\u001b[0m                         \u001b[0mprint\u001b[0m\u001b[1;33m(\u001b[0m\u001b[1;34m'----Assigned!'\u001b[0m\u001b[1;33m)\u001b[0m\u001b[1;33m\u001b[0m\u001b[1;33m\u001b[0m\u001b[0m\n\u001b[1;32m--> 345\u001b[1;33m                     \u001b[0mresult\u001b[0m \u001b[1;33m=\u001b[0m \u001b[0mbacktrack\u001b[0m\u001b[1;33m(\u001b[0m\u001b[0massignment\u001b[0m\u001b[1;33m)\u001b[0m\u001b[1;33m\u001b[0m\u001b[1;33m\u001b[0m\u001b[0m\n\u001b[0m\u001b[0;32m    346\u001b[0m                     \u001b[1;32mif\u001b[0m \u001b[0mresult\u001b[0m \u001b[1;32mis\u001b[0m \u001b[1;32mnot\u001b[0m \u001b[1;32mNone\u001b[0m\u001b[1;33m:\u001b[0m\u001b[1;33m\u001b[0m\u001b[1;33m\u001b[0m\u001b[0m\n\u001b[0;32m    347\u001b[0m                         \u001b[1;32mreturn\u001b[0m \u001b[0mresult\u001b[0m\u001b[1;33m\u001b[0m\u001b[1;33m\u001b[0m\u001b[0m\n",
      "\u001b[1;32m~\\Desktop\\Sint\\projeto2-SI\\csp.py\u001b[0m in \u001b[0;36mbacktrack\u001b[1;34m(assignment)\u001b[0m\n\u001b[0;32m    343\u001b[0m                     \u001b[1;32mif\u001b[0m \u001b[0mverbose\u001b[0m\u001b[1;33m:\u001b[0m\u001b[1;33m\u001b[0m\u001b[1;33m\u001b[0m\u001b[0m\n\u001b[0;32m    344\u001b[0m                         \u001b[0mprint\u001b[0m\u001b[1;33m(\u001b[0m\u001b[1;34m'----Assigned!'\u001b[0m\u001b[1;33m)\u001b[0m\u001b[1;33m\u001b[0m\u001b[1;33m\u001b[0m\u001b[0m\n\u001b[1;32m--> 345\u001b[1;33m                     \u001b[0mresult\u001b[0m \u001b[1;33m=\u001b[0m \u001b[0mbacktrack\u001b[0m\u001b[1;33m(\u001b[0m\u001b[0massignment\u001b[0m\u001b[1;33m)\u001b[0m\u001b[1;33m\u001b[0m\u001b[1;33m\u001b[0m\u001b[0m\n\u001b[0m\u001b[0;32m    346\u001b[0m                     \u001b[1;32mif\u001b[0m \u001b[0mresult\u001b[0m \u001b[1;32mis\u001b[0m \u001b[1;32mnot\u001b[0m \u001b[1;32mNone\u001b[0m\u001b[1;33m:\u001b[0m\u001b[1;33m\u001b[0m\u001b[1;33m\u001b[0m\u001b[0m\n\u001b[0;32m    347\u001b[0m                         \u001b[1;32mreturn\u001b[0m \u001b[0mresult\u001b[0m\u001b[1;33m\u001b[0m\u001b[1;33m\u001b[0m\u001b[0m\n",
      "\u001b[1;32m~\\Desktop\\Sint\\projeto2-SI\\csp.py\u001b[0m in \u001b[0;36mbacktrack\u001b[1;34m(assignment)\u001b[0m\n\u001b[0;32m    343\u001b[0m                     \u001b[1;32mif\u001b[0m \u001b[0mverbose\u001b[0m\u001b[1;33m:\u001b[0m\u001b[1;33m\u001b[0m\u001b[1;33m\u001b[0m\u001b[0m\n\u001b[0;32m    344\u001b[0m                         \u001b[0mprint\u001b[0m\u001b[1;33m(\u001b[0m\u001b[1;34m'----Assigned!'\u001b[0m\u001b[1;33m)\u001b[0m\u001b[1;33m\u001b[0m\u001b[1;33m\u001b[0m\u001b[0m\n\u001b[1;32m--> 345\u001b[1;33m                     \u001b[0mresult\u001b[0m \u001b[1;33m=\u001b[0m \u001b[0mbacktrack\u001b[0m\u001b[1;33m(\u001b[0m\u001b[0massignment\u001b[0m\u001b[1;33m)\u001b[0m\u001b[1;33m\u001b[0m\u001b[1;33m\u001b[0m\u001b[0m\n\u001b[0m\u001b[0;32m    346\u001b[0m                     \u001b[1;32mif\u001b[0m \u001b[0mresult\u001b[0m \u001b[1;32mis\u001b[0m \u001b[1;32mnot\u001b[0m \u001b[1;32mNone\u001b[0m\u001b[1;33m:\u001b[0m\u001b[1;33m\u001b[0m\u001b[1;33m\u001b[0m\u001b[0m\n\u001b[0;32m    347\u001b[0m                         \u001b[1;32mreturn\u001b[0m \u001b[0mresult\u001b[0m\u001b[1;33m\u001b[0m\u001b[1;33m\u001b[0m\u001b[0m\n",
      "\u001b[1;32m~\\Desktop\\Sint\\projeto2-SI\\csp.py\u001b[0m in \u001b[0;36mbacktrack\u001b[1;34m(assignment)\u001b[0m\n\u001b[0;32m    343\u001b[0m                     \u001b[1;32mif\u001b[0m \u001b[0mverbose\u001b[0m\u001b[1;33m:\u001b[0m\u001b[1;33m\u001b[0m\u001b[1;33m\u001b[0m\u001b[0m\n\u001b[0;32m    344\u001b[0m                         \u001b[0mprint\u001b[0m\u001b[1;33m(\u001b[0m\u001b[1;34m'----Assigned!'\u001b[0m\u001b[1;33m)\u001b[0m\u001b[1;33m\u001b[0m\u001b[1;33m\u001b[0m\u001b[0m\n\u001b[1;32m--> 345\u001b[1;33m                     \u001b[0mresult\u001b[0m \u001b[1;33m=\u001b[0m \u001b[0mbacktrack\u001b[0m\u001b[1;33m(\u001b[0m\u001b[0massignment\u001b[0m\u001b[1;33m)\u001b[0m\u001b[1;33m\u001b[0m\u001b[1;33m\u001b[0m\u001b[0m\n\u001b[0m\u001b[0;32m    346\u001b[0m                     \u001b[1;32mif\u001b[0m \u001b[0mresult\u001b[0m \u001b[1;32mis\u001b[0m \u001b[1;32mnot\u001b[0m \u001b[1;32mNone\u001b[0m\u001b[1;33m:\u001b[0m\u001b[1;33m\u001b[0m\u001b[1;33m\u001b[0m\u001b[0m\n\u001b[0;32m    347\u001b[0m                         \u001b[1;32mreturn\u001b[0m \u001b[0mresult\u001b[0m\u001b[1;33m\u001b[0m\u001b[1;33m\u001b[0m\u001b[0m\n",
      "\u001b[1;32m~\\Desktop\\Sint\\projeto2-SI\\csp.py\u001b[0m in \u001b[0;36mbacktrack\u001b[1;34m(assignment)\u001b[0m\n\u001b[0;32m    343\u001b[0m                     \u001b[1;32mif\u001b[0m \u001b[0mverbose\u001b[0m\u001b[1;33m:\u001b[0m\u001b[1;33m\u001b[0m\u001b[1;33m\u001b[0m\u001b[0m\n\u001b[0;32m    344\u001b[0m                         \u001b[0mprint\u001b[0m\u001b[1;33m(\u001b[0m\u001b[1;34m'----Assigned!'\u001b[0m\u001b[1;33m)\u001b[0m\u001b[1;33m\u001b[0m\u001b[1;33m\u001b[0m\u001b[0m\n\u001b[1;32m--> 345\u001b[1;33m                     \u001b[0mresult\u001b[0m \u001b[1;33m=\u001b[0m \u001b[0mbacktrack\u001b[0m\u001b[1;33m(\u001b[0m\u001b[0massignment\u001b[0m\u001b[1;33m)\u001b[0m\u001b[1;33m\u001b[0m\u001b[1;33m\u001b[0m\u001b[0m\n\u001b[0m\u001b[0;32m    346\u001b[0m                     \u001b[1;32mif\u001b[0m \u001b[0mresult\u001b[0m \u001b[1;32mis\u001b[0m \u001b[1;32mnot\u001b[0m \u001b[1;32mNone\u001b[0m\u001b[1;33m:\u001b[0m\u001b[1;33m\u001b[0m\u001b[1;33m\u001b[0m\u001b[0m\n\u001b[0;32m    347\u001b[0m                         \u001b[1;32mreturn\u001b[0m \u001b[0mresult\u001b[0m\u001b[1;33m\u001b[0m\u001b[1;33m\u001b[0m\u001b[0m\n",
      "\u001b[1;32m~\\Desktop\\Sint\\projeto2-SI\\csp.py\u001b[0m in \u001b[0;36mbacktrack\u001b[1;34m(assignment)\u001b[0m\n\u001b[0;32m    343\u001b[0m                     \u001b[1;32mif\u001b[0m \u001b[0mverbose\u001b[0m\u001b[1;33m:\u001b[0m\u001b[1;33m\u001b[0m\u001b[1;33m\u001b[0m\u001b[0m\n\u001b[0;32m    344\u001b[0m                         \u001b[0mprint\u001b[0m\u001b[1;33m(\u001b[0m\u001b[1;34m'----Assigned!'\u001b[0m\u001b[1;33m)\u001b[0m\u001b[1;33m\u001b[0m\u001b[1;33m\u001b[0m\u001b[0m\n\u001b[1;32m--> 345\u001b[1;33m                     \u001b[0mresult\u001b[0m \u001b[1;33m=\u001b[0m \u001b[0mbacktrack\u001b[0m\u001b[1;33m(\u001b[0m\u001b[0massignment\u001b[0m\u001b[1;33m)\u001b[0m\u001b[1;33m\u001b[0m\u001b[1;33m\u001b[0m\u001b[0m\n\u001b[0m\u001b[0;32m    346\u001b[0m                     \u001b[1;32mif\u001b[0m \u001b[0mresult\u001b[0m \u001b[1;32mis\u001b[0m \u001b[1;32mnot\u001b[0m \u001b[1;32mNone\u001b[0m\u001b[1;33m:\u001b[0m\u001b[1;33m\u001b[0m\u001b[1;33m\u001b[0m\u001b[0m\n\u001b[0;32m    347\u001b[0m                         \u001b[1;32mreturn\u001b[0m \u001b[0mresult\u001b[0m\u001b[1;33m\u001b[0m\u001b[1;33m\u001b[0m\u001b[0m\n",
      "\u001b[1;32m~\\Desktop\\Sint\\projeto2-SI\\csp.py\u001b[0m in \u001b[0;36mbacktrack\u001b[1;34m(assignment)\u001b[0m\n\u001b[0;32m    343\u001b[0m                     \u001b[1;32mif\u001b[0m \u001b[0mverbose\u001b[0m\u001b[1;33m:\u001b[0m\u001b[1;33m\u001b[0m\u001b[1;33m\u001b[0m\u001b[0m\n\u001b[0;32m    344\u001b[0m                         \u001b[0mprint\u001b[0m\u001b[1;33m(\u001b[0m\u001b[1;34m'----Assigned!'\u001b[0m\u001b[1;33m)\u001b[0m\u001b[1;33m\u001b[0m\u001b[1;33m\u001b[0m\u001b[0m\n\u001b[1;32m--> 345\u001b[1;33m                     \u001b[0mresult\u001b[0m \u001b[1;33m=\u001b[0m \u001b[0mbacktrack\u001b[0m\u001b[1;33m(\u001b[0m\u001b[0massignment\u001b[0m\u001b[1;33m)\u001b[0m\u001b[1;33m\u001b[0m\u001b[1;33m\u001b[0m\u001b[0m\n\u001b[0m\u001b[0;32m    346\u001b[0m                     \u001b[1;32mif\u001b[0m \u001b[0mresult\u001b[0m \u001b[1;32mis\u001b[0m \u001b[1;32mnot\u001b[0m \u001b[1;32mNone\u001b[0m\u001b[1;33m:\u001b[0m\u001b[1;33m\u001b[0m\u001b[1;33m\u001b[0m\u001b[0m\n\u001b[0;32m    347\u001b[0m                         \u001b[1;32mreturn\u001b[0m \u001b[0mresult\u001b[0m\u001b[1;33m\u001b[0m\u001b[1;33m\u001b[0m\u001b[0m\n",
      "\u001b[1;32m~\\Desktop\\Sint\\projeto2-SI\\csp.py\u001b[0m in \u001b[0;36mbacktrack\u001b[1;34m(assignment)\u001b[0m\n\u001b[0;32m    334\u001b[0m                 \u001b[0mprint\u001b[0m\u001b[1;33m(\u001b[0m\u001b[1;34m\"--Test\"\u001b[0m\u001b[1;33m,\u001b[0m \u001b[0mvar\u001b[0m\u001b[1;33m,\u001b[0m \u001b[0mvalue\u001b[0m\u001b[1;33m)\u001b[0m\u001b[1;33m\u001b[0m\u001b[1;33m\u001b[0m\u001b[0m\n\u001b[0;32m    335\u001b[0m \u001b[1;33m\u001b[0m\u001b[0m\n\u001b[1;32m--> 336\u001b[1;33m             \u001b[1;32mif\u001b[0m \u001b[1;36m0\u001b[0m \u001b[1;33m==\u001b[0m \u001b[0mcsp\u001b[0m\u001b[1;33m.\u001b[0m\u001b[0mnconflicts\u001b[0m\u001b[1;33m(\u001b[0m\u001b[0mvar\u001b[0m\u001b[1;33m,\u001b[0m \u001b[0mvalue\u001b[0m\u001b[1;33m,\u001b[0m \u001b[0massignment\u001b[0m\u001b[1;33m)\u001b[0m\u001b[1;33m:\u001b[0m\u001b[1;33m\u001b[0m\u001b[1;33m\u001b[0m\u001b[0m\n\u001b[0m\u001b[0;32m    337\u001b[0m                 \u001b[0mcsp\u001b[0m\u001b[1;33m.\u001b[0m\u001b[0massign\u001b[0m\u001b[1;33m(\u001b[0m\u001b[0mvar\u001b[0m\u001b[1;33m,\u001b[0m \u001b[0mvalue\u001b[0m\u001b[1;33m,\u001b[0m \u001b[0massignment\u001b[0m\u001b[1;33m)\u001b[0m\u001b[1;33m\u001b[0m\u001b[1;33m\u001b[0m\u001b[0m\n\u001b[0;32m    338\u001b[0m                 \u001b[1;31m#if verbose:\u001b[0m\u001b[1;33m\u001b[0m\u001b[1;33m\u001b[0m\u001b[1;33m\u001b[0m\u001b[0m\n",
      "\u001b[1;32m~\\Desktop\\Sint\\projeto2-SI\\csp.py\u001b[0m in \u001b[0;36mnconflicts\u001b[1;34m(self, var, val, assignment)\u001b[0m\n\u001b[0;32m     80\u001b[0m             return (var2 in assignment and\n\u001b[0;32m     81\u001b[0m                     not self.constraints(var, val, var2, assignment[var2]))\n\u001b[1;32m---> 82\u001b[1;33m         \u001b[1;32mreturn\u001b[0m \u001b[0mcount\u001b[0m\u001b[1;33m(\u001b[0m\u001b[0mconflict\u001b[0m\u001b[1;33m(\u001b[0m\u001b[0mv\u001b[0m\u001b[1;33m)\u001b[0m \u001b[1;32mfor\u001b[0m \u001b[0mv\u001b[0m \u001b[1;32min\u001b[0m \u001b[0mself\u001b[0m\u001b[1;33m.\u001b[0m\u001b[0mneighbors\u001b[0m\u001b[1;33m[\u001b[0m\u001b[0mvar\u001b[0m\u001b[1;33m]\u001b[0m\u001b[1;33m)\u001b[0m\u001b[1;33m\u001b[0m\u001b[1;33m\u001b[0m\u001b[0m\n\u001b[0m\u001b[0;32m     83\u001b[0m \u001b[1;33m\u001b[0m\u001b[0m\n\u001b[0;32m     84\u001b[0m     \"\"\"   \n",
      "\u001b[1;32m~\\Desktop\\Sint\\projeto2-SI\\utils.py\u001b[0m in \u001b[0;36mcount\u001b[1;34m(seq)\u001b[0m\n\u001b[0;32m     37\u001b[0m \u001b[1;32mdef\u001b[0m \u001b[0mcount\u001b[0m\u001b[1;33m(\u001b[0m\u001b[0mseq\u001b[0m\u001b[1;33m)\u001b[0m\u001b[1;33m:\u001b[0m\u001b[1;33m\u001b[0m\u001b[1;33m\u001b[0m\u001b[0m\n\u001b[0;32m     38\u001b[0m     \u001b[1;34m\"\"\"Count the number of items in sequence that are interpreted as true.\"\"\"\u001b[0m\u001b[1;33m\u001b[0m\u001b[1;33m\u001b[0m\u001b[0m\n\u001b[1;32m---> 39\u001b[1;33m     \u001b[1;32mreturn\u001b[0m \u001b[0msum\u001b[0m\u001b[1;33m(\u001b[0m\u001b[0mbool\u001b[0m\u001b[1;33m(\u001b[0m\u001b[0mx\u001b[0m\u001b[1;33m)\u001b[0m \u001b[1;32mfor\u001b[0m \u001b[0mx\u001b[0m \u001b[1;32min\u001b[0m \u001b[0mseq\u001b[0m\u001b[1;33m)\u001b[0m\u001b[1;33m\u001b[0m\u001b[1;33m\u001b[0m\u001b[0m\n\u001b[0m\u001b[0;32m     40\u001b[0m \u001b[1;33m\u001b[0m\u001b[0m\n\u001b[0;32m     41\u001b[0m \u001b[1;33m\u001b[0m\u001b[0m\n",
      "\u001b[1;32m~\\Desktop\\Sint\\projeto2-SI\\utils.py\u001b[0m in \u001b[0;36m<genexpr>\u001b[1;34m(.0)\u001b[0m\n\u001b[0;32m     37\u001b[0m \u001b[1;32mdef\u001b[0m \u001b[0mcount\u001b[0m\u001b[1;33m(\u001b[0m\u001b[0mseq\u001b[0m\u001b[1;33m)\u001b[0m\u001b[1;33m:\u001b[0m\u001b[1;33m\u001b[0m\u001b[1;33m\u001b[0m\u001b[0m\n\u001b[0;32m     38\u001b[0m     \u001b[1;34m\"\"\"Count the number of items in sequence that are interpreted as true.\"\"\"\u001b[0m\u001b[1;33m\u001b[0m\u001b[1;33m\u001b[0m\u001b[0m\n\u001b[1;32m---> 39\u001b[1;33m     \u001b[1;32mreturn\u001b[0m \u001b[0msum\u001b[0m\u001b[1;33m(\u001b[0m\u001b[0mbool\u001b[0m\u001b[1;33m(\u001b[0m\u001b[0mx\u001b[0m\u001b[1;33m)\u001b[0m \u001b[1;32mfor\u001b[0m \u001b[0mx\u001b[0m \u001b[1;32min\u001b[0m \u001b[0mseq\u001b[0m\u001b[1;33m)\u001b[0m\u001b[1;33m\u001b[0m\u001b[1;33m\u001b[0m\u001b[0m\n\u001b[0m\u001b[0;32m     40\u001b[0m \u001b[1;33m\u001b[0m\u001b[0m\n\u001b[0;32m     41\u001b[0m \u001b[1;33m\u001b[0m\u001b[0m\n",
      "\u001b[1;32m~\\Desktop\\Sint\\projeto2-SI\\csp.py\u001b[0m in \u001b[0;36m<genexpr>\u001b[1;34m(.0)\u001b[0m\n\u001b[0;32m     80\u001b[0m             return (var2 in assignment and\n\u001b[0;32m     81\u001b[0m                     not self.constraints(var, val, var2, assignment[var2]))\n\u001b[1;32m---> 82\u001b[1;33m         \u001b[1;32mreturn\u001b[0m \u001b[0mcount\u001b[0m\u001b[1;33m(\u001b[0m\u001b[0mconflict\u001b[0m\u001b[1;33m(\u001b[0m\u001b[0mv\u001b[0m\u001b[1;33m)\u001b[0m \u001b[1;32mfor\u001b[0m \u001b[0mv\u001b[0m \u001b[1;32min\u001b[0m \u001b[0mself\u001b[0m\u001b[1;33m.\u001b[0m\u001b[0mneighbors\u001b[0m\u001b[1;33m[\u001b[0m\u001b[0mvar\u001b[0m\u001b[1;33m]\u001b[0m\u001b[1;33m)\u001b[0m\u001b[1;33m\u001b[0m\u001b[1;33m\u001b[0m\u001b[0m\n\u001b[0m\u001b[0;32m     83\u001b[0m \u001b[1;33m\u001b[0m\u001b[0m\n\u001b[0;32m     84\u001b[0m     \"\"\"   \n",
      "\u001b[1;32m~\\Desktop\\Sint\\projeto2-SI\\csp.py\u001b[0m in \u001b[0;36mconflict\u001b[1;34m(var2)\u001b[0m\n\u001b[0;32m     79\u001b[0m         \u001b[1;32mdef\u001b[0m \u001b[0mconflict\u001b[0m\u001b[1;33m(\u001b[0m\u001b[0mvar2\u001b[0m\u001b[1;33m)\u001b[0m\u001b[1;33m:\u001b[0m\u001b[1;33m\u001b[0m\u001b[1;33m\u001b[0m\u001b[0m\n\u001b[0;32m     80\u001b[0m             return (var2 in assignment and\n\u001b[1;32m---> 81\u001b[1;33m                     not self.constraints(var, val, var2, assignment[var2]))\n\u001b[0m\u001b[0;32m     82\u001b[0m         \u001b[1;32mreturn\u001b[0m \u001b[0mcount\u001b[0m\u001b[1;33m(\u001b[0m\u001b[0mconflict\u001b[0m\u001b[1;33m(\u001b[0m\u001b[0mv\u001b[0m\u001b[1;33m)\u001b[0m \u001b[1;32mfor\u001b[0m \u001b[0mv\u001b[0m \u001b[1;32min\u001b[0m \u001b[0mself\u001b[0m\u001b[1;33m.\u001b[0m\u001b[0mneighbors\u001b[0m\u001b[1;33m[\u001b[0m\u001b[0mvar\u001b[0m\u001b[1;33m]\u001b[0m\u001b[1;33m)\u001b[0m\u001b[1;33m\u001b[0m\u001b[1;33m\u001b[0m\u001b[0m\n\u001b[0;32m     83\u001b[0m \u001b[1;33m\u001b[0m\u001b[0m\n",
      "\u001b[1;32m<ipython-input-92-bbd4858245b8>\u001b[0m in \u001b[0;36mrestricoes_quad\u001b[1;34m(A, a, B, b)\u001b[0m\n\u001b[0;32m     85\u001b[0m \u001b[1;33m\u001b[0m\u001b[0m\n\u001b[0;32m     86\u001b[0m             \u001b[1;32mfor\u001b[0m \u001b[0md\u001b[0m \u001b[1;32min\u001b[0m \u001b[0mdesigualdades\u001b[0m\u001b[1;33m:\u001b[0m\u001b[1;33m\u001b[0m\u001b[1;33m\u001b[0m\u001b[0m\n\u001b[1;32m---> 87\u001b[1;33m                 \u001b[1;32mif\u001b[0m \u001b[0md\u001b[0m\u001b[1;33m[\u001b[0m\u001b[1;36m1\u001b[0m\u001b[1;33m]\u001b[0m \u001b[1;33m==\u001b[0m \u001b[1;34m'<'\u001b[0m \u001b[1;32mand\u001b[0m \u001b[0md\u001b[0m\u001b[1;33m[\u001b[0m\u001b[1;36m0\u001b[0m\u001b[1;33m]\u001b[0m \u001b[1;33m==\u001b[0m \u001b[0mA\u001b[0m \u001b[1;32mand\u001b[0m \u001b[0md\u001b[0m\u001b[1;33m[\u001b[0m\u001b[1;36m2\u001b[0m\u001b[1;33m]\u001b[0m\u001b[1;33m==\u001b[0m\u001b[0mB\u001b[0m \u001b[1;33m:\u001b[0m\u001b[1;33m\u001b[0m\u001b[1;33m\u001b[0m\u001b[0m\n\u001b[0m\u001b[0;32m     88\u001b[0m                     \u001b[0mrestricoes\u001b[0m\u001b[1;33m[\u001b[0m\u001b[1;33m(\u001b[0m\u001b[0mA\u001b[0m\u001b[1;33m,\u001b[0m\u001b[0mB\u001b[0m\u001b[1;33m)\u001b[0m\u001b[1;33m]\u001b[0m \u001b[1;33m=\u001b[0m \u001b[0mmenor_que\u001b[0m\u001b[1;33m\u001b[0m\u001b[1;33m\u001b[0m\u001b[0m\n\u001b[0;32m     89\u001b[0m                 \u001b[1;32mif\u001b[0m \u001b[0md\u001b[0m\u001b[1;33m[\u001b[0m\u001b[1;36m1\u001b[0m\u001b[1;33m]\u001b[0m \u001b[1;33m==\u001b[0m \u001b[1;34m'<'\u001b[0m \u001b[1;32mand\u001b[0m \u001b[0md\u001b[0m\u001b[1;33m[\u001b[0m\u001b[1;36m0\u001b[0m\u001b[1;33m]\u001b[0m \u001b[1;33m==\u001b[0m \u001b[0mB\u001b[0m \u001b[1;32mand\u001b[0m \u001b[0md\u001b[0m\u001b[1;33m[\u001b[0m\u001b[1;36m2\u001b[0m\u001b[1;33m]\u001b[0m\u001b[1;33m==\u001b[0m\u001b[0mA\u001b[0m\u001b[1;33m:\u001b[0m\u001b[1;33m\u001b[0m\u001b[1;33m\u001b[0m\u001b[0m\n",
      "\u001b[1;31mKeyboardInterrupt\u001b[0m: "
     ]
    }
   ],
   "source": [
    "# código de aplicação dos algoritmos\n",
    "#trocar verbose para true para mais detalhes de cada etapa até á solução\n",
    "import timeit\n",
    "\n",
    "dim = 8\n",
    "\n",
    "print(\"Backtracking simples\")\n",
    "p5 = quadrado_latino(len = dim, dom_quadrado = {'A1':2,'D3':3}, ineq = ['C2 < C3', 'A1 < B1', 'D3 < D4'])\n",
    "start1 = timeit.default_timer()\n",
    "backtracking = backtracking_search(p5,verbose = False)\n",
    "stop1 = timeit.default_timer()\n",
    "print('Afetações = ', backtracking) \n",
    "tempo1 = stop1 - start1\n",
    "print(\"Tempo: \", tempo1)\n",
    "\n",
    "print(\"\\nBacktracking com inferencia : forward checking\")\n",
    "p6 = quadrado_latino(len = dim, dom_quadrado = {'A1':2,'D3':3}, ineq = ['C2 < C3', 'A1 < B1', 'D3 < D4'])\n",
    "start2 = timeit.default_timer()\n",
    "b_inf_forward_checking = backtracking_search(p6, inference = forward_checking, verbose = False)\n",
    "stop2 = timeit.default_timer()\n",
    "print('Afetações = ',b_inf_forward_checking)\n",
    "tempo2 = stop2 - start2\n",
    "print(\"Tempo: \", tempo2)\n",
    "\n",
    "print(\"\\nBacktracking com inferencia : Mantain Arc Consistent\")\n",
    "p7 = quadrado_latino(len = dim, dom_quadrado = {'A1':2,'D3':3}, ineq = ['C2 < C3', 'A1 < B1', 'D3 < D4'])\n",
    "start3 = timeit.default_timer()\n",
    "b_inf_mac = backtracking_search(p7,inference = mac, verbose = False)\n",
    "stop3 = timeit.default_timer()\n",
    "print('Afetações = ',b_inf_mac)\n",
    "tempo3 = stop3 - start3\n",
    "print(\"Tempo: \", tempo3)\n",
    "\n",
    "print(\"\\nBacktracking com heuristica : mrv\")\n",
    "p8 = quadrado_latino(len = dim, dom_quadrado = {'A1':2,'D3':3}, ineq = ['C2 < C3', 'A1 < B1', 'D3 < D4'])\n",
    "start4 = timeit.default_timer()\n",
    "b_heur_mrv = backtracking_search(p8,select_unassigned_variable = mrv, verbose=False)\n",
    "stop4 = timeit.default_timer()\n",
    "print('Afetações = ',b_heur_mrv)\n",
    "tempo4 = stop4 - start4\n",
    "print(\"Tempo: \", tempo4)\n",
    "\n",
    "#RESULTADOS\n",
    "\n",
    "# Em ambos backtracking sem e com inferencia, a partir da dimensão 10 (len = 10), o código demora mais de 1 minuto a executar.\n",
    "# Por outro lado, no backtracking com uma heuristica, qualquer dimensão acima de 5 demora mais de 1 minuto a executar. \n",
    "#Note que depende também da performance de cada computador\n"
   ]
  },
  {
   "cell_type": "code",
   "execution_count": 102,
   "metadata": {},
   "outputs": [],
   "source": []
  },
  {
   "cell_type": "markdown",
   "metadata": {},
   "source": [
    "## Visualização do problema"
   ]
  },
  {
   "cell_type": "code",
   "execution_count": 129,
   "metadata": {},
   "outputs": [],
   "source": [
    "# Implemente uma função que permita visualizar o quadrado latino, antes e depois de resolvido.\n",
    "\n",
    "\n",
    "#o r é para qualquer algoritmo com a solucao em formato dict\n",
    "def display_f(p = quadrado_latino (), r = backtracking, ineq = ['C2 < C3', 'A1 < B1', 'D4 > D3']):\n",
    "    letras = 'ABCDEFGHIJKLMNOPQRSTUVWXYZ'\n",
    "    desigualdades = []\n",
    "        \n",
    "    for i in ineq:\n",
    "        i = i.split(' ')\n",
    "        desigualdades.append(i)\n",
    "        \n",
    "    menor_que_seguinte = []\n",
    "    maior_que_seguinte = [] \n",
    "    menor_que_baixo = []\n",
    "    maior_que_baixo = []\n",
    "    for d in desigualdades:\n",
    "        if d[0][1] == d[2][1] and letras.index(d[0][0]) == letras.index(d[2][0]) - 1 and d[1] == '<': #número igual e a letra do primeiro elemento é a anterior à letra do segundo (mesma linha e o 1º elemento está à esquerda do 2º)\n",
    "            menor_que_seguinte.append(d[0])\n",
    "        if d[0][1] == d[2][1] and letras.index(d[0][0]) == letras.index(d[2][0]) + 1 and d[1] == '<':\n",
    "            maior_que_seguinte.append(d[2])\n",
    "        if d[0][1] == d[2][1] and letras.index(d[0][0]) == letras.index(d[2][0]) - 1 and d[1] == '>':\n",
    "            maior_que_seguinte.append(d[0])   \n",
    "        if d[0][1] == d[2][1] and letras.index(d[0][0]) == letras.index(d[2][0]) + 1 and d[1] == '>':\n",
    "            menor_que_seguinte.append(d[2])\n",
    "        if d[0][0] == d[2][0] and int(d[0][1]) == int(d[2][1]) - 1 and d[1] == '<':\n",
    "            menor_que_baixo.append(d[0])\n",
    "        if d[0][0] == d[2][0] and int(d[0][1]) == int(d[2][1]) + 1 and d[1] == '<':\n",
    "            maior_que_baixo.append(d[2])\n",
    "        if d[0][0] == d[2][0] and int(d[0][1]) == int(d[2][1]) - 1 and d[1] == '>':\n",
    "            maior_que_baixo.append(d[0])\n",
    "        if d[0][0] == d[2][0] and int(d[0][1]) == int(d[2][1]) + 1 and d[1] == '>':\n",
    "            menor_que_baixo.append(d[2])    \n",
    "   \n",
    "            \n",
    "   #visualizacao do problema quadrado latino no estado inicial:\n",
    "    print('Quadrado inicial:\\n')\n",
    "    var = p.variables\n",
    "    n_linhas = []\n",
    "    for v in var:\n",
    "        if v[0] == 'A':\n",
    "            n_linhas.append(v) #o número de A (ou de outra letra qualquer), dá nos o numero de linhas/ o numero de elementos por\n",
    "            #linha, que vai ser necessário mais à frente. Por isso criei esta lista so com os A, assim à frente chamo a lenght\n",
    "            #disto para fazer as contas consoante o numero de linhas de cada problema em específico\n",
    "    \n",
    "    valores = {}\n",
    "    desigualdades = {}\n",
    "    for v in var:\n",
    "        if len(p.domains[v]) == 1:\n",
    "            #se nos domínios só tiver 1 valor (as variáveis que estão preenchidas desde o início, ou cujo valor, devido a restrições,\n",
    "            # já está atribuído)\n",
    "            valores[v] = p.domains.get(v)[0]\n",
    "            #adiciona ao dicionário valores o valor (único do seu domínio)\n",
    "        else:\n",
    "            #caso contrário, o valor das variáveis que têm mais de um valor no domínio fica '-'\n",
    "            valores[v] = '-'\n",
    "        if v in menor_que_baixo:\n",
    "            desigualdades[v] = '<'\n",
    "        elif v in maior_que_baixo:\n",
    "            desigualdades[v] = '>'\n",
    "        else:\n",
    "            desigualdades[v] = ' '\n",
    "            \n",
    "    x = 0\n",
    "    y = len(n_linhas)\n",
    "    n = 0 #vai entrar no ciclo while, onde se vai somar 1 \n",
    "    count = 1 #para fazer print dos números que são a primeira coluna da grelha\n",
    "    print ('', end = '    ') #só para questão de alinhamento\n",
    "    for x in range(len(n_linhas)):#x vai até ao nº de linhas/colunas do quadrado\n",
    "        \n",
    "        print(var[x][0], end = '    ') #fazemos print do primeiro carater da variável, que é a letra - cabeçalho da grelha\n",
    "    print (' ') #para o próximo print aparecer na linha de baixo\n",
    "    \n",
    "    while n < len(var): \n",
    "        if (n+1)%(len(n_linhas)) == 0: #queremos ter tantas linhas no print como o numero de linhas do problema, por isso temos \n",
    "            #de mudar de linha quando já tivermos n=nº de linhas elementos. Quando n+1(porque começa no zero) for divisivel pelo\n",
    "            #numero de linhas, o proximo print aparece na linha seguinte\n",
    "            if var[n] in maior_que_seguinte:\n",
    "                print (valores[var[n]], '> ', end = '\\n')#fazemos print do valor que está associado à variável de indíce n, no dicionário valores\n",
    "            elif var[n] in menor_que_seguinte:\n",
    "                 print (valores[var[n]], '< ', end = '\\n')\n",
    "            else:\n",
    "                print (valores[var[n]], '  ',end = '\\n')\n",
    "            \n",
    "            print ([desigualdades[var[n]] for n in range(x, y)])\n",
    "\n",
    "        \n",
    "\n",
    "        \n",
    "        elif n %(len(n_linhas)) == 0: #quando mudamos de linha, o primeiro elemento tem de ser o número, que corresponde ao \n",
    "            #segundo carater da variavel (para fazer uma tabela, em que no cruzamento otemos as variáveis - A1, B1, etc)\n",
    "            if var[n] in maior_que_seguinte:\n",
    "                print (count, '|', valores[var[n]], '> ', end = ' ' )\n",
    "            elif var[n] in menor_que_seguinte:\n",
    "                print (count, '|', valores[var[n]], '< ', end = ' ' )\n",
    "            else:\n",
    "                print (count, '|', valores[var[n]], '  ', end = ' ' )\n",
    "            count += 1\n",
    "        else:\n",
    "            if var[n] in maior_que_seguinte:\n",
    "                print (valores[var[n]], '> ', end = ' ') \n",
    "            elif var[n] in menor_que_seguinte:\n",
    "                print (valores[var[n]], '< ', end = ' ') \n",
    "            else:\n",
    "                print (valores[var[n]],'  ', end = ' ') \n",
    "        n += 1\n",
    "        x += int(len(n_linhas))\n",
    "    \n",
    "    #visualização do quadrado latino preenchido usando o algoritmo:\n",
    "    \n",
    "    print('\\nQuadrado final:\\n')\n",
    "    dict_var = r #dicionário com as soluções do algoritmo\n",
    "    #print para verificar se a visualizacao esta certa\n",
    "    #print(dict_var)\n",
    "    \n",
    "    n_linhas = []\n",
    "    valores = {}\n",
    "    for key in dict_var :#As chaves do dicionário, que são as nossas variáveis (A1, B1, etc)\n",
    "        valores[key] = dict_var[key] #criar um novo dicionário, em que as chaves são as variáveis (A1, B1, etc) e os valores são os valores que a solução atribuiu às variáveis\n",
    "        if key[0] == 'A': #nº de variaveis cuja letra é A é o numero de linhas/colunas do quadrado. Usando a lenght desta lista vamos conseguir criar a grelha de visualização\n",
    "            n_linhas.append(key[1]) \n",
    "            \n",
    "     \n",
    "    n = 0 #vai entrar no ciclo while, onde se vai somar 1 \n",
    "    count = 1 #para fazer print dos números que são a primeira coluna da grelha\n",
    "    print ('', end = '    ') #só para questão de alinhamento\n",
    "    for x in range(len(n_linhas)): #x vai até ao nº de linhas/colunas do quadrado\n",
    "        print(var[x][0], end = '    ') #fazemos print do primeiro carater da variável, que é a letra - cabeçalho da grelha\n",
    "    print (' ') #para o próximo print aparecer na linha de baixo        \n",
    "    while n < len(var): \n",
    "        if (n+1)%(len(n_linhas)) == 0: #queremos ter tantas linhas no print como o numero de linhas do problema, por isso temos \n",
    "            #de mudar de linha quando já tivermos n=nº de linhas elementos. Quando n+1(porque começa no zero) for divisivel pelo\n",
    "            #numero de linhas, o proximo print aparece na linha seguinte\n",
    "            if var[n] in maior_que_seguinte:\n",
    "                print (valores[var[n]],'> ', end = '\\n')\n",
    "            elif var[n] in menor_que_seguinte:\n",
    "                print (valores[var[n]],'< ', end = '\\n')\n",
    "            else:\n",
    "                print (valores[var[n]], '  ', end = '\\n') #fazemos print do valor que está associado à variável de indíce n, no dicionário valores\n",
    "        elif n %(len(n_linhas)) == 0: #quando mudamos de linha, o primeiro elemento tem de ser o número, que corresponde ao \n",
    "            #segundo carater da variavel (para fazer uma tabela, em que no cruzamento otemos as variáveis - A1, B1, etc)\n",
    "            if var[n] in maior_que_seguinte:\n",
    "                print (count, '|', valores[var[n]], '> ', end = ' ' )\n",
    "            elif var[n] in menor_que_seguinte:\n",
    "                print (count, '|', valores[var[n]], '< ', end = ' ' )\n",
    "            else:  \n",
    "                print (count, '|', valores[var[n]], '  ', end = ' ' )\n",
    "            count += 1\n",
    "        else:\n",
    "            if var[n] in maior_que_seguinte:\n",
    "                print (valores[var[n]], '>  ', end = ' ')\n",
    "            elif var[n] in menor_que_seguinte:\n",
    "                print (valores[var[n]], '<  ', end = ' ')\n",
    "            else: \n",
    "                print (valores[var[n]], '  ', end = ' ') \n",
    "        n += 1    \n",
    "        \n",
    "    print ([desigualdades[var[n]] for n in range(4)])\n"
   ]
  },
  {
   "cell_type": "code",
   "execution_count": 130,
   "metadata": {},
   "outputs": [
    {
     "name": "stdout",
     "output_type": "stream",
     "text": [
      "Quadrado inicial:\n",
      "\n",
      "    A    B    C    D     \n",
      "1 | 3 <  -    -    -   \n",
      "[]\n",
      "2 | -    -    1    -   \n",
      "[]\n",
      "3 | -    -    -    -   \n",
      "[]\n",
      "4 | -    2    -    -   \n",
      "[]\n",
      "\n",
      "Quadrado final:\n",
      "\n",
      "    A    B    C    D    A    B    C    D    A     \n",
      "1 | 2 <  3    1    4    1    2    3    5    4   \n",
      "2 | 1    5    3    3    4    2    6    [' ', ' ', ' ', ' ']\n"
     ]
    }
   ],
   "source": [
    "display_f(p , backtracking)"
   ]
  },
  {
   "cell_type": "code",
   "execution_count": null,
   "metadata": {},
   "outputs": [],
   "source": []
  },
  {
   "cell_type": "markdown",
   "metadata": {},
   "source": [
    "**Teste com puzzle \"Easy\" sem espaços preenchidos**"
   ]
  },
  {
   "cell_type": "code",
   "execution_count": 136,
   "metadata": {},
   "outputs": [
    {
     "name": "stdout",
     "output_type": "stream",
     "text": [
      "Assignment p =  {'A1': 1, 'B1': 2, 'C1': 4, 'D1': 3, 'A2': 2, 'B2': 3, 'C2': 1, 'D2': 4, 'A3': 4, 'B3': 1, 'C3': 3, 'D3': 2, 'A4': 3, 'B4': 4, 'C4': 2, 'D4': 1}\n",
      "Quadrado inicial:\n",
      "\n",
      "    A B C D  \n",
      "1 | - - - -\n",
      "2 | - - - -\n",
      "3 | - - - -\n",
      "4 | - - - -\n",
      "\n",
      "Quadrado final:\n",
      "\n",
      "    A B C D  \n",
      "1 | 1 2 4 3\n",
      "2 | 2 3 1 4\n",
      "3 | 4 1 3 2\n",
      "4 | 3 4 2 1\n"
     ]
    }
   ],
   "source": [
    "p5 = quadrado_latino(len=4, dom_quadrado={}, ineq=['A1 < B1', 'C1 > C2', 'A2 < B2', 'C3 > C4', 'C4 > D4', 'A4 < B4'])\n",
    "\n",
    "# print('variáveis:', p.variables, '\\n')\n",
    "# print('domínios iniciais:', p.domains, '\\n')\n",
    "# print('vizinhos:', p.neighbors, '\\n')\n",
    "\n",
    "\n",
    "#display(p4, backtracking)\n",
    "backtracking = backtracking_search(p5, verbose=False)\n",
    "print('Assignment p = ', backtracking)\n",
    "\n",
    "display(p5, backtracking)"
   ]
  },
  {
   "cell_type": "markdown",
   "metadata": {},
   "source": [
    "![title](TESTE4BEFORE.png)\n",
    "\n",
    "![title](TESTE4AFTER.png)"
   ]
  },
  {
   "cell_type": "markdown",
   "metadata": {},
   "source": [
    "**Teste com puzzle \"Easy\" com espaços preenchidos**"
   ]
  },
  {
   "cell_type": "code",
   "execution_count": 131,
   "metadata": {},
   "outputs": [
    {
     "name": "stdout",
     "output_type": "stream",
     "text": [
      "Assignment p =  {'A1': 3, 'B1': 1, 'C1': 2, 'D1': 4, 'A2': 1, 'B2': 3, 'C2': 4, 'D2': 2, 'A3': 2, 'B3': 4, 'C3': 3, 'D3': 1, 'A4': 4, 'B4': 2, 'C4': 1, 'D4': 3}\n",
      "Quadrado inicial:\n",
      "\n",
      "    A B C D  \n",
      "1 | - - 2 4\n",
      "2 | - - - 2\n",
      "3 | - - - -\n",
      "4 | - - - -\n",
      "\n",
      "Quadrado final:\n",
      "\n",
      "    A B C D  \n",
      "1 | 3 1 2 4\n",
      "2 | 1 3 4 2\n",
      "3 | 2 4 3 1\n",
      "4 | 4 2 1 3\n"
     ]
    }
   ],
   "source": [
    "p3 = quadrado_latino(len=4, dom_quadrado={'C1' : 2, 'D1' : 4, 'D2' :2 }, ineq=['A1 > B1', 'B3 > B2' , 'B4 > C4'])\n",
    "\n",
    "# print('variáveis:', p.variables, '\\n')\n",
    "# print('domínios iniciais:', p.domains, '\\n')\n",
    "# print('vizinhos:', p.neighbors, '\\n')\n",
    "\n",
    "\n",
    "#display(p3, backtracking)\n",
    "backtracking = backtracking_search(p3, verbose=False)\n",
    "print('Assignment p = ', backtracking)\n",
    "\n",
    "display(p3, backtracking)\n"
   ]
  },
  {
   "cell_type": "markdown",
   "metadata": {},
   "source": [
    "![title](teste2beforee.png)\n",
    "\n",
    "![title](teste2after.png)"
   ]
  },
  {
   "cell_type": "markdown",
   "metadata": {},
   "source": [
    "**Teste com puzzle \"Tricky\" com espaços preenchidos**"
   ]
  },
  {
   "cell_type": "code",
   "execution_count": 134,
   "metadata": {},
   "outputs": [
    {
     "name": "stdout",
     "output_type": "stream",
     "text": [
      "Assignment p =  {'A1': 4, 'B1': 2, 'C1': 1, 'D1': 3, 'A2': 1, 'B2': 3, 'C2': 2, 'D2': 4, 'A3': 2, 'B3': 4, 'C3': 3, 'D3': 1, 'A4': 3, 'B4': 1, 'C4': 4, 'D4': 2}\n",
      "Quadrado inicial:\n",
      "\n",
      "    A B C D  \n",
      "1 | - - - -\n",
      "2 | - - - -\n",
      "3 | - - - -\n",
      "4 | - 1 - 2\n",
      "\n",
      "Quadrado final:\n",
      "\n",
      "    A B C D  \n",
      "1 | 4 2 1 3\n",
      "2 | 1 3 2 4\n",
      "3 | 2 4 3 1\n",
      "4 | 3 1 4 2\n"
     ]
    }
   ],
   "source": [
    "p4 = quadrado_latino(len=4, dom_quadrado={'B4': 1, 'D4' : 2}, ineq=['A1 > B1', 'B3 > C3', 'D4 > D3'])\n",
    "\n",
    "# print('variáveis:', p.variables, '\\n')\n",
    "# print('domínios iniciais:', p.domains, '\\n')\n",
    "# print('vizinhos:', p.neighbors, '\\n')\n",
    "\n",
    "#display(p4, backtracking)\n",
    "backtracking = backtracking_search(p4, verbose=False)\n",
    "print('Assignment p = ', backtracking)\n",
    "\n",
    "display(p4, backtracking)"
   ]
  },
  {
   "cell_type": "markdown",
   "metadata": {},
   "source": [
    "![title](teste3before.png)\n",
    "\n",
    "![title](teste3aafter.png)"
   ]
  },
  {
   "cell_type": "code",
   "execution_count": null,
   "metadata": {},
   "outputs": [],
   "source": []
  },
  {
   "cell_type": "code",
   "execution_count": null,
   "metadata": {},
   "outputs": [],
   "source": []
  }
 ],
 "metadata": {
  "kernelspec": {
   "display_name": "Python 3",
   "language": "python",
   "name": "python3"
  },
  "language_info": {
   "codemirror_mode": {
    "name": "ipython",
    "version": 3
   },
   "file_extension": ".py",
   "mimetype": "text/x-python",
   "name": "python",
   "nbconvert_exporter": "python",
   "pygments_lexer": "ipython3",
   "version": "3.8.5"
  }
 },
 "nbformat": 4,
 "nbformat_minor": 2
}
