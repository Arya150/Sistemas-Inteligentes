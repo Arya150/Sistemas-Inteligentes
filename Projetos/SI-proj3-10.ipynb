{
 "cells": [
  {
   "cell_type": "markdown",
   "metadata": {},
   "source": [
    "# Sistemas Inteligentes 2021/2022\n",
    "\n",
    "## Mini-projeto 3: Aprendizagem Automática\n",
    "\n",
    "## Relatório\n"
   ]
  },
  {
   "cell_type": "markdown",
   "metadata": {},
   "source": [
    "## Grupo: 10\n",
    "\n",
    "Número: 59270 - Nome: Tatiana Moura \n",
    "\n",
    "Número: 55945 Nome: Mariana Valente\n",
    "\n",
    "Número: 54356 Nome: Judite Ramos"
   ]
  },
  {
   "cell_type": "markdown",
   "metadata": {},
   "source": [
    "## 1. Processamento dos dados\n",
    "\n",
    "* Primeiro extraimos os dados do train.csv"
   ]
  },
  {
   "cell_type": "code",
   "execution_count": 286,
   "metadata": {},
   "outputs": [
    {
     "name": "stdout",
     "output_type": "stream",
     "text": [
      "Dados do documento original train:\n"
     ]
    },
    {
     "data": {
      "text/html": [
       "<div>\n",
       "<style scoped>\n",
       "    .dataframe tbody tr th:only-of-type {\n",
       "        vertical-align: middle;\n",
       "    }\n",
       "\n",
       "    .dataframe tbody tr th {\n",
       "        vertical-align: top;\n",
       "    }\n",
       "\n",
       "    .dataframe thead th {\n",
       "        text-align: right;\n",
       "    }\n",
       "</style>\n",
       "<table border=\"1\" class=\"dataframe\">\n",
       "  <thead>\n",
       "    <tr style=\"text-align: right;\">\n",
       "      <th></th>\n",
       "      <th>ID</th>\n",
       "      <th>N_Days</th>\n",
       "      <th>Status</th>\n",
       "      <th>Drug</th>\n",
       "      <th>Age</th>\n",
       "      <th>Sex</th>\n",
       "      <th>Ascites</th>\n",
       "      <th>Hepatomegaly</th>\n",
       "      <th>Spiders</th>\n",
       "      <th>Edema</th>\n",
       "      <th>Bilirubin</th>\n",
       "      <th>Cholesterol</th>\n",
       "      <th>Albumin</th>\n",
       "      <th>Copper</th>\n",
       "      <th>Alk_Phos</th>\n",
       "      <th>SGOT</th>\n",
       "      <th>Tryglicerides</th>\n",
       "      <th>Platelets</th>\n",
       "      <th>Prothrombin</th>\n",
       "      <th>Stage</th>\n",
       "    </tr>\n",
       "  </thead>\n",
       "  <tbody>\n",
       "    <tr>\n",
       "      <th>0</th>\n",
       "      <td>0</td>\n",
       "      <td>2644</td>\n",
       "      <td>C</td>\n",
       "      <td>D-penicillamine</td>\n",
       "      <td>20296</td>\n",
       "      <td>F</td>\n",
       "      <td>N</td>\n",
       "      <td>N</td>\n",
       "      <td>N</td>\n",
       "      <td>N</td>\n",
       "      <td>0.5</td>\n",
       "      <td>369.510563</td>\n",
       "      <td>3.85</td>\n",
       "      <td>63.000000</td>\n",
       "      <td>663.000000</td>\n",
       "      <td>79.050000</td>\n",
       "      <td>124.702128</td>\n",
       "      <td>311.0</td>\n",
       "      <td>9.7</td>\n",
       "      <td>1.0</td>\n",
       "    </tr>\n",
       "    <tr>\n",
       "      <th>1</th>\n",
       "      <td>1</td>\n",
       "      <td>3492</td>\n",
       "      <td>C</td>\n",
       "      <td>Unknown</td>\n",
       "      <td>21915</td>\n",
       "      <td>F</td>\n",
       "      <td>Unknown</td>\n",
       "      <td>Unknown</td>\n",
       "      <td>Unknown</td>\n",
       "      <td>N</td>\n",
       "      <td>0.6</td>\n",
       "      <td>369.510563</td>\n",
       "      <td>4.38</td>\n",
       "      <td>97.648387</td>\n",
       "      <td>1982.655769</td>\n",
       "      <td>122.556346</td>\n",
       "      <td>124.702128</td>\n",
       "      <td>269.0</td>\n",
       "      <td>10.6</td>\n",
       "      <td>2.0</td>\n",
       "    </tr>\n",
       "    <tr>\n",
       "      <th>2</th>\n",
       "      <td>2</td>\n",
       "      <td>1702</td>\n",
       "      <td>C</td>\n",
       "      <td>D-penicillamine</td>\n",
       "      <td>18806</td>\n",
       "      <td>F</td>\n",
       "      <td>N</td>\n",
       "      <td>N</td>\n",
       "      <td>N</td>\n",
       "      <td>N</td>\n",
       "      <td>1.1</td>\n",
       "      <td>414.000000</td>\n",
       "      <td>3.44</td>\n",
       "      <td>80.000000</td>\n",
       "      <td>1003.000000</td>\n",
       "      <td>99.000000</td>\n",
       "      <td>55.000000</td>\n",
       "      <td>271.0</td>\n",
       "      <td>9.6</td>\n",
       "      <td>1.0</td>\n",
       "    </tr>\n",
       "    <tr>\n",
       "      <th>3</th>\n",
       "      <td>3</td>\n",
       "      <td>3523</td>\n",
       "      <td>C</td>\n",
       "      <td>Unknown</td>\n",
       "      <td>14610</td>\n",
       "      <td>F</td>\n",
       "      <td>Unknown</td>\n",
       "      <td>Unknown</td>\n",
       "      <td>Unknown</td>\n",
       "      <td>N</td>\n",
       "      <td>0.6</td>\n",
       "      <td>369.510563</td>\n",
       "      <td>4.04</td>\n",
       "      <td>97.648387</td>\n",
       "      <td>1982.655769</td>\n",
       "      <td>122.556346</td>\n",
       "      <td>124.702128</td>\n",
       "      <td>130.0</td>\n",
       "      <td>11.2</td>\n",
       "      <td>2.0</td>\n",
       "    </tr>\n",
       "    <tr>\n",
       "      <th>4</th>\n",
       "      <td>4</td>\n",
       "      <td>3428</td>\n",
       "      <td>D</td>\n",
       "      <td>Placebo</td>\n",
       "      <td>13727</td>\n",
       "      <td>F</td>\n",
       "      <td>N</td>\n",
       "      <td>Y</td>\n",
       "      <td>Y</td>\n",
       "      <td>Y</td>\n",
       "      <td>3.3</td>\n",
       "      <td>299.000000</td>\n",
       "      <td>3.55</td>\n",
       "      <td>131.000000</td>\n",
       "      <td>1029.000000</td>\n",
       "      <td>119.350000</td>\n",
       "      <td>50.000000</td>\n",
       "      <td>199.0</td>\n",
       "      <td>11.7</td>\n",
       "      <td>3.0</td>\n",
       "    </tr>\n",
       "    <tr>\n",
       "      <th>...</th>\n",
       "      <td>...</td>\n",
       "      <td>...</td>\n",
       "      <td>...</td>\n",
       "      <td>...</td>\n",
       "      <td>...</td>\n",
       "      <td>...</td>\n",
       "      <td>...</td>\n",
       "      <td>...</td>\n",
       "      <td>...</td>\n",
       "      <td>...</td>\n",
       "      <td>...</td>\n",
       "      <td>...</td>\n",
       "      <td>...</td>\n",
       "      <td>...</td>\n",
       "      <td>...</td>\n",
       "      <td>...</td>\n",
       "      <td>...</td>\n",
       "      <td>...</td>\n",
       "      <td>...</td>\n",
       "      <td>...</td>\n",
       "    </tr>\n",
       "    <tr>\n",
       "      <th>324</th>\n",
       "      <td>324</td>\n",
       "      <td>2255</td>\n",
       "      <td>C</td>\n",
       "      <td>D-penicillamine</td>\n",
       "      <td>22642</td>\n",
       "      <td>F</td>\n",
       "      <td>N</td>\n",
       "      <td>N</td>\n",
       "      <td>N</td>\n",
       "      <td>N</td>\n",
       "      <td>0.6</td>\n",
       "      <td>213.000000</td>\n",
       "      <td>4.07</td>\n",
       "      <td>12.000000</td>\n",
       "      <td>5300.000000</td>\n",
       "      <td>57.350000</td>\n",
       "      <td>68.000000</td>\n",
       "      <td>240.0</td>\n",
       "      <td>11.0</td>\n",
       "      <td>1.0</td>\n",
       "    </tr>\n",
       "    <tr>\n",
       "      <th>325</th>\n",
       "      <td>325</td>\n",
       "      <td>1899</td>\n",
       "      <td>C</td>\n",
       "      <td>Unknown</td>\n",
       "      <td>14975</td>\n",
       "      <td>M</td>\n",
       "      <td>Unknown</td>\n",
       "      <td>Unknown</td>\n",
       "      <td>Unknown</td>\n",
       "      <td>N</td>\n",
       "      <td>1.7</td>\n",
       "      <td>369.510563</td>\n",
       "      <td>3.66</td>\n",
       "      <td>97.648387</td>\n",
       "      <td>1982.655769</td>\n",
       "      <td>122.556346</td>\n",
       "      <td>124.702128</td>\n",
       "      <td>92.0</td>\n",
       "      <td>11.0</td>\n",
       "      <td>4.0</td>\n",
       "    </tr>\n",
       "    <tr>\n",
       "      <th>326</th>\n",
       "      <td>326</td>\n",
       "      <td>1152</td>\n",
       "      <td>D</td>\n",
       "      <td>D-penicillamine</td>\n",
       "      <td>25546</td>\n",
       "      <td>M</td>\n",
       "      <td>N</td>\n",
       "      <td>Y</td>\n",
       "      <td>N</td>\n",
       "      <td>N</td>\n",
       "      <td>2.3</td>\n",
       "      <td>586.000000</td>\n",
       "      <td>3.01</td>\n",
       "      <td>243.000000</td>\n",
       "      <td>2276.000000</td>\n",
       "      <td>114.700000</td>\n",
       "      <td>126.000000</td>\n",
       "      <td>339.0</td>\n",
       "      <td>10.9</td>\n",
       "      <td>3.0</td>\n",
       "    </tr>\n",
       "    <tr>\n",
       "      <th>327</th>\n",
       "      <td>327</td>\n",
       "      <td>71</td>\n",
       "      <td>D</td>\n",
       "      <td>D-penicillamine</td>\n",
       "      <td>18972</td>\n",
       "      <td>F</td>\n",
       "      <td>N</td>\n",
       "      <td>Y</td>\n",
       "      <td>Y</td>\n",
       "      <td>S</td>\n",
       "      <td>12.2</td>\n",
       "      <td>394.000000</td>\n",
       "      <td>3.08</td>\n",
       "      <td>111.000000</td>\n",
       "      <td>2132.000000</td>\n",
       "      <td>155.000000</td>\n",
       "      <td>243.000000</td>\n",
       "      <td>165.0</td>\n",
       "      <td>11.6</td>\n",
       "      <td>4.0</td>\n",
       "    </tr>\n",
       "    <tr>\n",
       "      <th>328</th>\n",
       "      <td>328</td>\n",
       "      <td>1874</td>\n",
       "      <td>C</td>\n",
       "      <td>Placebo</td>\n",
       "      <td>24257</td>\n",
       "      <td>F</td>\n",
       "      <td>N</td>\n",
       "      <td>N</td>\n",
       "      <td>N</td>\n",
       "      <td>S</td>\n",
       "      <td>0.6</td>\n",
       "      <td>280.000000</td>\n",
       "      <td>3.35</td>\n",
       "      <td>97.648387</td>\n",
       "      <td>1093.000000</td>\n",
       "      <td>128.650000</td>\n",
       "      <td>81.000000</td>\n",
       "      <td>295.0</td>\n",
       "      <td>9.8</td>\n",
       "      <td>2.0</td>\n",
       "    </tr>\n",
       "  </tbody>\n",
       "</table>\n",
       "<p>329 rows × 20 columns</p>\n",
       "</div>"
      ],
      "text/plain": [
       "      ID  N_Days Status             Drug    Age Sex  Ascites Hepatomegaly  \\\n",
       "0      0    2644      C  D-penicillamine  20296   F        N            N   \n",
       "1      1    3492      C          Unknown  21915   F  Unknown      Unknown   \n",
       "2      2    1702      C  D-penicillamine  18806   F        N            N   \n",
       "3      3    3523      C          Unknown  14610   F  Unknown      Unknown   \n",
       "4      4    3428      D          Placebo  13727   F        N            Y   \n",
       "..   ...     ...    ...              ...    ...  ..      ...          ...   \n",
       "324  324    2255      C  D-penicillamine  22642   F        N            N   \n",
       "325  325    1899      C          Unknown  14975   M  Unknown      Unknown   \n",
       "326  326    1152      D  D-penicillamine  25546   M        N            Y   \n",
       "327  327      71      D  D-penicillamine  18972   F        N            Y   \n",
       "328  328    1874      C          Placebo  24257   F        N            N   \n",
       "\n",
       "     Spiders Edema  Bilirubin  Cholesterol  Albumin      Copper     Alk_Phos  \\\n",
       "0          N     N        0.5   369.510563     3.85   63.000000   663.000000   \n",
       "1    Unknown     N        0.6   369.510563     4.38   97.648387  1982.655769   \n",
       "2          N     N        1.1   414.000000     3.44   80.000000  1003.000000   \n",
       "3    Unknown     N        0.6   369.510563     4.04   97.648387  1982.655769   \n",
       "4          Y     Y        3.3   299.000000     3.55  131.000000  1029.000000   \n",
       "..       ...   ...        ...          ...      ...         ...          ...   \n",
       "324        N     N        0.6   213.000000     4.07   12.000000  5300.000000   \n",
       "325  Unknown     N        1.7   369.510563     3.66   97.648387  1982.655769   \n",
       "326        N     N        2.3   586.000000     3.01  243.000000  2276.000000   \n",
       "327        Y     S       12.2   394.000000     3.08  111.000000  2132.000000   \n",
       "328        N     S        0.6   280.000000     3.35   97.648387  1093.000000   \n",
       "\n",
       "           SGOT  Tryglicerides  Platelets  Prothrombin  Stage  \n",
       "0     79.050000     124.702128      311.0          9.7    1.0  \n",
       "1    122.556346     124.702128      269.0         10.6    2.0  \n",
       "2     99.000000      55.000000      271.0          9.6    1.0  \n",
       "3    122.556346     124.702128      130.0         11.2    2.0  \n",
       "4    119.350000      50.000000      199.0         11.7    3.0  \n",
       "..          ...            ...        ...          ...    ...  \n",
       "324   57.350000      68.000000      240.0         11.0    1.0  \n",
       "325  122.556346     124.702128       92.0         11.0    4.0  \n",
       "326  114.700000     126.000000      339.0         10.9    3.0  \n",
       "327  155.000000     243.000000      165.0         11.6    4.0  \n",
       "328  128.650000      81.000000      295.0          9.8    2.0  \n",
       "\n",
       "[329 rows x 20 columns]"
      ]
     },
     "execution_count": 286,
     "metadata": {},
     "output_type": "execute_result"
    }
   ],
   "source": [
    "import sklearn\n",
    "import pandas as pd\n",
    "import numpy as np\n",
    "\n",
    "#ler o documento\n",
    "hist_clinic_train = pd.read_csv(\"train.csv\")\n",
    "print(\"Dados do documento original train:\")\n",
    "hist_clinic_train"
   ]
  },
  {
   "cell_type": "markdown",
   "metadata": {},
   "source": [
    "* Depois extraimos os dados do test.csv"
   ]
  },
  {
   "cell_type": "code",
   "execution_count": 287,
   "metadata": {},
   "outputs": [
    {
     "name": "stdout",
     "output_type": "stream",
     "text": [
      "Dados do documento original test:\n"
     ]
    },
    {
     "data": {
      "text/html": [
       "<div>\n",
       "<style scoped>\n",
       "    .dataframe tbody tr th:only-of-type {\n",
       "        vertical-align: middle;\n",
       "    }\n",
       "\n",
       "    .dataframe tbody tr th {\n",
       "        vertical-align: top;\n",
       "    }\n",
       "\n",
       "    .dataframe thead th {\n",
       "        text-align: right;\n",
       "    }\n",
       "</style>\n",
       "<table border=\"1\" class=\"dataframe\">\n",
       "  <thead>\n",
       "    <tr style=\"text-align: right;\">\n",
       "      <th></th>\n",
       "      <th>ID</th>\n",
       "      <th>N_Days</th>\n",
       "      <th>Status</th>\n",
       "      <th>Drug</th>\n",
       "      <th>Age</th>\n",
       "      <th>Sex</th>\n",
       "      <th>Ascites</th>\n",
       "      <th>Hepatomegaly</th>\n",
       "      <th>Spiders</th>\n",
       "      <th>Edema</th>\n",
       "      <th>Bilirubin</th>\n",
       "      <th>Cholesterol</th>\n",
       "      <th>Albumin</th>\n",
       "      <th>Copper</th>\n",
       "      <th>Alk_Phos</th>\n",
       "      <th>SGOT</th>\n",
       "      <th>Tryglicerides</th>\n",
       "      <th>Platelets</th>\n",
       "      <th>Prothrombin</th>\n",
       "    </tr>\n",
       "  </thead>\n",
       "  <tbody>\n",
       "    <tr>\n",
       "      <th>0</th>\n",
       "      <td>329</td>\n",
       "      <td>939</td>\n",
       "      <td>C</td>\n",
       "      <td>D-penicillamine</td>\n",
       "      <td>22767</td>\n",
       "      <td>F</td>\n",
       "      <td>N</td>\n",
       "      <td>N</td>\n",
       "      <td>N</td>\n",
       "      <td>N</td>\n",
       "      <td>1.7</td>\n",
       "      <td>434.000000</td>\n",
       "      <td>3.35</td>\n",
       "      <td>39.000000</td>\n",
       "      <td>1713.000000</td>\n",
       "      <td>171.000000</td>\n",
       "      <td>100.000000</td>\n",
       "      <td>234.00000</td>\n",
       "      <td>10.2</td>\n",
       "    </tr>\n",
       "    <tr>\n",
       "      <th>1</th>\n",
       "      <td>330</td>\n",
       "      <td>1302</td>\n",
       "      <td>C</td>\n",
       "      <td>D-penicillamine</td>\n",
       "      <td>22111</td>\n",
       "      <td>M</td>\n",
       "      <td>N</td>\n",
       "      <td>Y</td>\n",
       "      <td>N</td>\n",
       "      <td>N</td>\n",
       "      <td>6.6</td>\n",
       "      <td>1000.000000</td>\n",
       "      <td>3.07</td>\n",
       "      <td>88.000000</td>\n",
       "      <td>3150.000000</td>\n",
       "      <td>193.000000</td>\n",
       "      <td>133.000000</td>\n",
       "      <td>299.00000</td>\n",
       "      <td>10.9</td>\n",
       "    </tr>\n",
       "    <tr>\n",
       "      <th>2</th>\n",
       "      <td>331</td>\n",
       "      <td>1443</td>\n",
       "      <td>C</td>\n",
       "      <td>Unknown</td>\n",
       "      <td>14975</td>\n",
       "      <td>F</td>\n",
       "      <td>Unknown</td>\n",
       "      <td>Unknown</td>\n",
       "      <td>Unknown</td>\n",
       "      <td>N</td>\n",
       "      <td>1.2</td>\n",
       "      <td>369.510563</td>\n",
       "      <td>2.80</td>\n",
       "      <td>97.648387</td>\n",
       "      <td>1982.655769</td>\n",
       "      <td>122.556346</td>\n",
       "      <td>124.702128</td>\n",
       "      <td>120.00000</td>\n",
       "      <td>11.0</td>\n",
       "    </tr>\n",
       "    <tr>\n",
       "      <th>3</th>\n",
       "      <td>332</td>\n",
       "      <td>2944</td>\n",
       "      <td>C</td>\n",
       "      <td>D-penicillamine</td>\n",
       "      <td>14812</td>\n",
       "      <td>F</td>\n",
       "      <td>N</td>\n",
       "      <td>N</td>\n",
       "      <td>N</td>\n",
       "      <td>N</td>\n",
       "      <td>1.9</td>\n",
       "      <td>448.000000</td>\n",
       "      <td>3.83</td>\n",
       "      <td>60.000000</td>\n",
       "      <td>1052.000000</td>\n",
       "      <td>127.100000</td>\n",
       "      <td>175.000000</td>\n",
       "      <td>181.00000</td>\n",
       "      <td>9.8</td>\n",
       "    </tr>\n",
       "    <tr>\n",
       "      <th>4</th>\n",
       "      <td>333</td>\n",
       "      <td>3853</td>\n",
       "      <td>D</td>\n",
       "      <td>Placebo</td>\n",
       "      <td>19025</td>\n",
       "      <td>F</td>\n",
       "      <td>N</td>\n",
       "      <td>N</td>\n",
       "      <td>N</td>\n",
       "      <td>N</td>\n",
       "      <td>0.8</td>\n",
       "      <td>276.000000</td>\n",
       "      <td>3.60</td>\n",
       "      <td>54.000000</td>\n",
       "      <td>4332.000000</td>\n",
       "      <td>99.330000</td>\n",
       "      <td>143.000000</td>\n",
       "      <td>273.00000</td>\n",
       "      <td>10.6</td>\n",
       "    </tr>\n",
       "    <tr>\n",
       "      <th>...</th>\n",
       "      <td>...</td>\n",
       "      <td>...</td>\n",
       "      <td>...</td>\n",
       "      <td>...</td>\n",
       "      <td>...</td>\n",
       "      <td>...</td>\n",
       "      <td>...</td>\n",
       "      <td>...</td>\n",
       "      <td>...</td>\n",
       "      <td>...</td>\n",
       "      <td>...</td>\n",
       "      <td>...</td>\n",
       "      <td>...</td>\n",
       "      <td>...</td>\n",
       "      <td>...</td>\n",
       "      <td>...</td>\n",
       "      <td>...</td>\n",
       "      <td>...</td>\n",
       "      <td>...</td>\n",
       "    </tr>\n",
       "    <tr>\n",
       "      <th>78</th>\n",
       "      <td>407</td>\n",
       "      <td>1297</td>\n",
       "      <td>D</td>\n",
       "      <td>D-penicillamine</td>\n",
       "      <td>18719</td>\n",
       "      <td>M</td>\n",
       "      <td>N</td>\n",
       "      <td>Y</td>\n",
       "      <td>N</td>\n",
       "      <td>N</td>\n",
       "      <td>7.3</td>\n",
       "      <td>426.000000</td>\n",
       "      <td>3.93</td>\n",
       "      <td>262.000000</td>\n",
       "      <td>2424.000000</td>\n",
       "      <td>145.700000</td>\n",
       "      <td>218.000000</td>\n",
       "      <td>252.00000</td>\n",
       "      <td>10.5</td>\n",
       "    </tr>\n",
       "    <tr>\n",
       "      <th>79</th>\n",
       "      <td>408</td>\n",
       "      <td>2576</td>\n",
       "      <td>C</td>\n",
       "      <td>Placebo</td>\n",
       "      <td>17323</td>\n",
       "      <td>F</td>\n",
       "      <td>N</td>\n",
       "      <td>N</td>\n",
       "      <td>N</td>\n",
       "      <td>N</td>\n",
       "      <td>0.5</td>\n",
       "      <td>316.000000</td>\n",
       "      <td>3.65</td>\n",
       "      <td>68.000000</td>\n",
       "      <td>1716.000000</td>\n",
       "      <td>187.550000</td>\n",
       "      <td>71.000000</td>\n",
       "      <td>356.00000</td>\n",
       "      <td>9.8</td>\n",
       "    </tr>\n",
       "    <tr>\n",
       "      <th>80</th>\n",
       "      <td>409</td>\n",
       "      <td>2111</td>\n",
       "      <td>D</td>\n",
       "      <td>Unknown</td>\n",
       "      <td>19724</td>\n",
       "      <td>F</td>\n",
       "      <td>Unknown</td>\n",
       "      <td>Unknown</td>\n",
       "      <td>Unknown</td>\n",
       "      <td>N</td>\n",
       "      <td>1.0</td>\n",
       "      <td>369.510563</td>\n",
       "      <td>3.60</td>\n",
       "      <td>97.648387</td>\n",
       "      <td>1982.655769</td>\n",
       "      <td>122.556346</td>\n",
       "      <td>124.702128</td>\n",
       "      <td>257.02457</td>\n",
       "      <td>12.1</td>\n",
       "    </tr>\n",
       "    <tr>\n",
       "      <th>81</th>\n",
       "      <td>410</td>\n",
       "      <td>2812</td>\n",
       "      <td>D</td>\n",
       "      <td>Unknown</td>\n",
       "      <td>18628</td>\n",
       "      <td>F</td>\n",
       "      <td>Unknown</td>\n",
       "      <td>Unknown</td>\n",
       "      <td>Unknown</td>\n",
       "      <td>N</td>\n",
       "      <td>3.4</td>\n",
       "      <td>369.510563</td>\n",
       "      <td>3.92</td>\n",
       "      <td>97.648387</td>\n",
       "      <td>1982.655769</td>\n",
       "      <td>122.556346</td>\n",
       "      <td>124.702128</td>\n",
       "      <td>257.02457</td>\n",
       "      <td>9.3</td>\n",
       "    </tr>\n",
       "    <tr>\n",
       "      <th>82</th>\n",
       "      <td>411</td>\n",
       "      <td>778</td>\n",
       "      <td>D</td>\n",
       "      <td>Unknown</td>\n",
       "      <td>23376</td>\n",
       "      <td>F</td>\n",
       "      <td>Unknown</td>\n",
       "      <td>Unknown</td>\n",
       "      <td>Unknown</td>\n",
       "      <td>N</td>\n",
       "      <td>1.8</td>\n",
       "      <td>369.510563</td>\n",
       "      <td>3.15</td>\n",
       "      <td>97.648387</td>\n",
       "      <td>1982.655769</td>\n",
       "      <td>122.556346</td>\n",
       "      <td>124.702128</td>\n",
       "      <td>183.00000</td>\n",
       "      <td>10.4</td>\n",
       "    </tr>\n",
       "  </tbody>\n",
       "</table>\n",
       "<p>83 rows × 19 columns</p>\n",
       "</div>"
      ],
      "text/plain": [
       "     ID  N_Days Status             Drug    Age Sex  Ascites Hepatomegaly  \\\n",
       "0   329     939      C  D-penicillamine  22767   F        N            N   \n",
       "1   330    1302      C  D-penicillamine  22111   M        N            Y   \n",
       "2   331    1443      C          Unknown  14975   F  Unknown      Unknown   \n",
       "3   332    2944      C  D-penicillamine  14812   F        N            N   \n",
       "4   333    3853      D          Placebo  19025   F        N            N   \n",
       "..  ...     ...    ...              ...    ...  ..      ...          ...   \n",
       "78  407    1297      D  D-penicillamine  18719   M        N            Y   \n",
       "79  408    2576      C          Placebo  17323   F        N            N   \n",
       "80  409    2111      D          Unknown  19724   F  Unknown      Unknown   \n",
       "81  410    2812      D          Unknown  18628   F  Unknown      Unknown   \n",
       "82  411     778      D          Unknown  23376   F  Unknown      Unknown   \n",
       "\n",
       "    Spiders Edema  Bilirubin  Cholesterol  Albumin      Copper     Alk_Phos  \\\n",
       "0         N     N        1.7   434.000000     3.35   39.000000  1713.000000   \n",
       "1         N     N        6.6  1000.000000     3.07   88.000000  3150.000000   \n",
       "2   Unknown     N        1.2   369.510563     2.80   97.648387  1982.655769   \n",
       "3         N     N        1.9   448.000000     3.83   60.000000  1052.000000   \n",
       "4         N     N        0.8   276.000000     3.60   54.000000  4332.000000   \n",
       "..      ...   ...        ...          ...      ...         ...          ...   \n",
       "78        N     N        7.3   426.000000     3.93  262.000000  2424.000000   \n",
       "79        N     N        0.5   316.000000     3.65   68.000000  1716.000000   \n",
       "80  Unknown     N        1.0   369.510563     3.60   97.648387  1982.655769   \n",
       "81  Unknown     N        3.4   369.510563     3.92   97.648387  1982.655769   \n",
       "82  Unknown     N        1.8   369.510563     3.15   97.648387  1982.655769   \n",
       "\n",
       "          SGOT  Tryglicerides  Platelets  Prothrombin  \n",
       "0   171.000000     100.000000  234.00000         10.2  \n",
       "1   193.000000     133.000000  299.00000         10.9  \n",
       "2   122.556346     124.702128  120.00000         11.0  \n",
       "3   127.100000     175.000000  181.00000          9.8  \n",
       "4    99.330000     143.000000  273.00000         10.6  \n",
       "..         ...            ...        ...          ...  \n",
       "78  145.700000     218.000000  252.00000         10.5  \n",
       "79  187.550000      71.000000  356.00000          9.8  \n",
       "80  122.556346     124.702128  257.02457         12.1  \n",
       "81  122.556346     124.702128  257.02457          9.3  \n",
       "82  122.556346     124.702128  183.00000         10.4  \n",
       "\n",
       "[83 rows x 19 columns]"
      ]
     },
     "execution_count": 287,
     "metadata": {},
     "output_type": "execute_result"
    }
   ],
   "source": [
    "hist_clinic_test = pd.read_csv(\"test.csv\")\n",
    "print(\"Dados do documento original test:\")\n",
    "hist_clinic_test"
   ]
  },
  {
   "cell_type": "markdown",
   "metadata": {},
   "source": [
    "* O ID e o Stage não são relevantes para treinar os modelos e não são selecionados nos valores das colunas"
   ]
  },
  {
   "cell_type": "code",
   "execution_count": 288,
   "metadata": {},
   "outputs": [
    {
     "name": "stdout",
     "output_type": "stream",
     "text": [
      "Nome de colunas:\n",
      " ['N_Days' 'Status' 'Drug' 'Age' 'Sex' 'Ascites' 'Hepatomegaly' 'Spiders'\n",
      " 'Edema' 'Bilirubin' 'Cholesterol' 'Albumin' 'Copper' 'Alk_Phos' 'SGOT'\n",
      " 'Tryglicerides' 'Platelets' 'Prothrombin']\n",
      "\n",
      "Valores das colunas train:\n",
      " [[2644 'C' 'D-penicillamine' ... 124.70212765957449 311.0 9.7]\n",
      " [3492 'C' 'Unknown' ... 124.70212765957449 269.0 10.6]\n",
      " [1702 'C' 'D-penicillamine' ... 55.0 271.0 9.6]\n",
      " ...\n",
      " [1152 'D' 'D-penicillamine' ... 126.0 339.0 10.9]\n",
      " [71 'D' 'D-penicillamine' ... 243.0 165.0 11.6]\n",
      " [1874 'C' 'Placebo' ... 81.0 295.0 9.8]]\n",
      "\n",
      "Valores do Stage train:\n",
      " [1.0 2.0 1.0 2.0 3.0 4.0 3.0 4.0 4.0 4.0 4.0 1.0 1.0 3.0 3.0 1.0 3.0 4.0\n",
      " 4.0 4.0 1.0 2.0 2.0 2.0 3.0 2.0 4.0 4.0 4.0 4.0 3.0 1.0 4.0 4.0 3.0 3.0\n",
      " 4.0 3.0 3.0 2.0 4.0 3.0 2.0 2.0 3.0 3.0 4.0 3.0 3.0 2.0 4.0 4.0 2.0 2.0\n",
      " 2.0 3.0 4.0 1.0 4.0 1.0 3.0 2.0 2.0 3.0 3.0 4.0 4.0 4.0 3.0 3.0 3.0 4.0\n",
      " 3.0 3.0 3.0 2.0 2.0 4.0 4.0 3.0 3.0 3.0 2.0 2.0 2.0 4.0 3.0 4.0 4.0 3.0\n",
      " 4.0 4.0 3.0 4.0 3.0 3.0 4.0 3.0 4.0 2.0 2.0 3.0 2.0 2.0 3.0 2.0 2.0 4.0\n",
      " 3.0 4.0 4.0 4.0 3.0 2.0 4.0 2.0 2.0 4.0 4.0 3.0 4.0 4.0 4.0 3.0 1.0 2.0\n",
      " 2.0 4.0 3.0 2.0 4.0 2.0 4.0 4.0 4.0 4.0 3.0 3.0 4.0 2.0 2.0 3.0 2.0 2.0\n",
      " 2.0 3.0 4.0 4.0 4.0 3.0 4.0 4.0 4.0 3.0 4.0 2.0 4.0 4.0 2.0 3.0 4.0 2.0\n",
      " 2.0 3.0 3.0 3.0 4.0 4.0 4.0 3.0 2.0 1.0 3.0 3.0 4.0 3.0 3.0 4.0 2.0 3.0\n",
      " 3.0 2.0 3.0 4.0 4.0 2.0 4.0 2.0 3.0 3.0 1.0 4.0 4.0 1.0 4.0 2.0 3.0 4.0\n",
      " 4.0 3.0 2.0 3.0 2.0 4.0 2.0 3.0 3.0 4.0 3.0 2.0 3.0 4.0 3.0 2.0 4.0 4.0\n",
      " 3.0 3.0 3.0 4.0 3.0 4.0 3.0 4.0 3.0 4.0 4.0 4.0 3.0 3.0 3.0 4.0 3.0 4.0\n",
      " 3.0 4.0 3.0 3.0 2.0 2.0 3.0 3.0 3.0 3.0 2.0 3.0 4.0 4.0 3.0 2.0 3.0 4.0\n",
      " 4.0 2.0 2.0 2.0 3.0 1.0 2.0 3.0 3.0 4.0 3.0 3.0 4.0 4.0 2.0 3.0 3.0 3.0\n",
      " 3.0 4.0 4.0 2.0 3.0 3.0 3.0 3.0 3.0 4.0 4.0 2.0 3.0 4.0 1.0 3.0 3.0 2.0\n",
      " 3.0 4.0 3.0 4.0 4.0 4.0 3.0 3.0 4.0 2.0 2.0 4.0 3.0 3.0 4.0 2.0 2.0 4.0\n",
      " 3.0 4.0 3.0 3.0 3.0 3.0 3.0 1.0 3.0 4.0 2.0 3.0 4.0 3.0 2.0 2.0 4.0 3.0\n",
      " 1.0 4.0 3.0 4.0 2.0]\n"
     ]
    }
   ],
   "source": [
    "#o ID e o Stage não são relevantes para a analise e não são selecionados nos valores das colunas\n",
    "col_idxs_total=[1,2,3,4,5,6,7,8,9,10,11,12,13,14,15,16,17,18] \n",
    "col_names=np.array(hist_clinic_train.columns)[col_idxs_total] #extrair nomes das colunas\n",
    "\n",
    "X_train = hist_clinic_train.values[:,col_idxs_total] #valoes das colunas train\n",
    "y_train = hist_clinic_train.values[:,19] #valor da classe train\n",
    "print(\"Nome de colunas:\\n\", col_names)\n",
    "print(\"\\nValores das colunas train:\\n\", X_train)\n",
    "print(\"\\nValores do Stage train:\\n\", y_train)\n"
   ]
  },
  {
   "cell_type": "code",
   "execution_count": 289,
   "metadata": {},
   "outputs": [
    {
     "name": "stdout",
     "output_type": "stream",
     "text": [
      "\n",
      "Valores das colunas teste:\n",
      " [[939 'C' 'D-penicillamine' ... 100.0 234.0 10.2]\n",
      " [1302 'C' 'D-penicillamine' ... 133.0 299.0 10.9]\n",
      " [1443 'C' 'Unknown' ... 124.70212765957449 120.0 11.0]\n",
      " ...\n",
      " [2111 'D' 'Unknown' ... 124.70212765957449 257.02457002457004 12.1]\n",
      " [2812 'D' 'Unknown' ... 124.70212765957449 257.02457002457004 9.3]\n",
      " [778 'D' 'Unknown' ... 124.70212765957449 183.0 10.4]]\n"
     ]
    }
   ],
   "source": [
    "X_test = hist_clinic_test.values[:,col_idxs_total] #valoes das colunas test\n",
    "ids_test = hist_clinic_test.values[:,0] #valor da classe train\n",
    "print(\"\\nValores das colunas teste:\\n\", X_test)\n",
    "#no test.csv nao se tem os valores do stage porque o objetivo é o nosso modelo tentar descobrir esses valores"
   ]
  },
  {
   "cell_type": "markdown",
   "metadata": {},
   "source": [
    "### Converter dados categóricos em binários para a matriz de dados\n",
    "Os classificadores do scikit-learn não podem usar dados categóricos na matriz de dados, por essa razão terão que ser binarizados, onde cada valor de uma variável é transformado numa coluna com valores 1 ou 0, consoante esse valor ocorra ou não. A função get_dummies() é usada para efectuar essa transformação dentro de um DataFrame. "
   ]
  },
  {
   "cell_type": "code",
   "execution_count": 290,
   "metadata": {},
   "outputs": [],
   "source": [
    "#Índices das colunas que têm dados categóricos (vamos precisar tornar binário)\n",
    "col_idxs_categoricos=[2,3,5,6,7,8,9]\n",
    "col_names_categoricos=np.array(hist_clinic_train.columns)[col_idxs_categoricos]\n",
    "\n",
    "#Índices das colunas que têm dados contínuos, que não precisam de tratamento \n",
    "col_idx_non_binary=[1,4,10,11,12,13,14,15,16,17,18]\n",
    "col_non_binary = np.array(hist_clinic_train.columns)[col_idx_non_binary]\n",
    "\n",
    "\n",
    "#Para tornar os dados categóricos em dados númericos, sendo 1 quando se verifica a existência dessa categoria e 0 quando não\n",
    "# primeiro construir um dataframe para a matriz X\n",
    "hist_clinic_X=hist_clinic_train[col_names_categoricos]\n",
    "#print(hist_clinic_X)\n",
    "# criar um novo DataFrame\n",
    "hist_clinic_Xdum = pd.get_dummies(hist_clinic_X, columns = col_names_categoricos)\n",
    "# Extrair os novos nomes das colunas\n",
    "col_names_dum=np.array(hist_clinic_Xdum.columns)\n",
    "\n",
    "#Aqui faz-se uma dataframe só com os dados que não precisaram de ser trasnformados \n",
    "hist_clinic_X_non_binary = hist_clinic_train[col_non_binary]\n",
    "\n",
    "#print(hist_clinic_X_non_binary)\n",
    "#print(hist_clinic_Xdum)"
   ]
  },
  {
   "cell_type": "markdown",
   "metadata": {},
   "source": [
    "Dataframe final com as colunas na mesma ordem da tabela original"
   ]
  },
  {
   "cell_type": "code",
   "execution_count": 291,
   "metadata": {},
   "outputs": [
    {
     "name": "stdout",
     "output_type": "stream",
     "text": [
      "Nomes de colunas train:\n",
      " ['N_Days' 'Status_C' 'Status_CL' 'Status_D' 'Drug_D-penicillamine'\n",
      " 'Drug_Placebo' 'Drug_Unknown' 'Age' 'Sex_F' 'Sex_M' 'Ascites_N'\n",
      " 'Ascites_Y' 'Ascites_Unknown' 'Hepatomegaly_N' 'Hepatomegaly_Y'\n",
      " 'Hepatomegaly_Unknown' 'Spiders_N' 'Spiders_Y' 'Spiders_Unknown'\n",
      " 'Edema_N' 'Edema_S' 'Edema_Y' 'Bilirubin' 'Cholesterol' 'Albumin'\n",
      " 'Copper' 'Alk_Phos' 'SGOT' 'Tryglicerides' 'Platelets' 'Prothrombin']\n",
      "\n",
      "Valores das colunas train:\n",
      " [[2.64400000e+03 1.00000000e+00 0.00000000e+00 ... 1.24702128e+02\n",
      "  3.11000000e+02 9.70000000e+00]\n",
      " [3.49200000e+03 1.00000000e+00 0.00000000e+00 ... 1.24702128e+02\n",
      "  2.69000000e+02 1.06000000e+01]\n",
      " [1.70200000e+03 1.00000000e+00 0.00000000e+00 ... 5.50000000e+01\n",
      "  2.71000000e+02 9.60000000e+00]\n",
      " ...\n",
      " [1.15200000e+03 0.00000000e+00 0.00000000e+00 ... 1.26000000e+02\n",
      "  3.39000000e+02 1.09000000e+01]\n",
      " [7.10000000e+01 0.00000000e+00 0.00000000e+00 ... 2.43000000e+02\n",
      "  1.65000000e+02 1.16000000e+01]\n",
      " [1.87400000e+03 1.00000000e+00 0.00000000e+00 ... 8.10000000e+01\n",
      "  2.95000000e+02 9.80000000e+00]]\n",
      "\n",
      "Dataframe do train:\n"
     ]
    },
    {
     "data": {
      "text/html": [
       "<div>\n",
       "<style scoped>\n",
       "    .dataframe tbody tr th:only-of-type {\n",
       "        vertical-align: middle;\n",
       "    }\n",
       "\n",
       "    .dataframe tbody tr th {\n",
       "        vertical-align: top;\n",
       "    }\n",
       "\n",
       "    .dataframe thead th {\n",
       "        text-align: right;\n",
       "    }\n",
       "</style>\n",
       "<table border=\"1\" class=\"dataframe\">\n",
       "  <thead>\n",
       "    <tr style=\"text-align: right;\">\n",
       "      <th></th>\n",
       "      <th>N_Days</th>\n",
       "      <th>Status_C</th>\n",
       "      <th>Status_CL</th>\n",
       "      <th>Status_D</th>\n",
       "      <th>Drug_D-penicillamine</th>\n",
       "      <th>Drug_Placebo</th>\n",
       "      <th>Drug_Unknown</th>\n",
       "      <th>Age</th>\n",
       "      <th>Sex_F</th>\n",
       "      <th>Sex_M</th>\n",
       "      <th>...</th>\n",
       "      <th>Edema_Y</th>\n",
       "      <th>Bilirubin</th>\n",
       "      <th>Cholesterol</th>\n",
       "      <th>Albumin</th>\n",
       "      <th>Copper</th>\n",
       "      <th>Alk_Phos</th>\n",
       "      <th>SGOT</th>\n",
       "      <th>Tryglicerides</th>\n",
       "      <th>Platelets</th>\n",
       "      <th>Prothrombin</th>\n",
       "    </tr>\n",
       "  </thead>\n",
       "  <tbody>\n",
       "    <tr>\n",
       "      <th>0</th>\n",
       "      <td>2644</td>\n",
       "      <td>1</td>\n",
       "      <td>0</td>\n",
       "      <td>0</td>\n",
       "      <td>1</td>\n",
       "      <td>0</td>\n",
       "      <td>0</td>\n",
       "      <td>20296</td>\n",
       "      <td>1</td>\n",
       "      <td>0</td>\n",
       "      <td>...</td>\n",
       "      <td>0</td>\n",
       "      <td>0.5</td>\n",
       "      <td>369.510563</td>\n",
       "      <td>3.85</td>\n",
       "      <td>63.000000</td>\n",
       "      <td>663.000000</td>\n",
       "      <td>79.050000</td>\n",
       "      <td>124.702128</td>\n",
       "      <td>311.0</td>\n",
       "      <td>9.7</td>\n",
       "    </tr>\n",
       "    <tr>\n",
       "      <th>1</th>\n",
       "      <td>3492</td>\n",
       "      <td>1</td>\n",
       "      <td>0</td>\n",
       "      <td>0</td>\n",
       "      <td>0</td>\n",
       "      <td>0</td>\n",
       "      <td>1</td>\n",
       "      <td>21915</td>\n",
       "      <td>1</td>\n",
       "      <td>0</td>\n",
       "      <td>...</td>\n",
       "      <td>0</td>\n",
       "      <td>0.6</td>\n",
       "      <td>369.510563</td>\n",
       "      <td>4.38</td>\n",
       "      <td>97.648387</td>\n",
       "      <td>1982.655769</td>\n",
       "      <td>122.556346</td>\n",
       "      <td>124.702128</td>\n",
       "      <td>269.0</td>\n",
       "      <td>10.6</td>\n",
       "    </tr>\n",
       "    <tr>\n",
       "      <th>2</th>\n",
       "      <td>1702</td>\n",
       "      <td>1</td>\n",
       "      <td>0</td>\n",
       "      <td>0</td>\n",
       "      <td>1</td>\n",
       "      <td>0</td>\n",
       "      <td>0</td>\n",
       "      <td>18806</td>\n",
       "      <td>1</td>\n",
       "      <td>0</td>\n",
       "      <td>...</td>\n",
       "      <td>0</td>\n",
       "      <td>1.1</td>\n",
       "      <td>414.000000</td>\n",
       "      <td>3.44</td>\n",
       "      <td>80.000000</td>\n",
       "      <td>1003.000000</td>\n",
       "      <td>99.000000</td>\n",
       "      <td>55.000000</td>\n",
       "      <td>271.0</td>\n",
       "      <td>9.6</td>\n",
       "    </tr>\n",
       "    <tr>\n",
       "      <th>3</th>\n",
       "      <td>3523</td>\n",
       "      <td>1</td>\n",
       "      <td>0</td>\n",
       "      <td>0</td>\n",
       "      <td>0</td>\n",
       "      <td>0</td>\n",
       "      <td>1</td>\n",
       "      <td>14610</td>\n",
       "      <td>1</td>\n",
       "      <td>0</td>\n",
       "      <td>...</td>\n",
       "      <td>0</td>\n",
       "      <td>0.6</td>\n",
       "      <td>369.510563</td>\n",
       "      <td>4.04</td>\n",
       "      <td>97.648387</td>\n",
       "      <td>1982.655769</td>\n",
       "      <td>122.556346</td>\n",
       "      <td>124.702128</td>\n",
       "      <td>130.0</td>\n",
       "      <td>11.2</td>\n",
       "    </tr>\n",
       "    <tr>\n",
       "      <th>4</th>\n",
       "      <td>3428</td>\n",
       "      <td>0</td>\n",
       "      <td>0</td>\n",
       "      <td>1</td>\n",
       "      <td>0</td>\n",
       "      <td>1</td>\n",
       "      <td>0</td>\n",
       "      <td>13727</td>\n",
       "      <td>1</td>\n",
       "      <td>0</td>\n",
       "      <td>...</td>\n",
       "      <td>1</td>\n",
       "      <td>3.3</td>\n",
       "      <td>299.000000</td>\n",
       "      <td>3.55</td>\n",
       "      <td>131.000000</td>\n",
       "      <td>1029.000000</td>\n",
       "      <td>119.350000</td>\n",
       "      <td>50.000000</td>\n",
       "      <td>199.0</td>\n",
       "      <td>11.7</td>\n",
       "    </tr>\n",
       "    <tr>\n",
       "      <th>...</th>\n",
       "      <td>...</td>\n",
       "      <td>...</td>\n",
       "      <td>...</td>\n",
       "      <td>...</td>\n",
       "      <td>...</td>\n",
       "      <td>...</td>\n",
       "      <td>...</td>\n",
       "      <td>...</td>\n",
       "      <td>...</td>\n",
       "      <td>...</td>\n",
       "      <td>...</td>\n",
       "      <td>...</td>\n",
       "      <td>...</td>\n",
       "      <td>...</td>\n",
       "      <td>...</td>\n",
       "      <td>...</td>\n",
       "      <td>...</td>\n",
       "      <td>...</td>\n",
       "      <td>...</td>\n",
       "      <td>...</td>\n",
       "      <td>...</td>\n",
       "    </tr>\n",
       "    <tr>\n",
       "      <th>324</th>\n",
       "      <td>2255</td>\n",
       "      <td>1</td>\n",
       "      <td>0</td>\n",
       "      <td>0</td>\n",
       "      <td>1</td>\n",
       "      <td>0</td>\n",
       "      <td>0</td>\n",
       "      <td>22642</td>\n",
       "      <td>1</td>\n",
       "      <td>0</td>\n",
       "      <td>...</td>\n",
       "      <td>0</td>\n",
       "      <td>0.6</td>\n",
       "      <td>213.000000</td>\n",
       "      <td>4.07</td>\n",
       "      <td>12.000000</td>\n",
       "      <td>5300.000000</td>\n",
       "      <td>57.350000</td>\n",
       "      <td>68.000000</td>\n",
       "      <td>240.0</td>\n",
       "      <td>11.0</td>\n",
       "    </tr>\n",
       "    <tr>\n",
       "      <th>325</th>\n",
       "      <td>1899</td>\n",
       "      <td>1</td>\n",
       "      <td>0</td>\n",
       "      <td>0</td>\n",
       "      <td>0</td>\n",
       "      <td>0</td>\n",
       "      <td>1</td>\n",
       "      <td>14975</td>\n",
       "      <td>0</td>\n",
       "      <td>1</td>\n",
       "      <td>...</td>\n",
       "      <td>0</td>\n",
       "      <td>1.7</td>\n",
       "      <td>369.510563</td>\n",
       "      <td>3.66</td>\n",
       "      <td>97.648387</td>\n",
       "      <td>1982.655769</td>\n",
       "      <td>122.556346</td>\n",
       "      <td>124.702128</td>\n",
       "      <td>92.0</td>\n",
       "      <td>11.0</td>\n",
       "    </tr>\n",
       "    <tr>\n",
       "      <th>326</th>\n",
       "      <td>1152</td>\n",
       "      <td>0</td>\n",
       "      <td>0</td>\n",
       "      <td>1</td>\n",
       "      <td>1</td>\n",
       "      <td>0</td>\n",
       "      <td>0</td>\n",
       "      <td>25546</td>\n",
       "      <td>0</td>\n",
       "      <td>1</td>\n",
       "      <td>...</td>\n",
       "      <td>0</td>\n",
       "      <td>2.3</td>\n",
       "      <td>586.000000</td>\n",
       "      <td>3.01</td>\n",
       "      <td>243.000000</td>\n",
       "      <td>2276.000000</td>\n",
       "      <td>114.700000</td>\n",
       "      <td>126.000000</td>\n",
       "      <td>339.0</td>\n",
       "      <td>10.9</td>\n",
       "    </tr>\n",
       "    <tr>\n",
       "      <th>327</th>\n",
       "      <td>71</td>\n",
       "      <td>0</td>\n",
       "      <td>0</td>\n",
       "      <td>1</td>\n",
       "      <td>1</td>\n",
       "      <td>0</td>\n",
       "      <td>0</td>\n",
       "      <td>18972</td>\n",
       "      <td>1</td>\n",
       "      <td>0</td>\n",
       "      <td>...</td>\n",
       "      <td>0</td>\n",
       "      <td>12.2</td>\n",
       "      <td>394.000000</td>\n",
       "      <td>3.08</td>\n",
       "      <td>111.000000</td>\n",
       "      <td>2132.000000</td>\n",
       "      <td>155.000000</td>\n",
       "      <td>243.000000</td>\n",
       "      <td>165.0</td>\n",
       "      <td>11.6</td>\n",
       "    </tr>\n",
       "    <tr>\n",
       "      <th>328</th>\n",
       "      <td>1874</td>\n",
       "      <td>1</td>\n",
       "      <td>0</td>\n",
       "      <td>0</td>\n",
       "      <td>0</td>\n",
       "      <td>1</td>\n",
       "      <td>0</td>\n",
       "      <td>24257</td>\n",
       "      <td>1</td>\n",
       "      <td>0</td>\n",
       "      <td>...</td>\n",
       "      <td>0</td>\n",
       "      <td>0.6</td>\n",
       "      <td>280.000000</td>\n",
       "      <td>3.35</td>\n",
       "      <td>97.648387</td>\n",
       "      <td>1093.000000</td>\n",
       "      <td>128.650000</td>\n",
       "      <td>81.000000</td>\n",
       "      <td>295.0</td>\n",
       "      <td>9.8</td>\n",
       "    </tr>\n",
       "  </tbody>\n",
       "</table>\n",
       "<p>329 rows × 31 columns</p>\n",
       "</div>"
      ],
      "text/plain": [
       "     N_Days  Status_C  Status_CL  Status_D  Drug_D-penicillamine  \\\n",
       "0      2644         1          0         0                     1   \n",
       "1      3492         1          0         0                     0   \n",
       "2      1702         1          0         0                     1   \n",
       "3      3523         1          0         0                     0   \n",
       "4      3428         0          0         1                     0   \n",
       "..      ...       ...        ...       ...                   ...   \n",
       "324    2255         1          0         0                     1   \n",
       "325    1899         1          0         0                     0   \n",
       "326    1152         0          0         1                     1   \n",
       "327      71         0          0         1                     1   \n",
       "328    1874         1          0         0                     0   \n",
       "\n",
       "     Drug_Placebo  Drug_Unknown    Age  Sex_F  Sex_M  ...  Edema_Y  Bilirubin  \\\n",
       "0               0             0  20296      1      0  ...        0        0.5   \n",
       "1               0             1  21915      1      0  ...        0        0.6   \n",
       "2               0             0  18806      1      0  ...        0        1.1   \n",
       "3               0             1  14610      1      0  ...        0        0.6   \n",
       "4               1             0  13727      1      0  ...        1        3.3   \n",
       "..            ...           ...    ...    ...    ...  ...      ...        ...   \n",
       "324             0             0  22642      1      0  ...        0        0.6   \n",
       "325             0             1  14975      0      1  ...        0        1.7   \n",
       "326             0             0  25546      0      1  ...        0        2.3   \n",
       "327             0             0  18972      1      0  ...        0       12.2   \n",
       "328             1             0  24257      1      0  ...        0        0.6   \n",
       "\n",
       "     Cholesterol  Albumin      Copper     Alk_Phos        SGOT  Tryglicerides  \\\n",
       "0     369.510563     3.85   63.000000   663.000000   79.050000     124.702128   \n",
       "1     369.510563     4.38   97.648387  1982.655769  122.556346     124.702128   \n",
       "2     414.000000     3.44   80.000000  1003.000000   99.000000      55.000000   \n",
       "3     369.510563     4.04   97.648387  1982.655769  122.556346     124.702128   \n",
       "4     299.000000     3.55  131.000000  1029.000000  119.350000      50.000000   \n",
       "..           ...      ...         ...          ...         ...            ...   \n",
       "324   213.000000     4.07   12.000000  5300.000000   57.350000      68.000000   \n",
       "325   369.510563     3.66   97.648387  1982.655769  122.556346     124.702128   \n",
       "326   586.000000     3.01  243.000000  2276.000000  114.700000     126.000000   \n",
       "327   394.000000     3.08  111.000000  2132.000000  155.000000     243.000000   \n",
       "328   280.000000     3.35   97.648387  1093.000000  128.650000      81.000000   \n",
       "\n",
       "     Platelets  Prothrombin  \n",
       "0        311.0          9.7  \n",
       "1        269.0         10.6  \n",
       "2        271.0          9.6  \n",
       "3        130.0         11.2  \n",
       "4        199.0         11.7  \n",
       "..         ...          ...  \n",
       "324      240.0         11.0  \n",
       "325       92.0         11.0  \n",
       "326      339.0         10.9  \n",
       "327      165.0         11.6  \n",
       "328      295.0          9.8  \n",
       "\n",
       "[329 rows x 31 columns]"
      ]
     },
     "execution_count": 291,
     "metadata": {},
     "output_type": "execute_result"
    }
   ],
   "source": [
    "#Juntam-se as duas dataframes, dos dados que precisaram ser trasnformados e os que já eram númericos \n",
    "horizontal_stack = pd.concat([hist_clinic_Xdum, hist_clinic_X_non_binary], axis=1)\n",
    "\n",
    "#mudar a ordem das colunas para corresponder com a ordem da tabela original\n",
    "hist_clinic_train = horizontal_stack.loc[:, ['N_Days', 'Status_C', 'Status_CL' ,'Status_D','Drug_D-penicillamine', 'Drug_Placebo',\n",
    " 'Drug_Unknown', \"Age\", 'Sex_F', 'Sex_M', 'Ascites_N', 'Ascites_Y' ,'Ascites_Unknown', 'Hepatomegaly_N', 'Hepatomegaly_Y', 'Hepatomegaly_Unknown', 'Spiders_N'\n",
    " , 'Spiders_Y', 'Spiders_Unknown','Edema_N','Edema_S','Edema_Y', 'Bilirubin','Cholesterol','Albumin', 'Copper','Alk_Phos','SGOT',\n",
    " 'Tryglicerides', 'Platelets', 'Prothrombin']]\n",
    "\n",
    "col_names=np.array(hist_clinic_train.columns)[:] #nomes das colunas\n",
    "X_train = hist_clinic_train.values\n",
    "\n",
    "print(\"Nomes de colunas train:\\n\",col_names)\n",
    "print(\"\\nValores das colunas train:\\n\", X_train)\n",
    "print(\"\\nDataframe do train:\")\n",
    "hist_clinic_train"
   ]
  },
  {
   "cell_type": "markdown",
   "metadata": {},
   "source": [
    "Conversão dos dados do teste:"
   ]
  },
  {
   "cell_type": "code",
   "execution_count": 292,
   "metadata": {},
   "outputs": [],
   "source": [
    "#Índices das colunas que têm dados categóricos (vamos precisar tornar binário)\n",
    "col_idxs_categoricos=[2,3,5,6,7,8,9]\n",
    "col_names_categoricos_test =np.array(hist_clinic_test.columns)[col_idxs_categoricos]\n",
    "\n",
    "#Índices das colunas que têm dados contínuos, que não precisam de tratamento \n",
    "col_idx_non_binary=[1,4,10,11,12,13,14,15,16,17,18]\n",
    "col_non_binary = np.array(hist_clinic_test.columns)[col_idx_non_binary]\n",
    "\n",
    "#Para tornar os dados categóricos em dados númericos, sendo 1 quando se verifica a existência dessa categoria e 0 quando não\n",
    "# primeiro construir um dataframe para a matriz X\n",
    "hist_clinic_X_test=hist_clinic_test[col_names_categoricos]\n",
    "# criar um novo DataFrame\n",
    "hist_clinic_Xdum_test = pd.get_dummies(hist_clinic_X_test, columns = col_names_categoricos_test)\n",
    "# Extrair os novos nomes das colunas\n",
    "col_names_dum=np.array(hist_clinic_Xdum_test.columns)\n",
    "\n",
    "#Aqui faz-se uma dataframe só com os dados que não precisaram de ser trasnformados \n",
    "hist_clinic_X_non_binary_test = hist_clinic_test[col_non_binary]"
   ]
  },
  {
   "cell_type": "code",
   "execution_count": 293,
   "metadata": {},
   "outputs": [
    {
     "name": "stdout",
     "output_type": "stream",
     "text": [
      "Nomes de colunas test:\n",
      " ['N_Days' 'Status_C' 'Status_CL' 'Status_D' 'Drug_D-penicillamine'\n",
      " 'Drug_Placebo' 'Drug_Unknown' 'Age' 'Sex_F' 'Sex_M' 'Ascites_N'\n",
      " 'Ascites_Y' 'Ascites_Unknown' 'Hepatomegaly_N' 'Hepatomegaly_Y'\n",
      " 'Hepatomegaly_Unknown' 'Spiders_N' 'Spiders_Y' 'Spiders_Unknown'\n",
      " 'Edema_N' 'Edema_S' 'Edema_Y' 'Bilirubin' 'Cholesterol' 'Albumin'\n",
      " 'Copper' 'Alk_Phos' 'SGOT' 'Tryglicerides' 'Platelets' 'Prothrombin']\n",
      "\n",
      "Valores das colunas test:\n",
      " [[9.39000000e+02 1.00000000e+00 0.00000000e+00 ... 1.00000000e+02\n",
      "  2.34000000e+02 1.02000000e+01]\n",
      " [1.30200000e+03 1.00000000e+00 0.00000000e+00 ... 1.33000000e+02\n",
      "  2.99000000e+02 1.09000000e+01]\n",
      " [1.44300000e+03 1.00000000e+00 0.00000000e+00 ... 1.24702128e+02\n",
      "  1.20000000e+02 1.10000000e+01]\n",
      " ...\n",
      " [2.11100000e+03 0.00000000e+00 0.00000000e+00 ... 1.24702128e+02\n",
      "  2.57024570e+02 1.21000000e+01]\n",
      " [2.81200000e+03 0.00000000e+00 0.00000000e+00 ... 1.24702128e+02\n",
      "  2.57024570e+02 9.30000000e+00]\n",
      " [7.78000000e+02 0.00000000e+00 0.00000000e+00 ... 1.24702128e+02\n",
      "  1.83000000e+02 1.04000000e+01]]\n",
      "\n",
      "Dataframe do test:\n"
     ]
    },
    {
     "data": {
      "text/html": [
       "<div>\n",
       "<style scoped>\n",
       "    .dataframe tbody tr th:only-of-type {\n",
       "        vertical-align: middle;\n",
       "    }\n",
       "\n",
       "    .dataframe tbody tr th {\n",
       "        vertical-align: top;\n",
       "    }\n",
       "\n",
       "    .dataframe thead th {\n",
       "        text-align: right;\n",
       "    }\n",
       "</style>\n",
       "<table border=\"1\" class=\"dataframe\">\n",
       "  <thead>\n",
       "    <tr style=\"text-align: right;\">\n",
       "      <th></th>\n",
       "      <th>N_Days</th>\n",
       "      <th>Status_C</th>\n",
       "      <th>Status_CL</th>\n",
       "      <th>Status_D</th>\n",
       "      <th>Drug_D-penicillamine</th>\n",
       "      <th>Drug_Placebo</th>\n",
       "      <th>Drug_Unknown</th>\n",
       "      <th>Age</th>\n",
       "      <th>Sex_F</th>\n",
       "      <th>Sex_M</th>\n",
       "      <th>...</th>\n",
       "      <th>Edema_Y</th>\n",
       "      <th>Bilirubin</th>\n",
       "      <th>Cholesterol</th>\n",
       "      <th>Albumin</th>\n",
       "      <th>Copper</th>\n",
       "      <th>Alk_Phos</th>\n",
       "      <th>SGOT</th>\n",
       "      <th>Tryglicerides</th>\n",
       "      <th>Platelets</th>\n",
       "      <th>Prothrombin</th>\n",
       "    </tr>\n",
       "  </thead>\n",
       "  <tbody>\n",
       "    <tr>\n",
       "      <th>0</th>\n",
       "      <td>939</td>\n",
       "      <td>1</td>\n",
       "      <td>0</td>\n",
       "      <td>0</td>\n",
       "      <td>1</td>\n",
       "      <td>0</td>\n",
       "      <td>0</td>\n",
       "      <td>22767</td>\n",
       "      <td>1</td>\n",
       "      <td>0</td>\n",
       "      <td>...</td>\n",
       "      <td>0</td>\n",
       "      <td>1.7</td>\n",
       "      <td>434.000000</td>\n",
       "      <td>3.35</td>\n",
       "      <td>39.000000</td>\n",
       "      <td>1713.000000</td>\n",
       "      <td>171.000000</td>\n",
       "      <td>100.000000</td>\n",
       "      <td>234.00000</td>\n",
       "      <td>10.2</td>\n",
       "    </tr>\n",
       "    <tr>\n",
       "      <th>1</th>\n",
       "      <td>1302</td>\n",
       "      <td>1</td>\n",
       "      <td>0</td>\n",
       "      <td>0</td>\n",
       "      <td>1</td>\n",
       "      <td>0</td>\n",
       "      <td>0</td>\n",
       "      <td>22111</td>\n",
       "      <td>0</td>\n",
       "      <td>1</td>\n",
       "      <td>...</td>\n",
       "      <td>0</td>\n",
       "      <td>6.6</td>\n",
       "      <td>1000.000000</td>\n",
       "      <td>3.07</td>\n",
       "      <td>88.000000</td>\n",
       "      <td>3150.000000</td>\n",
       "      <td>193.000000</td>\n",
       "      <td>133.000000</td>\n",
       "      <td>299.00000</td>\n",
       "      <td>10.9</td>\n",
       "    </tr>\n",
       "    <tr>\n",
       "      <th>2</th>\n",
       "      <td>1443</td>\n",
       "      <td>1</td>\n",
       "      <td>0</td>\n",
       "      <td>0</td>\n",
       "      <td>0</td>\n",
       "      <td>0</td>\n",
       "      <td>1</td>\n",
       "      <td>14975</td>\n",
       "      <td>1</td>\n",
       "      <td>0</td>\n",
       "      <td>...</td>\n",
       "      <td>0</td>\n",
       "      <td>1.2</td>\n",
       "      <td>369.510563</td>\n",
       "      <td>2.80</td>\n",
       "      <td>97.648387</td>\n",
       "      <td>1982.655769</td>\n",
       "      <td>122.556346</td>\n",
       "      <td>124.702128</td>\n",
       "      <td>120.00000</td>\n",
       "      <td>11.0</td>\n",
       "    </tr>\n",
       "    <tr>\n",
       "      <th>3</th>\n",
       "      <td>2944</td>\n",
       "      <td>1</td>\n",
       "      <td>0</td>\n",
       "      <td>0</td>\n",
       "      <td>1</td>\n",
       "      <td>0</td>\n",
       "      <td>0</td>\n",
       "      <td>14812</td>\n",
       "      <td>1</td>\n",
       "      <td>0</td>\n",
       "      <td>...</td>\n",
       "      <td>0</td>\n",
       "      <td>1.9</td>\n",
       "      <td>448.000000</td>\n",
       "      <td>3.83</td>\n",
       "      <td>60.000000</td>\n",
       "      <td>1052.000000</td>\n",
       "      <td>127.100000</td>\n",
       "      <td>175.000000</td>\n",
       "      <td>181.00000</td>\n",
       "      <td>9.8</td>\n",
       "    </tr>\n",
       "    <tr>\n",
       "      <th>4</th>\n",
       "      <td>3853</td>\n",
       "      <td>0</td>\n",
       "      <td>0</td>\n",
       "      <td>1</td>\n",
       "      <td>0</td>\n",
       "      <td>1</td>\n",
       "      <td>0</td>\n",
       "      <td>19025</td>\n",
       "      <td>1</td>\n",
       "      <td>0</td>\n",
       "      <td>...</td>\n",
       "      <td>0</td>\n",
       "      <td>0.8</td>\n",
       "      <td>276.000000</td>\n",
       "      <td>3.60</td>\n",
       "      <td>54.000000</td>\n",
       "      <td>4332.000000</td>\n",
       "      <td>99.330000</td>\n",
       "      <td>143.000000</td>\n",
       "      <td>273.00000</td>\n",
       "      <td>10.6</td>\n",
       "    </tr>\n",
       "    <tr>\n",
       "      <th>...</th>\n",
       "      <td>...</td>\n",
       "      <td>...</td>\n",
       "      <td>...</td>\n",
       "      <td>...</td>\n",
       "      <td>...</td>\n",
       "      <td>...</td>\n",
       "      <td>...</td>\n",
       "      <td>...</td>\n",
       "      <td>...</td>\n",
       "      <td>...</td>\n",
       "      <td>...</td>\n",
       "      <td>...</td>\n",
       "      <td>...</td>\n",
       "      <td>...</td>\n",
       "      <td>...</td>\n",
       "      <td>...</td>\n",
       "      <td>...</td>\n",
       "      <td>...</td>\n",
       "      <td>...</td>\n",
       "      <td>...</td>\n",
       "      <td>...</td>\n",
       "    </tr>\n",
       "    <tr>\n",
       "      <th>78</th>\n",
       "      <td>1297</td>\n",
       "      <td>0</td>\n",
       "      <td>0</td>\n",
       "      <td>1</td>\n",
       "      <td>1</td>\n",
       "      <td>0</td>\n",
       "      <td>0</td>\n",
       "      <td>18719</td>\n",
       "      <td>0</td>\n",
       "      <td>1</td>\n",
       "      <td>...</td>\n",
       "      <td>0</td>\n",
       "      <td>7.3</td>\n",
       "      <td>426.000000</td>\n",
       "      <td>3.93</td>\n",
       "      <td>262.000000</td>\n",
       "      <td>2424.000000</td>\n",
       "      <td>145.700000</td>\n",
       "      <td>218.000000</td>\n",
       "      <td>252.00000</td>\n",
       "      <td>10.5</td>\n",
       "    </tr>\n",
       "    <tr>\n",
       "      <th>79</th>\n",
       "      <td>2576</td>\n",
       "      <td>1</td>\n",
       "      <td>0</td>\n",
       "      <td>0</td>\n",
       "      <td>0</td>\n",
       "      <td>1</td>\n",
       "      <td>0</td>\n",
       "      <td>17323</td>\n",
       "      <td>1</td>\n",
       "      <td>0</td>\n",
       "      <td>...</td>\n",
       "      <td>0</td>\n",
       "      <td>0.5</td>\n",
       "      <td>316.000000</td>\n",
       "      <td>3.65</td>\n",
       "      <td>68.000000</td>\n",
       "      <td>1716.000000</td>\n",
       "      <td>187.550000</td>\n",
       "      <td>71.000000</td>\n",
       "      <td>356.00000</td>\n",
       "      <td>9.8</td>\n",
       "    </tr>\n",
       "    <tr>\n",
       "      <th>80</th>\n",
       "      <td>2111</td>\n",
       "      <td>0</td>\n",
       "      <td>0</td>\n",
       "      <td>1</td>\n",
       "      <td>0</td>\n",
       "      <td>0</td>\n",
       "      <td>1</td>\n",
       "      <td>19724</td>\n",
       "      <td>1</td>\n",
       "      <td>0</td>\n",
       "      <td>...</td>\n",
       "      <td>0</td>\n",
       "      <td>1.0</td>\n",
       "      <td>369.510563</td>\n",
       "      <td>3.60</td>\n",
       "      <td>97.648387</td>\n",
       "      <td>1982.655769</td>\n",
       "      <td>122.556346</td>\n",
       "      <td>124.702128</td>\n",
       "      <td>257.02457</td>\n",
       "      <td>12.1</td>\n",
       "    </tr>\n",
       "    <tr>\n",
       "      <th>81</th>\n",
       "      <td>2812</td>\n",
       "      <td>0</td>\n",
       "      <td>0</td>\n",
       "      <td>1</td>\n",
       "      <td>0</td>\n",
       "      <td>0</td>\n",
       "      <td>1</td>\n",
       "      <td>18628</td>\n",
       "      <td>1</td>\n",
       "      <td>0</td>\n",
       "      <td>...</td>\n",
       "      <td>0</td>\n",
       "      <td>3.4</td>\n",
       "      <td>369.510563</td>\n",
       "      <td>3.92</td>\n",
       "      <td>97.648387</td>\n",
       "      <td>1982.655769</td>\n",
       "      <td>122.556346</td>\n",
       "      <td>124.702128</td>\n",
       "      <td>257.02457</td>\n",
       "      <td>9.3</td>\n",
       "    </tr>\n",
       "    <tr>\n",
       "      <th>82</th>\n",
       "      <td>778</td>\n",
       "      <td>0</td>\n",
       "      <td>0</td>\n",
       "      <td>1</td>\n",
       "      <td>0</td>\n",
       "      <td>0</td>\n",
       "      <td>1</td>\n",
       "      <td>23376</td>\n",
       "      <td>1</td>\n",
       "      <td>0</td>\n",
       "      <td>...</td>\n",
       "      <td>0</td>\n",
       "      <td>1.8</td>\n",
       "      <td>369.510563</td>\n",
       "      <td>3.15</td>\n",
       "      <td>97.648387</td>\n",
       "      <td>1982.655769</td>\n",
       "      <td>122.556346</td>\n",
       "      <td>124.702128</td>\n",
       "      <td>183.00000</td>\n",
       "      <td>10.4</td>\n",
       "    </tr>\n",
       "  </tbody>\n",
       "</table>\n",
       "<p>83 rows × 31 columns</p>\n",
       "</div>"
      ],
      "text/plain": [
       "    N_Days  Status_C  Status_CL  Status_D  Drug_D-penicillamine  Drug_Placebo  \\\n",
       "0      939         1          0         0                     1             0   \n",
       "1     1302         1          0         0                     1             0   \n",
       "2     1443         1          0         0                     0             0   \n",
       "3     2944         1          0         0                     1             0   \n",
       "4     3853         0          0         1                     0             1   \n",
       "..     ...       ...        ...       ...                   ...           ...   \n",
       "78    1297         0          0         1                     1             0   \n",
       "79    2576         1          0         0                     0             1   \n",
       "80    2111         0          0         1                     0             0   \n",
       "81    2812         0          0         1                     0             0   \n",
       "82     778         0          0         1                     0             0   \n",
       "\n",
       "    Drug_Unknown    Age  Sex_F  Sex_M  ...  Edema_Y  Bilirubin  Cholesterol  \\\n",
       "0              0  22767      1      0  ...        0        1.7   434.000000   \n",
       "1              0  22111      0      1  ...        0        6.6  1000.000000   \n",
       "2              1  14975      1      0  ...        0        1.2   369.510563   \n",
       "3              0  14812      1      0  ...        0        1.9   448.000000   \n",
       "4              0  19025      1      0  ...        0        0.8   276.000000   \n",
       "..           ...    ...    ...    ...  ...      ...        ...          ...   \n",
       "78             0  18719      0      1  ...        0        7.3   426.000000   \n",
       "79             0  17323      1      0  ...        0        0.5   316.000000   \n",
       "80             1  19724      1      0  ...        0        1.0   369.510563   \n",
       "81             1  18628      1      0  ...        0        3.4   369.510563   \n",
       "82             1  23376      1      0  ...        0        1.8   369.510563   \n",
       "\n",
       "    Albumin      Copper     Alk_Phos        SGOT  Tryglicerides  Platelets  \\\n",
       "0      3.35   39.000000  1713.000000  171.000000     100.000000  234.00000   \n",
       "1      3.07   88.000000  3150.000000  193.000000     133.000000  299.00000   \n",
       "2      2.80   97.648387  1982.655769  122.556346     124.702128  120.00000   \n",
       "3      3.83   60.000000  1052.000000  127.100000     175.000000  181.00000   \n",
       "4      3.60   54.000000  4332.000000   99.330000     143.000000  273.00000   \n",
       "..      ...         ...          ...         ...            ...        ...   \n",
       "78     3.93  262.000000  2424.000000  145.700000     218.000000  252.00000   \n",
       "79     3.65   68.000000  1716.000000  187.550000      71.000000  356.00000   \n",
       "80     3.60   97.648387  1982.655769  122.556346     124.702128  257.02457   \n",
       "81     3.92   97.648387  1982.655769  122.556346     124.702128  257.02457   \n",
       "82     3.15   97.648387  1982.655769  122.556346     124.702128  183.00000   \n",
       "\n",
       "    Prothrombin  \n",
       "0          10.2  \n",
       "1          10.9  \n",
       "2          11.0  \n",
       "3           9.8  \n",
       "4          10.6  \n",
       "..          ...  \n",
       "78         10.5  \n",
       "79          9.8  \n",
       "80         12.1  \n",
       "81          9.3  \n",
       "82         10.4  \n",
       "\n",
       "[83 rows x 31 columns]"
      ]
     },
     "execution_count": 293,
     "metadata": {},
     "output_type": "execute_result"
    }
   ],
   "source": [
    "#Juntam-se as duas dataframes, dos dados que precisaram ser trasnformados e os que já eram númericos \n",
    "horizontal_stack = pd.concat([hist_clinic_Xdum_test, hist_clinic_X_non_binary_test], axis=1)\n",
    "\n",
    "#mudar a ordem das colunas para corresponder com a ordem da tabela original\n",
    "hist_clinic_test = horizontal_stack.loc[:, ['N_Days', 'Status_C', 'Status_CL' ,'Status_D','Drug_D-penicillamine', 'Drug_Placebo',\n",
    " 'Drug_Unknown', \"Age\", 'Sex_F', 'Sex_M', 'Ascites_N', 'Ascites_Y' ,'Ascites_Unknown', 'Hepatomegaly_N', 'Hepatomegaly_Y', 'Hepatomegaly_Unknown', 'Spiders_N'\n",
    " , 'Spiders_Y', 'Spiders_Unknown','Edema_N','Edema_S','Edema_Y', 'Bilirubin','Cholesterol','Albumin', 'Copper','Alk_Phos','SGOT',\n",
    " 'Tryglicerides', 'Platelets', 'Prothrombin']]\n",
    "\n",
    "col_names_test =np.array(hist_clinic_test.columns)[:] #nomes das colunas\n",
    "X_test = hist_clinic_test.values\n",
    "\n",
    "print(\"Nomes de colunas test:\\n\",col_names_test)\n",
    "print(\"\\nValores das colunas test:\\n\", X_test)\n",
    "print(\"\\nDataframe do test:\")\n",
    "hist_clinic_test"
   ]
  },
  {
   "cell_type": "code",
   "execution_count": null,
   "metadata": {},
   "outputs": [],
   "source": []
  },
  {
   "cell_type": "markdown",
   "metadata": {},
   "source": [
    "## 2. Ajustamento dos modelos\n",
    "\n",
    "\n",
    "### 2.1. Teste de modelos e validação\n",
    "\n",
    "\n",
    "* Criar modelos\n",
    "* Validar modelos\n",
    "* Avaliar a qualidade dos modelos"
   ]
  },
  {
   "cell_type": "code",
   "execution_count": 294,
   "metadata": {},
   "outputs": [
    {
     "name": "stdout",
     "output_type": "stream",
     "text": [
      "[1 2 1 2 3 4 3 4 4 4 4 1 1 3 3 1 3 4 4 4 1 2 2 2 3 2 4 4 4 4 3 1 4 4 3 3 4\n",
      " 3 3 2 4 3 2 2 3 3 4 3 3 2 4 4 2 2 2 3 4 1 4 1 3 2 2 3 3 4 4 4 3 3 3 4 3 3\n",
      " 3 2 2 4 4 3 3 3 2 2 2 4 3 4 4 3 4 4 3 4 3 3 4 3 4 2 2 3 2 2 3 2 2 4 3 4 4\n",
      " 4 3 2 4 2 2 4 4 3 4 4 4 3 1 2 2 4 3 2 4 2 4 4 4 4 3 3 4 2 2 3 2 2 2 3 4 4\n",
      " 4 3 4 4 4 3 4 2 4 4 2 3 4 2 2 3 3 3 4 4 4 3 2 1 3 3 4 3 3 4 2 3 3 2 3 4 4\n",
      " 2 4 2 3 3 1 4 4 1 4 2 3 4 4 3 2 3 2 4 2 3 3 4 3 2 3 4 3 2 4 4 3 3 3 4 3 4\n",
      " 3 4 3 4 4 4 3 3 3 4 3 4 3 4 3 3 2 2 3 3 3 3 2 3 4 4 3 2 3 4 4 2 2 2 3 1 2\n",
      " 3 3 4 3 3 4 4 2 3 3 3 3 4 4 2 3 3 3 3 3 4 4 2 3 4 1 3 3 2 3 4 3 4 4 4 3 3\n",
      " 4 2 2 4 3 3 4 2 2 4 3 4 3 3 3 3 3 1 3 4 2 3 4 3 2 2 4 3 1 4 3 4 2]\n"
     ]
    }
   ],
   "source": [
    "y_train = y_train.astype(np.int32) #temos de converter o float do Y para int na versao do np. porque a criacao do modelo so aceita o Y em int.\n",
    "print(y_train)"
   ]
  },
  {
   "cell_type": "markdown",
   "metadata": {},
   "source": [
    "#### 2.1.1 Arvores de Decisão\n"
   ]
  },
  {
   "cell_type": "markdown",
   "metadata": {},
   "source": [
    "* Separar os dados do train para X_train_TRAIN,  X_test_TRAIN, y_train_TRAIN, y_test_TRAIN para a validacao de modelos"
   ]
  },
  {
   "cell_type": "code",
   "execution_count": 295,
   "metadata": {},
   "outputs": [],
   "source": [
    "from sklearn.model_selection import train_test_split\n",
    "\n",
    "X_train_TRAIN, X_test_TRAIN, y_train_TRAIN, y_test_TRAIN = train_test_split(X_train,\n",
    "                                                            y_train,\n",
    "                                                            random_state=2)"
   ]
  },
  {
   "cell_type": "code",
   "execution_count": 296,
   "metadata": {},
   "outputs": [
    {
     "data": {
      "text/plain": [
       "(246, 31)"
      ]
     },
     "execution_count": 296,
     "metadata": {},
     "output_type": "execute_result"
    }
   ],
   "source": [
    "X_train_TRAIN.shape #75% dos dados totais para treinar"
   ]
  },
  {
   "cell_type": "code",
   "execution_count": 297,
   "metadata": {},
   "outputs": [
    {
     "data": {
      "text/plain": [
       "(83, 31)"
      ]
     },
     "execution_count": 297,
     "metadata": {},
     "output_type": "execute_result"
    }
   ],
   "source": [
    "X_test_TRAIN.shape #25% dos restantes dados para testar com outros dados e evitar overfitting"
   ]
  },
  {
   "cell_type": "markdown",
   "metadata": {},
   "source": [
    "* Criação e treino do modelo simples com o novo conjunto de dados do TRAIN"
   ]
  },
  {
   "cell_type": "code",
   "execution_count": 298,
   "metadata": {},
   "outputs": [
    {
     "data": {
      "text/plain": [
       "DecisionTreeClassifier(criterion='entropy')"
      ]
     },
     "execution_count": 298,
     "metadata": {},
     "output_type": "execute_result"
    }
   ],
   "source": [
    "from sklearn.tree import DecisionTreeClassifier\n",
    "dtc = DecisionTreeClassifier(criterion='entropy')\n",
    "dtc.fit(X_train_TRAIN,y_train_TRAIN)"
   ]
  },
  {
   "cell_type": "markdown",
   "metadata": {},
   "source": [
    "* Comparação das previsoes do conjunto de teste do TRAIN e do conjunto de train com a exatidão (accuracy do modelo, que corresponde a fração de STAGES corretamente prevista ou classificada."
   ]
  },
  {
   "cell_type": "code",
   "execution_count": 299,
   "metadata": {},
   "outputs": [
    {
     "data": {
      "text/plain": [
       "0.42168674698795183"
      ]
     },
     "execution_count": 299,
     "metadata": {},
     "output_type": "execute_result"
    }
   ],
   "source": [
    "dtc.score(X_test_TRAIN, y_test_TRAIN)"
   ]
  },
  {
   "cell_type": "markdown",
   "metadata": {},
   "source": [
    "* Temos apenas aproxidamente 46,9% dos STAGES do conjunto de teste que foram corretamente classificadas pelo modelo o que significa que é esperado que o nosso modelo esteja correto 46,9%  das vezes a classificar novos pacientes."
   ]
  },
  {
   "cell_type": "code",
   "execution_count": 300,
   "metadata": {},
   "outputs": [
    {
     "data": {
      "text/plain": [
       "1.0"
      ]
     },
     "execution_count": 300,
     "metadata": {},
     "output_type": "execute_result"
    }
   ],
   "source": [
    "dtc.score(X_train_TRAIN, y_train_TRAIN)"
   ]
  },
  {
   "cell_type": "markdown",
   "metadata": {},
   "source": [
    "* No caso do conjunto de treino, a accuracy é de 100%. Geralmente a accuracy no conjunto de treino é mais elevada que no conjunto de teste, mas não de 100% na maioria dos problemas."
   ]
  },
  {
   "cell_type": "markdown",
   "metadata": {},
   "source": [
    "#### A procura dos melhores parâmetros para criar um melhor modelo. \n",
    "Variando um ou dois parâmetros gerando diferentes modelos, treinamos cada um desses modelos no conjunto de treino e validamos no conjunto de teste."
   ]
  },
  {
   "cell_type": "code",
   "execution_count": 301,
   "metadata": {},
   "outputs": [
    {
     "data": {
      "image/png": "[encoded data removed]",
      "text/plain": [
       "<Figure size 432x288 with 1 Axes>"
      ]
     },
     "metadata": {
      "needs_background": "light"
     },
     "output_type": "display_data"
    }
   ],
   "source": [
    "import matplotlib.pyplot as plt\n",
    "\n",
    "train = []\n",
    "test = []\n",
    "for i in range(2,50):\n",
    "    ad = DecisionTreeClassifier(criterion='entropy', min_samples_split=i)\n",
    "    ad = ad.fit(X_train_TRAIN,y_train_TRAIN)\n",
    "    train.append(ad.score(X_train_TRAIN,y_train_TRAIN)*100)\n",
    "    test.append(ad.score(X_test_TRAIN,y_test_TRAIN)*100)\n",
    "\n",
    "# fazer um gráfico com a accuracy\n",
    "x = np.arange(2,50,1) # intervalo do eixo dos xx's\n",
    "plt.plot(x, train, 'bo--', label='Train set')\n",
    "plt.plot(x, test, 'rd--', label='Test set')\n",
    "plt.ylim(30,101) # limite dos eixo dos yy's\n",
    "plt.xlabel('Min. samples split') # legenda do eixo dos xx's\n",
    "plt.ylabel('Accuracy (in %)') # legenda do eixo dos yy's\n",
    "plt.legend() # legenda\n",
    "plt.show()"
   ]
  },
  {
   "cell_type": "markdown",
   "metadata": {},
   "source": [
    "O melhor valor a ser selecionado é quando o train set e o test set se aproximam mais no accuracy. Pare evitar um underfit ou overfit."
   ]
  },
  {
   "cell_type": "code",
   "execution_count": 302,
   "metadata": {},
   "outputs": [
    {
     "data": {
      "image/png": "[encoded data removed]",
      "text/plain": [
       "<Figure size 432x288 with 1 Axes>"
      ]
     },
     "metadata": {
      "needs_background": "light"
     },
     "output_type": "display_data"
    }
   ],
   "source": [
    "train = []\n",
    "test = []\n",
    "for i in range(2,50):\n",
    "    ad = DecisionTreeClassifier(criterion='entropy', min_samples_leaf=i)\n",
    "    ad = ad.fit(X_train_TRAIN,y_train_TRAIN)\n",
    "    train.append(ad.score(X_train_TRAIN,y_train_TRAIN)*100)\n",
    "    test.append(ad.score(X_test_TRAIN,y_test_TRAIN)*100)\n",
    "\n",
    "# fazer um gráfico com a accuracy\n",
    "x = np.arange(2,50,1) # intervalo do eixo dos xx's\n",
    "plt.plot(x, train, 'bo--', label='Train set')\n",
    "plt.plot(x, test, 'rd--', label='Test set')\n",
    "plt.ylim(30,101) # limite dos eixo dos yy's\n",
    "plt.xlabel('Min. samples leaf') # legenda do eixo dos xx's\n",
    "plt.ylabel('Accuracy (in %)') # legenda do eixo dos yy's\n",
    "plt.legend() # legenda\n",
    "plt.show()"
   ]
  },
  {
   "cell_type": "markdown",
   "metadata": {},
   "source": [
    "O melhor valor a ser selecionado é quando o train set e o test set se aproximam mais no accuracy. Pare evitar um underfit ou overfit."
   ]
  },
  {
   "cell_type": "code",
   "execution_count": 303,
   "metadata": {},
   "outputs": [
    {
     "data": {
      "image/png": "[encoded data removed]",
      "text/plain": [
       "<Figure size 432x288 with 1 Axes>"
      ]
     },
     "metadata": {
      "needs_background": "light"
     },
     "output_type": "display_data"
    }
   ],
   "source": [
    "train = []\n",
    "test = []\n",
    "for i in range(2,20):\n",
    "    ad = DecisionTreeClassifier(criterion='entropy', max_depth=i)\n",
    "    ad = ad.fit(X_train_TRAIN,y_train_TRAIN)\n",
    "    train.append(ad.score(X_train_TRAIN,y_train_TRAIN)*100)\n",
    "    test.append(ad.score(X_test_TRAIN,y_test_TRAIN)*100)\n",
    "\n",
    "# fazer um gráfico com a accuracy\n",
    "x = np.arange(2,20,1) # intervalo do eixo dos xx's\n",
    "plt.plot(x, train, 'bo--', label='Train set')\n",
    "plt.plot(x, test, 'rd--', label='Test set')\n",
    "plt.ylim(30,101) # limite dos eixo dos yy's\n",
    "plt.xlabel('Min. samples leaf') # legenda do eixo dos xx's\n",
    "plt.ylabel('Accuracy (in %)') # legenda do eixo dos yy's\n",
    "plt.legend() # legenda\n",
    "plt.show()"
   ]
  },
  {
   "cell_type": "markdown",
   "metadata": {},
   "source": [
    "O melhor valor a ser selecionado é quando o train set e o test set se aproximam mais no accuracy. Pare evitar um underfit ou overfit."
   ]
  },
  {
   "cell_type": "markdown",
   "metadata": {},
   "source": [
    "#### Validação com o F1-Macro score parametro max-depth e cross validation = 5"
   ]
  },
  {
   "cell_type": "code",
   "execution_count": 304,
   "metadata": {},
   "outputs": [
    {
     "data": {
      "image/png": "[encoded data removed]",
      "text/plain": [
       "<Figure size 432x288 with 1 Axes>"
      ]
     },
     "metadata": {
      "needs_background": "light"
     },
     "output_type": "display_data"
    },
    {
     "name": "stdout",
     "output_type": "stream",
     "text": [
      "Melhor média do test f1_macro: 27.160142489089857 em max_depth i = [8] \n"
     ]
    }
   ],
   "source": [
    "from sklearn.model_selection import cross_val_score\n",
    "\n",
    "train = []\n",
    "test = []\n",
    "for i in range(2,20):\n",
    "    ad = DecisionTreeClassifier(criterion='entropy', max_depth=i)\n",
    "    ad = ad.fit(X_train_TRAIN,y_train_TRAIN)\n",
    "    scores_train = cross_val_score(ad,\n",
    "                             X= X_train_TRAIN,\n",
    "                             y= y_train_TRAIN,\n",
    "                             cv =5,\n",
    "                             scoring='f1_macro')\n",
    "    \n",
    "    scores_test = cross_val_score(ad,\n",
    "                             X= X_test_TRAIN,\n",
    "                             y= y_test_TRAIN,\n",
    "                             cv =5,\n",
    "                             scoring='f1_macro')\n",
    "\n",
    "    train.append(np.mean(scores_train)*100)\n",
    "    test.append(np.mean(scores_test)*100)\n",
    "\n",
    "# fazer um gráfico com a accuracy\n",
    "x = np.arange(2,20,1) # intervalo do eixo dos xx's\n",
    "plt.plot(x, train, 'bo--', label='Train set')\n",
    "plt.plot(x, test, 'rd--', label='Test set')\n",
    "plt.ylim(10,60) # limite dos eixo dos yy's\n",
    "plt.xlabel('Max depth') # legenda do eixo dos xx's\n",
    "plt.ylabel('F1 Macro (in %)') # legenda do eixo dos yy's\n",
    "plt.legend() # legenda\n",
    "plt.show()\n",
    "\n",
    "#print(test)\n",
    "max_val_test = np.max(test)\n",
    "index_max = np.where(test == max_val_test)\n",
    "idx = index_max[0] + 2\n",
    "print (f\"Melhor média do test f1_macro: {max_val_test} em max_depth i = {idx} \")"
   ]
  },
  {
   "cell_type": "markdown",
   "metadata": {},
   "source": [
    "O melhor valor a ser selecionado é quando o train set e o test set se aproximam mais no f1 macro. Pare evitar um underfit ou overfit."
   ]
  },
  {
   "cell_type": "markdown",
   "metadata": {},
   "source": [
    "#### Validação com o F1-Macro score parametro min samples leaf e cross validation = 5"
   ]
  },
  {
   "cell_type": "code",
   "execution_count": 305,
   "metadata": {},
   "outputs": [
    {
     "data": {
      "image/png": "[encoded data removed]",
      "text/plain": [
       "<Figure size 432x288 with 1 Axes>"
      ]
     },
     "metadata": {
      "needs_background": "light"
     },
     "output_type": "display_data"
    },
    {
     "name": "stdout",
     "output_type": "stream",
     "text": [
      "Melhor média do test f1_macro: 28.413907987437398 em min_samples_leaf i = [8] \n"
     ]
    }
   ],
   "source": [
    "from sklearn.model_selection import cross_val_score\n",
    "\n",
    "train = []\n",
    "test = []\n",
    "for i in range(2,20):\n",
    "    ad = DecisionTreeClassifier(criterion='entropy', min_samples_leaf=i)\n",
    "    ad = ad.fit(X_train_TRAIN,y_train_TRAIN)\n",
    "    scores_train = cross_val_score(ad,\n",
    "                             X= X_train_TRAIN,\n",
    "                             y= y_train_TRAIN,\n",
    "                             cv =5,\n",
    "                             scoring='f1_macro')\n",
    "    \n",
    "    scores_test = cross_val_score(ad,\n",
    "                             X= X_test_TRAIN,\n",
    "                             y= y_test_TRAIN,\n",
    "                             cv =5,\n",
    "                             scoring='f1_macro')\n",
    "\n",
    "    train.append(np.mean(scores_train)*100)\n",
    "    test.append(np.mean(scores_test)*100)\n",
    "\n",
    "# fazer um gráfico com a accuracy\n",
    "x = np.arange(2,20,1) # intervalo do eixo dos xx's\n",
    "plt.plot(x, train, 'bo--', label='Train set')\n",
    "plt.plot(x, test, 'rd--', label='Test set')\n",
    "plt.ylim(10,60) # limite dos eixo dos yy's\n",
    "plt.xlabel('Min samples leaf') # legenda do eixo dos xx's\n",
    "plt.ylabel('F1 Macro (in %)') # legenda do eixo dos yy's\n",
    "plt.legend() # legenda\n",
    "plt.show()\n",
    "\n",
    "#print(test)\n",
    "max_val_test = np.max(test)\n",
    "index_max = np.where(test == max_val_test)\n",
    "idx = index_max[0] + 2\n",
    "print (f\"Melhor média do test f1_macro: {max_val_test} em min_samples_leaf i = {idx} \")"
   ]
  },
  {
   "cell_type": "markdown",
   "metadata": {},
   "source": [
    "O melhor valor a ser selecionado é quando o train set e o test set se aproximam mais no f1 macro. Pare evitar um underfit ou overfit."
   ]
  },
  {
   "cell_type": "markdown",
   "metadata": {},
   "source": [
    "#### Validação com o F1-Macro score parametro min samples split e cross validation = 5"
   ]
  },
  {
   "cell_type": "code",
   "execution_count": 306,
   "metadata": {},
   "outputs": [
    {
     "data": {
      "image/png": "[encoded data removed]",
      "text/plain": [
       "<Figure size 432x288 with 1 Axes>"
      ]
     },
     "metadata": {
      "needs_background": "light"
     },
     "output_type": "display_data"
    },
    {
     "name": "stdout",
     "output_type": "stream",
     "text": [
      "Melhor média do test f1_macro: 28.212243166190532 em min_samples_split i = [9] \n"
     ]
    }
   ],
   "source": [
    "from sklearn.model_selection import cross_val_score\n",
    "\n",
    "train = []\n",
    "test = []\n",
    "for i in range(2,20):\n",
    "    ad = DecisionTreeClassifier(criterion='entropy', min_samples_split=i)\n",
    "    ad = ad.fit(X_train_TRAIN,y_train_TRAIN)\n",
    "    scores_train = cross_val_score(ad,\n",
    "                             X= X_train_TRAIN,\n",
    "                             y= y_train_TRAIN,\n",
    "                             cv =5,\n",
    "                             scoring='f1_macro')\n",
    "    \n",
    "    scores_test = cross_val_score(ad,\n",
    "                             X= X_test_TRAIN,\n",
    "                             y= y_test_TRAIN,\n",
    "                             cv =5,\n",
    "                             scoring='f1_macro')\n",
    "\n",
    "    train.append(np.mean(scores_train)*100)\n",
    "    test.append(np.mean(scores_test)*100)\n",
    "\n",
    "# fazer um gráfico com a accuracy\n",
    "x = np.arange(2,20,1) # intervalo do eixo dos xx's\n",
    "plt.plot(x, train, 'bo--', label='Train set')\n",
    "plt.plot(x, test, 'rd--', label='Test set')\n",
    "plt.ylim(10,60) # limite dos eixo dos yy's\n",
    "plt.xlabel('Min samples split') # legenda do eixo dos xx's\n",
    "plt.ylabel('F1 Macro (in %)') # legenda do eixo dos yy's\n",
    "plt.legend() # legenda\n",
    "plt.show()\n",
    "\n",
    "#print(test)\n",
    "max_val_test = np.max(test)\n",
    "index_max = np.where(test == max_val_test)\n",
    "idx = index_max[0] + 2\n",
    "print (f\"Melhor média do test f1_macro: {max_val_test} em min_samples_split i = {idx} \")"
   ]
  },
  {
   "cell_type": "code",
   "execution_count": null,
   "metadata": {},
   "outputs": [],
   "source": []
  },
  {
   "cell_type": "code",
   "execution_count": 307,
   "metadata": {},
   "outputs": [
    {
     "data": {
      "image/png": "[encoded data removed]",
      "text/plain": [
       "<Figure size 432x288 with 1 Axes>"
      ]
     },
     "metadata": {
      "needs_background": "light"
     },
     "output_type": "display_data"
    },
    {
     "name": "stdout",
     "output_type": "stream",
     "text": [
      "Melhor média do test f1_macro: 28.413907987437398 em min_samples_leaf i = [8] \n"
     ]
    }
   ],
   "source": [
    "from sklearn.model_selection import cross_val_score\n",
    "\n",
    "train = []\n",
    "test = []\n",
    "for i in range(2,20):\n",
    "    ad = DecisionTreeClassifier(criterion='entropy', max_depth = 6, min_samples_leaf=i)\n",
    "    ad = ad.fit(X_train_TRAIN,y_train_TRAIN)\n",
    "    scores_train = cross_val_score(ad,\n",
    "                             X= X_train_TRAIN,\n",
    "                             y= y_train_TRAIN,\n",
    "                             cv =5,\n",
    "                             scoring='f1_macro')\n",
    "    \n",
    "    scores_test = cross_val_score(ad,\n",
    "                             X= X_test_TRAIN,\n",
    "                             y= y_test_TRAIN,\n",
    "                             cv =5,\n",
    "                             scoring='f1_macro')\n",
    "\n",
    "    train.append(np.mean(scores_train)*100)\n",
    "    test.append(np.mean(scores_test)*100)\n",
    "\n",
    "# fazer um gráfico com a accuracy\n",
    "x = np.arange(2,20,1) # intervalo do eixo dos xx's\n",
    "plt.plot(x, train, 'bo--', label='Train set')\n",
    "plt.plot(x, test, 'rd--', label='Test set')\n",
    "plt.ylim(10,60) # limite dos eixo dos yy's\n",
    "plt.xlabel('Min samples leaf') # legenda do eixo dos xx's\n",
    "plt.ylabel('F1 Macro (in %)') # legenda do eixo dos yy's\n",
    "plt.legend() # legenda\n",
    "plt.show()\n",
    "\n",
    "#print(test)\n",
    "max_val_test = np.max(test)\n",
    "index_max = np.where(test == max_val_test)\n",
    "idx = index_max[0] + 2\n",
    "print (f\"Melhor média do test f1_macro: {max_val_test} em min_samples_leaf i = {idx} \")"
   ]
  },
  {
   "cell_type": "code",
   "execution_count": 308,
   "metadata": {},
   "outputs": [
    {
     "data": {
      "image/png": "[encoded data removed]",
      "text/plain": [
       "<Figure size 432x288 with 1 Axes>"
      ]
     },
     "metadata": {
      "needs_background": "light"
     },
     "output_type": "display_data"
    },
    {
     "name": "stdout",
     "output_type": "stream",
     "text": [
      "Melhor média do test f1_macro: 28.413907987437398 em min_samples_split i = [ 2  3  4  5  6  7  8  9 10 11 12 13 14 15 16] \n"
     ]
    }
   ],
   "source": [
    "from sklearn.model_selection import cross_val_score\n",
    "\n",
    "train = []\n",
    "test = []\n",
    "for i in range(2,20):\n",
    "    ad = DecisionTreeClassifier(criterion='entropy', max_depth = 6, min_samples_leaf= 8 , min_samples_split = i)\n",
    "    ad = ad.fit(X_train_TRAIN,y_train_TRAIN)\n",
    "    scores_train = cross_val_score(ad,\n",
    "                             X= X_train_TRAIN,\n",
    "                             y= y_train_TRAIN,\n",
    "                             cv =5,\n",
    "                             scoring='f1_macro')\n",
    "    \n",
    "    scores_test = cross_val_score(ad,\n",
    "                             X= X_test_TRAIN,\n",
    "                             y= y_test_TRAIN,\n",
    "                             cv =5,\n",
    "                             scoring='f1_macro')\n",
    "\n",
    "    train.append(np.mean(scores_train)*100)\n",
    "    test.append(np.mean(scores_test)*100)\n",
    "\n",
    "# fazer um gráfico com a accuracy\n",
    "x = np.arange(2,20,1) # intervalo do eixo dos xx's\n",
    "plt.plot(x, train, 'bo--', label='Train set')\n",
    "plt.plot(x, test, 'rd--', label='Test set')\n",
    "plt.ylim(10,60) # limite dos eixo dos yy's\n",
    "plt.xlabel('Min samples split') # legenda do eixo dos xx's\n",
    "plt.ylabel('F1 Macro (in %)') # legenda do eixo dos yy's\n",
    "plt.legend() # legenda\n",
    "plt.show()\n",
    "\n",
    "#print(test)\n",
    "max_val_test = np.max(test)\n",
    "index_max = np.where(test == max_val_test)\n",
    "idx = index_max[0] + 2\n",
    "print (f\"Melhor média do test f1_macro: {max_val_test} em min_samples_split i = {idx} \")"
   ]
  },
  {
   "cell_type": "code",
   "execution_count": null,
   "metadata": {},
   "outputs": [],
   "source": []
  },
  {
   "cell_type": "code",
   "execution_count": 309,
   "metadata": {},
   "outputs": [
    {
     "name": "stdout",
     "output_type": "stream",
     "text": [
      "Melhor média f1_macro: 0.36838438685417174  \n",
      "Profundidade da árvore obtida: 12\n",
      "Número de folhas da árvore obtida: 95\n"
     ]
    }
   ],
   "source": [
    "#cross validation k-folds 5 para o max_depth\n",
    "from sklearn.tree import DecisionTreeClassifier\n",
    "from sklearn.model_selection import cross_val_score\n",
    "\n",
    "ad1 = DecisionTreeClassifier(criterion='entropy')\n",
    "ad1.fit(X_train,y_train)\n",
    "scores = cross_val_score(ad1,\n",
    "                             X= X_train,\n",
    "                             y= y_train,\n",
    "                             cv =5,\n",
    "                             scoring='f1_macro')\n",
    "print (f\"Melhor média f1_macro: {np.mean(scores)}  \")\n",
    "print('Profundidade da árvore obtida:', ad1.get_depth())\n",
    "print('Número de folhas da árvore obtida:', ad1.get_n_leaves()) \n"
   ]
  },
  {
   "cell_type": "markdown",
   "metadata": {},
   "source": [
    "#### criacoes de modelos com o cross validation e diferentes parametros com F1 macro scores sem o split test"
   ]
  },
  {
   "cell_type": "code",
   "execution_count": 310,
   "metadata": {},
   "outputs": [
    {
     "name": "stdout",
     "output_type": "stream",
     "text": [
      "F1 macro scores:\n",
      "[0.25885517403667724, 0.2974212859453938, 0.31593204160071275, 0.33546965500937065, 0.3704417654604797, 0.3651387525222604, 0.33673601029613437, 0.3277867915127383, 0.34248925378892087, 0.34018970000341286, 0.3553933578221955, 0.35247733666157555, 0.3716233724646985, 0.3541261956643682, 0.36279575742012543, 0.3436644599685663, 0.35848599266016945, 0.3832979720054598, 0.36346038668734704, 0.3652800912607684]\n",
      "Melhor média f1_macro: 0.3832979720054598 em max_depth i = [18] \n"
     ]
    }
   ],
   "source": [
    "#cross validation k-folds 5 para o max_depth\n",
    "from sklearn.tree import DecisionTreeClassifier\n",
    "from sklearn.model_selection import cross_val_score\n",
    "tot_scores = []\n",
    "for i in range(20):\n",
    "    ad2 = DecisionTreeClassifier(criterion='entropy', max_depth = i + 1)\n",
    "    scores = cross_val_score(ad2,\n",
    "                             X= X_train,\n",
    "                             y= y_train,\n",
    "                             cv =5,\n",
    "                             scoring='f1_macro')\n",
    "    tot_scores.append(np.mean(scores))\n",
    "print('F1 macro scores:')\n",
    "print(tot_scores)\n",
    "max_val = np.max(tot_scores)\n",
    "index_max = np.where(tot_scores == max_val)\n",
    "max_depth_i = index_max[0] + 1\n",
    "print (f\"Melhor média f1_macro: {max_val} em max_depth i = {max_depth_i} \")"
   ]
  },
  {
   "cell_type": "code",
   "execution_count": 311,
   "metadata": {},
   "outputs": [
    {
     "name": "stdout",
     "output_type": "stream",
     "text": [
      "F1 macro scores:\n",
      "[0.250382657606636, 0.2757762281475241, 0.2970754308510334, 0.32809164108178107, 0.35441297272528327, 0.4097147024935782, 0.3505773951430332, 0.34649663072287973, 0.35992390014761205, 0.35861624554047833, 0.36529743954097127, 0.3700018469699786, 0.3533202014892263, 0.35577385875362527, 0.35353802426416514, 0.3389525791589495, 0.34725003694232787, 0.34388618800496823, 0.33653582699013934, 0.3558034490774371]\n",
      "Melhor média f1_macro: 0.4097147024935782 em max_depth i = [6] \n"
     ]
    }
   ],
   "source": [
    "#cross validation k-folds 10 para o max_depth\n",
    "tot_scores = []\n",
    "for i in range(20):\n",
    "    ad2_1 = DecisionTreeClassifier(criterion='entropy', max_depth = i + 1)\n",
    "    scores = cross_val_score(ad2_1,\n",
    "                             X= X_train,\n",
    "                             y= y_train,\n",
    "                             cv =10,\n",
    "                             scoring='f1_macro')\n",
    "    tot_scores.append(np.mean(scores))\n",
    "print('F1 macro scores:')\n",
    "print(tot_scores)\n",
    "max_val = np.max(tot_scores)\n",
    "index_max = np.where(tot_scores == max_val)\n",
    "max_depth_i = index_max[0] + 1\n",
    "print (f\"Melhor média f1_macro: {max_val} em max_depth i = {max_depth_i} \")"
   ]
  },
  {
   "cell_type": "code",
   "execution_count": 312,
   "metadata": {},
   "outputs": [
    {
     "name": "stdout",
     "output_type": "stream",
     "text": [
      "F1 macro scores:\n",
      "[0.3592996985410434, 0.33938776718433183, 0.37324641537732417, 0.3653349922420265, 0.37649635618874344, 0.38261518412377316, 0.363747699066737, 0.3547226673061889, 0.36643386497932423, 0.3734207541432582, 0.3721495726813709, 0.36564346368488787, 0.3570540140941796, 0.35834100704389493, 0.38560195927117197, 0.3965078462985824, 0.37846018850330393, 0.38243538731616955, 0.37735507926168327, 0.37664882943195843]\n",
      "Melhor média f1_macro: 0.3965078462985824 em min_samples_split_i = [17] \n"
     ]
    }
   ],
   "source": [
    "#cross validation 5 para o min samples split\n",
    "\n",
    "tot_scores = []\n",
    "for i in range(20):\n",
    "    ad3 = DecisionTreeClassifier(criterion='entropy', min_samples_split = i + 2)\n",
    "    scores = cross_val_score(ad3,\n",
    "                             X= X_train,\n",
    "                             y= y_train,\n",
    "                             cv = 5,\n",
    "                             scoring='f1_macro')\n",
    "    tot_scores.append(np.mean(scores))\n",
    "print('F1 macro scores:')\n",
    "print(tot_scores)\n",
    "max_val = np.max(tot_scores)\n",
    "index_max = np.where(tot_scores == max_val)\n",
    "min_samples_split_i = index_max[0] + 2\n",
    "print (f\"Melhor média f1_macro: {max_val} em min_samples_split_i = {min_samples_split_i} \")"
   ]
  },
  {
   "cell_type": "code",
   "execution_count": 313,
   "metadata": {},
   "outputs": [
    {
     "name": "stdout",
     "output_type": "stream",
     "text": [
      "F1 macro scores:\n",
      "[0.32493332634245575, 0.3339701447836375, 0.3504840762665722, 0.3432883227429084, 0.35114001375426196, 0.35271835010013036, 0.33587324595373647, 0.330286005677321, 0.34310343016347356, 0.33087858302825957, 0.35041017494222143, 0.36768203980678626, 0.36364346669264896, 0.3733270337680833, 0.36564226948197626, 0.38160423031121393, 0.36015261816190036, 0.36443167244095465, 0.34560273672871905, 0.34475359758076063]\n",
      "Melhor média f1_macro: 0.38160423031121393 em min_samples_split_i = [17] \n"
     ]
    }
   ],
   "source": [
    "#cross validation 10 para o min samples split\n",
    "\n",
    "tot_scores = []\n",
    "for i in range(20):\n",
    "    ad3 = DecisionTreeClassifier(criterion='entropy', min_samples_split = i + 2)\n",
    "    scores = cross_val_score(ad3,\n",
    "                             X= X_train,\n",
    "                             y= y_train,\n",
    "                             cv = 10,\n",
    "                             scoring='f1_macro')\n",
    "    tot_scores.append(np.mean(scores))\n",
    "print('F1 macro scores:')\n",
    "print(tot_scores)\n",
    "max_val = np.max(tot_scores)\n",
    "index_max = np.where(tot_scores == max_val)\n",
    "min_samples_split_i = index_max[0] + 2\n",
    "print (f\"Melhor média f1_macro: {max_val} em min_samples_split_i = {min_samples_split_i} \")"
   ]
  },
  {
   "cell_type": "code",
   "execution_count": 314,
   "metadata": {},
   "outputs": [
    {
     "name": "stdout",
     "output_type": "stream",
     "text": [
      "F1 macro scores:\n",
      "[0.3571945486950779, 0.373278375228861, 0.3664848157453596, 0.38049833394739335, 0.359021705923187, 0.350493261806022, 0.321493348178117, 0.319976903909391, 0.3383923081021087, 0.3316756781936226, 0.33915180542625956, 0.3355033770637541, 0.3574580313770423, 0.34740444175552804, 0.3369568560607251, 0.3381995721369492, 0.329028794271801, 0.3289252036527589, 0.3423079421811487, 0.354817120002067]\n",
      "Melhor média f1_macro: 0.38049833394739335 em min_samples_leaf_i = [4] \n"
     ]
    }
   ],
   "source": [
    "tot_scores = []\n",
    "for i in range(20):\n",
    "    ad4 = DecisionTreeClassifier(criterion='entropy', min_samples_leaf = i + 1)\n",
    "    scores = cross_val_score(ad4,\n",
    "                             X= X_train,\n",
    "                             y= y_train,\n",
    "                             cv = 5,\n",
    "                             scoring='f1_macro')\n",
    "    tot_scores.append(np.mean(scores))\n",
    "print('F1 macro scores:')\n",
    "print(tot_scores)\n",
    "max_val = np.max(tot_scores)\n",
    "index_max = np.where(tot_scores == max_val)\n",
    "min_samples_leaf_i = index_max[0] + 1\n",
    "print (f\"Melhor média f1_macro: {max_val} em min_samples_leaf_i = {min_samples_leaf_i} \")"
   ]
  },
  {
   "cell_type": "code",
   "execution_count": 315,
   "metadata": {},
   "outputs": [
    {
     "name": "stdout",
     "output_type": "stream",
     "text": [
      "F1 macro scores:\n",
      "[0.34357311746792396, 0.33771589073787517, 0.3746425084446521, 0.33019310895289566, 0.33970560040590464, 0.36521238633215347, 0.37998356543512646, 0.3578503584408728, 0.3229789305609825, 0.34879956170498294, 0.3506264202132855, 0.32556270626297107, 0.32020724348254337, 0.3193148850721256, 0.30937415714900773, 0.32065983779191815, 0.3219751015237409, 0.3294331055742346, 0.3305824389845465, 0.33365195232907857]\n",
      "Melhor média f1_macro: 0.37998356543512646 em min_samples_leaf_i = [7] \n"
     ]
    }
   ],
   "source": [
    "tot_scores = []\n",
    "for i in range(20):\n",
    "    ad4 = DecisionTreeClassifier(criterion='entropy', min_samples_leaf = i + 1)\n",
    "    scores = cross_val_score(ad4,\n",
    "                             X= X_train,\n",
    "                             y= y_train,\n",
    "                             cv = 10,\n",
    "                             scoring='f1_macro')\n",
    "    tot_scores.append(np.mean(scores))\n",
    "print('F1 macro scores:')\n",
    "print(tot_scores)\n",
    "max_val = np.max(tot_scores)\n",
    "index_max = np.where(tot_scores == max_val)\n",
    "min_samples_leaf_i = index_max[0] + 1\n",
    "print (f\"Melhor média f1_macro: {max_val} em min_samples_leaf_i = {min_samples_leaf_i} \")"
   ]
  },
  {
   "cell_type": "code",
   "execution_count": 316,
   "metadata": {},
   "outputs": [
    {
     "name": "stdout",
     "output_type": "stream",
     "text": [
      "F1 macro scores:\n",
      "[0.36192567369192663, 0.3576352964792576, 0.3615918161330972, 0.36733643522096165, 0.3624563863896165, 0.34964359944209866, 0.3389487107560532, 0.35177020828388816, 0.3564198381093931, 0.3246245856622082, 0.34847013077131883, 0.3328741153076823, 0.3571197847637507, 0.34740444175552804, 0.3369568560607251, 0.3381995721369492, 0.329028794271801, 0.3289252036527589, 0.3423079421811487, 0.354817120002067]\n",
      "Melhor média f1_macro: 0.36733643522096165 em min_samples_leaf_i = [4] \n"
     ]
    }
   ],
   "source": [
    "tot_scores = []\n",
    "for i in range(20):\n",
    "    ad4 = DecisionTreeClassifier(criterion='entropy', max_depth = 6, min_samples_leaf = i + 1)\n",
    "    scores = cross_val_score(ad4,\n",
    "                             X= X_train,\n",
    "                             y= y_train,\n",
    "                             cv = 5,\n",
    "                             scoring='f1_macro')\n",
    "    tot_scores.append(np.mean(scores))\n",
    "print('F1 macro scores:')\n",
    "print(tot_scores)\n",
    "max_val = np.max(tot_scores)\n",
    "index_max = np.where(tot_scores == max_val)\n",
    "min_samples_leaf_i = index_max[0] + 1\n",
    "print (f\"Melhor média f1_macro: {max_val} em min_samples_leaf_i = {min_samples_leaf_i} \")"
   ]
  },
  {
   "cell_type": "code",
   "execution_count": 317,
   "metadata": {},
   "outputs": [
    {
     "name": "stdout",
     "output_type": "stream",
     "text": [
      "F1 macro scores:\n",
      "[0.37692997088288643, 0.3898115538646258, 0.38417982523392996, 0.37456411872044054, 0.3447445391941867, 0.35114015051210556, 0.3693166828302628, 0.3445267721274489, 0.339335802566579, 0.34990835186905517, 0.3490519541985918, 0.3234496110248758, 0.32020724348254337, 0.31982110679158265, 0.31021952888253734, 0.3162906884227688, 0.31930592859141005, 0.3334528177461207, 0.3305824389845465, 0.33365195232907857]\n",
      "Melhor média f1_macro: 0.3898115538646258 em min_samples_leaf_i = [2] \n"
     ]
    }
   ],
   "source": [
    "tot_scores = []\n",
    "for i in range(20):\n",
    "    ad4 = DecisionTreeClassifier(criterion='entropy', max_depth = 6, min_samples_leaf = i + 1)\n",
    "    scores = cross_val_score(ad4,\n",
    "                             X= X_train,\n",
    "                             y= y_train,\n",
    "                             cv = 10,\n",
    "                             scoring='f1_macro')\n",
    "    tot_scores.append(np.mean(scores))\n",
    "print('F1 macro scores:')\n",
    "print(tot_scores)\n",
    "max_val = np.max(tot_scores)\n",
    "index_max = np.where(tot_scores == max_val)\n",
    "min_samples_leaf_i = index_max[0] + 1\n",
    "print (f\"Melhor média f1_macro: {max_val} em min_samples_leaf_i = {min_samples_leaf_i} \")"
   ]
  },
  {
   "cell_type": "code",
   "execution_count": 318,
   "metadata": {},
   "outputs": [
    {
     "name": "stdout",
     "output_type": "stream",
     "text": [
      "F1 macro scores:\n",
      "[0.3646308514005093, 0.3596226145539934, 0.36161416434160437, 0.36751796086427235, 0.3569481699108237, 0.357720460925226, 0.3581960845165946, 0.3615108104147321, 0.36798594959718645, 0.36724609307241435, 0.38331527145721916, 0.38331527145721916, 0.3703012208624024, 0.3780894905460378, 0.3941618078075278, 0.40099541542755424, 0.39232678929870773, 0.3832678212673752, 0.3819097452196504, 0.38352300476272866]\n",
      "Melhor média f1_macro: 0.40099541542755424 em min_samples_split_i = [17] \n"
     ]
    }
   ],
   "source": [
    "tot_scores = []\n",
    "for i in range(20):\n",
    "    ad4 = DecisionTreeClassifier(criterion='entropy', max_depth = 6, min_samples_split = i + 2)\n",
    "    scores = cross_val_score(ad4,\n",
    "                             X= X_train,\n",
    "                             y= y_train,\n",
    "                             cv = 5,\n",
    "                             scoring='f1_macro')\n",
    "    tot_scores.append(np.mean(scores))\n",
    "print('F1 macro scores:')\n",
    "print(tot_scores)\n",
    "max_val = np.max(tot_scores)\n",
    "index_max = np.where(tot_scores == max_val)\n",
    "min_samples_split_i = index_max[0] + 2\n",
    "print (f\"Melhor média f1_macro: {max_val} em min_samples_split_i = {min_samples_split_i} \")"
   ]
  },
  {
   "cell_type": "code",
   "execution_count": null,
   "metadata": {},
   "outputs": [],
   "source": []
  },
  {
   "cell_type": "code",
   "execution_count": 319,
   "metadata": {},
   "outputs": [
    {
     "name": "stdout",
     "output_type": "stream",
     "text": [
      "F1 macro scores:\n",
      "[0.392995705027531, 0.40162434070575276, 0.38383167443426336, 0.3782056789585612, 0.37929274226394727, 0.3790381607014902, 0.3868163535401637, 0.38422259750085636, 0.38815120110588475, 0.3738346937368792, 0.38700572567132474, 0.40084282575945257, 0.387592491678865, 0.4025053352634174, 0.3967450610225842, 0.40314259801832214, 0.3896764418882551, 0.39097091176243987, 0.3691951769059406, 0.36732124721367476]\n",
      "Melhor média f1_macro: 0.40314259801832214 em min_samples_split_i = [17] \n"
     ]
    }
   ],
   "source": [
    "tot_scores = []\n",
    "for i in range(20):\n",
    "    ad4 = DecisionTreeClassifier(criterion='entropy', max_depth = 6, min_samples_split = i + 2)\n",
    "    scores = cross_val_score(ad4,\n",
    "                             X= X_train,\n",
    "                             y= y_train,\n",
    "                             cv = 10,\n",
    "                             scoring='f1_macro')\n",
    "    tot_scores.append(np.mean(scores))\n",
    "print('F1 macro scores:')\n",
    "print(tot_scores)\n",
    "max_val = np.max(tot_scores)\n",
    "index_max = np.where(tot_scores == max_val)\n",
    "min_samples_split_i = index_max[0] + 2\n",
    "print (f\"Melhor média f1_macro: {max_val} em min_samples_split_i = {min_samples_split_i} \")"
   ]
  },
  {
   "cell_type": "code",
   "execution_count": 320,
   "metadata": {},
   "outputs": [
    {
     "name": "stdout",
     "output_type": "stream",
     "text": [
      "F1 macro scores:\n",
      "[0.35253068780476166, 0.3411527786964763, 0.3542410671284649, 0.3506785198131509, 0.34503717846957543, 0.34903689301245433, 0.3467158189817625, 0.360877829096954, 0.3630979331185041, 0.3717068013456226, 0.37361716381173543, 0.3739707262966912, 0.3721427509170472, 0.37846595534473376, 0.39953689269874176, 0.4044079784125786, 0.3966555580461426, 0.3754999861492302, 0.37001353608088994, 0.3894801701569869]\n",
      "Melhor média f1_macro: 0.4044079784125786 em min_samples_split_i = [17] \n"
     ]
    }
   ],
   "source": [
    "tot_scores = []\n",
    "for i in range(20):\n",
    "    ad4 = DecisionTreeClassifier(criterion='entropy', max_depth = 6, min_samples_leaf = 2 ,min_samples_split = i + 2)\n",
    "    scores = cross_val_score(ad4,\n",
    "                             X= X_train,\n",
    "                             y= y_train,\n",
    "                             cv = 5,\n",
    "                             scoring='f1_macro')\n",
    "    tot_scores.append(np.mean(scores))\n",
    "print('F1 macro scores:')\n",
    "print(tot_scores)\n",
    "max_val = np.max(tot_scores)\n",
    "index_max = np.where(tot_scores == max_val)\n",
    "min_samples_split_i = index_max[0] + 2\n",
    "print (f\"Melhor média f1_macro: {max_val} em min_samples_split_i = {min_samples_split_i} \")"
   ]
  },
  {
   "cell_type": "code",
   "execution_count": 321,
   "metadata": {},
   "outputs": [
    {
     "name": "stdout",
     "output_type": "stream",
     "text": [
      "F1 macro scores:\n",
      "[0.3867155792339461, 0.37202677519262733, 0.3966909560768267, 0.3672821335405668, 0.3900992204415653, 0.38139122266118636, 0.37366234360516304, 0.3769932449465477, 0.37648560443447304, 0.385588910469184, 0.38400699920607734, 0.3853710966708893, 0.39316349408656065, 0.38545002474620954, 0.39830109923231416, 0.39959086534278815, 0.3840032739930897, 0.3891059504512578, 0.3660867948843948, 0.3702265918690194]\n",
      "Melhor média f1_macro: 0.39959086534278815 em min_samples_split_i = [17] \n"
     ]
    }
   ],
   "source": [
    "tot_scores = []\n",
    "for i in range(20):\n",
    "    ad4 = DecisionTreeClassifier(criterion='entropy', max_depth = 6, min_samples_leaf = 2 ,min_samples_split = i + 2)\n",
    "    scores = cross_val_score(ad4,\n",
    "                             X= X_train,\n",
    "                             y= y_train,\n",
    "                             cv = 10,\n",
    "                             scoring='f1_macro')\n",
    "    tot_scores.append(np.mean(scores))\n",
    "print('F1 macro scores:')\n",
    "print(tot_scores)\n",
    "max_val = np.max(tot_scores)\n",
    "index_max = np.where(tot_scores == max_val)\n",
    "min_samples_split_i = index_max[0] + 2\n",
    "print (f\"Melhor média f1_macro: {max_val} em min_samples_split_i = {min_samples_split_i} \")"
   ]
  },
  {
   "cell_type": "code",
   "execution_count": 322,
   "metadata": {},
   "outputs": [
    {
     "name": "stdout",
     "output_type": "stream",
     "text": [
      "F1 macro scores:\n",
      "[0.3961491079405934, 0.40453342644125245, 0.39829696439429096, 0.39604403330532595, 0.3663283384576285, 0.3586125169207633, 0.357462819670347, 0.35177020828388816, 0.3564198381093931, 0.3334100558056005, 0.34127702027650053, 0.32155866192326343, 0.3571197847637507, 0.34740444175552804, 0.3369568560607251, 0.3381995721369492, 0.329028794271801, 0.3289252036527589, 0.3423079421811487, 0.354817120002067]\n",
      "Melhor média f1_macro: 0.40453342644125245 em min_samples_leaf_i = [2] \n"
     ]
    }
   ],
   "source": [
    "tot_scores = []\n",
    "for i in range(20):\n",
    "    ad4 = DecisionTreeClassifier(criterion='entropy', max_depth = 6, min_samples_leaf = i + 1 ,min_samples_split = 17)\n",
    "    scores = cross_val_score(ad4,\n",
    "                             X= X_train,\n",
    "                             y= y_train,\n",
    "                             cv = 5,\n",
    "                             scoring='f1_macro')\n",
    "    tot_scores.append(np.mean(scores))\n",
    "print('F1 macro scores:')\n",
    "print(tot_scores)\n",
    "max_val = np.max(tot_scores)\n",
    "index_max = np.where(tot_scores == max_val)\n",
    "min_samples_leaf_i = index_max[0] + 1\n",
    "print (f\"Melhor média f1_macro: {max_val} em min_samples_leaf_i = {min_samples_leaf_i} \")"
   ]
  },
  {
   "cell_type": "code",
   "execution_count": 323,
   "metadata": {},
   "outputs": [
    {
     "name": "stdout",
     "output_type": "stream",
     "text": [
      "F1 macro scores:\n",
      "[0.40488812221452897, 0.3996981853091786, 0.3954413375366821, 0.3795236507770946, 0.3645066032179035, 0.362839386875485, 0.36586240689603156, 0.3471800018704325, 0.339335802566579, 0.34399841920912244, 0.3490519541985918, 0.32556270626297107, 0.31654983607513587, 0.31982110679158265, 0.31021952888253734, 0.3162906884227688, 0.31930592859141005, 0.3294331055742346, 0.3305824389845465, 0.33365195232907857]\n",
      "Melhor média f1_macro: 0.40488812221452897 em min_samples_leaf_i = [1] \n"
     ]
    }
   ],
   "source": [
    "tot_scores = []\n",
    "for i in range(20):\n",
    "    ad4 = DecisionTreeClassifier(criterion='entropy', max_depth = 6, min_samples_leaf = i + 1 ,min_samples_split = 17)\n",
    "    scores = cross_val_score(ad4,\n",
    "                             X= X_train,\n",
    "                             y= y_train,\n",
    "                             cv = 10,\n",
    "                             scoring='f1_macro')\n",
    "    tot_scores.append(np.mean(scores))\n",
    "print('F1 macro scores:')\n",
    "print(tot_scores)\n",
    "max_val = np.max(tot_scores)\n",
    "index_max = np.where(tot_scores == max_val)\n",
    "min_samples_leaf_i = index_max[0] + 1\n",
    "print (f\"Melhor média f1_macro: {max_val} em min_samples_leaf_i = {min_samples_leaf_i} \")"
   ]
  },
  {
   "cell_type": "code",
   "execution_count": 324,
   "metadata": {},
   "outputs": [
    {
     "name": "stdout",
     "output_type": "stream",
     "text": [
      "F1 macro scores:\n",
      "[0.3682465312343913, 0.3640758141450209, 0.3787449729904964, 0.38681899994831664, 0.3484898187418077, 0.36890486735251365, 0.36470693549493455, 0.3622831638134806, 0.35786933301819657, 0.3678449939090357, 0.3854095706813799, 0.3552202922537452, 0.3449002686919666, 0.33836285685600004, 0.3285291237858704, 0.33204478851302616, 0.3289763009603274, 0.3314423282356312, 0.33259166164594306, 0.33365195232907857]\n",
      "Melhor média f1_macro: 0.38681899994831664 em min_samples_leaf_i = [4] \n"
     ]
    }
   ],
   "source": [
    "tot_scores = []\n",
    "for i in range(20):\n",
    "    ad5 = DecisionTreeClassifier(criterion='entropy', max_depth = 5, min_samples_leaf = i + 1 ,min_samples_split = 4)\n",
    "    scores = cross_val_score(ad5,\n",
    "                             X= X_train,\n",
    "                             y= y_train,\n",
    "                             cv = 10,\n",
    "                             scoring='f1_macro')\n",
    "    tot_scores.append(np.mean(scores))\n",
    "print('F1 macro scores:')\n",
    "print(tot_scores)\n",
    "max_val = np.max(tot_scores)\n",
    "index_max = np.where(tot_scores == max_val)\n",
    "min_samples_leaf_i = index_max[0] + 1\n",
    "print (f\"Melhor média f1_macro: {max_val} em min_samples_leaf_i = {min_samples_leaf_i} \")"
   ]
  },
  {
   "cell_type": "markdown",
   "metadata": {},
   "source": [
    "#### Previsoes das melhores métricas"
   ]
  },
  {
   "cell_type": "markdown",
   "metadata": {},
   "source": [
    "##### Avaliacoes sem split test"
   ]
  },
  {
   "cell_type": "code",
   "execution_count": 325,
   "metadata": {},
   "outputs": [],
   "source": [
    "#competicao score = 0.37625\n",
    "\n",
    "arvore_decisao_1 =DecisionTreeClassifier(criterion = \"entropy\", max_depth = 6, min_samples_split = 17)\n",
    "arvore_decisao_1.fit(X_train, y_train) #treinar o modelo, o xDum sao os valores da tabela e o y é a classe / stage\n",
    "y_test_previsao_1 = arvore_decisao_1.predict(X_test) #vai prever com os dados que ele tem os Y_test\n",
    "#y_train_previsao = arvore_decisao_1.predict(X_train)\n",
    "#formato txt para submissao na competicao\n",
    "#print(\"Stage\")\n",
    "#for item in y_test_previsao:\n",
    "#    print(item)"
   ]
  },
  {
   "cell_type": "code",
   "execution_count": 326,
   "metadata": {},
   "outputs": [
    {
     "name": "stdout",
     "output_type": "stream",
     "text": [
      " média f1_macro: 0.38171471797863765\n"
     ]
    }
   ],
   "source": [
    "#competicao Score: 0.40014\n",
    "\n",
    "ad2 =DecisionTreeClassifier(criterion = \"entropy\", max_depth = 6, min_samples_split = 4)\n",
    "scores = cross_val_score(ad2,\n",
    "                             X= X_train,\n",
    "                             y= y_train,\n",
    "                             cv = 10,\n",
    "                             scoring='f1_macro')\n",
    "\n",
    "avg_score = np.mean(scores)\n",
    "print (f\" média f1_macro: {avg_score}\")\n",
    "\n",
    "\n",
    "ad2.fit(X_train, y_train) #treinar o modelo, o xDum sao os valores da tabela e o y é a classe / stage\n",
    "y_test_previsao_2 = ad2.predict(X_test) #vai prever com os dados que ele tem os Y_test\n",
    "#formato txt para submissao na competicao\n",
    "\n",
    "#print(\"Stage\")\n",
    "#for item in y_test_previsao_2:\n",
    "#    print(item)"
   ]
  },
  {
   "cell_type": "code",
   "execution_count": 327,
   "metadata": {},
   "outputs": [
    {
     "name": "stdout",
     "output_type": "stream",
     "text": [
      " média f1_macro: 0.3906865128563163\n"
     ]
    }
   ],
   "source": [
    "#competition Score: 0.40367\n",
    "ad3 =DecisionTreeClassifier(criterion = \"entropy\", max_depth = 6, min_samples_split = 4, min_samples_leaf = 3)\n",
    "scores = cross_val_score(ad3,\n",
    "                             X= X_train,\n",
    "                             y= y_train,\n",
    "                             cv = 10,\n",
    "                             scoring='f1_macro')\n",
    "\n",
    "avg_score = np.mean(scores)\n",
    "print (f\" média f1_macro: {avg_score}\")\n",
    "\n",
    "\n",
    "ad3.fit(X_train, y_train) #treinar o modelo, o xDum sao os valores da tabela e o y é a classe / stage\n",
    "y_test_previsao_3 = ad3.predict(X_test) #vai prever com os dados que ele tem os Y_test\n",
    "#formato txt para submissao na competicao\n",
    "\n",
    "#print(\"Stage\")\n",
    "#for item in y_test_previsao_3:\n",
    "#    print(item)"
   ]
  },
  {
   "cell_type": "code",
   "execution_count": 328,
   "metadata": {},
   "outputs": [
    {
     "name": "stdout",
     "output_type": "stream",
     "text": [
      " média f1_macro: 0.37809260956009105\n"
     ]
    }
   ],
   "source": [
    "#competition Score: 0.38125\n",
    "ad4 =DecisionTreeClassifier(criterion = \"entropy\", max_depth = 5, min_samples_split = 4, min_samples_leaf = 3)\n",
    "scores = cross_val_score(ad4,\n",
    "                             X= X_train,\n",
    "                             y= y_train,\n",
    "                             cv = 10,\n",
    "                             scoring='f1_macro')\n",
    "\n",
    "avg_score = np.mean(scores)\n",
    "print (f\" média f1_macro: {avg_score}\")\n",
    "\n",
    "\n",
    "ad4.fit(X_train, y_train) #treinar o modelo, o xDum sao os valores da tabela e o y é a classe / stage\n",
    "y_test_previsao_4 = ad4.predict(X_test) #vai prever com os dados que ele tem os Y_test\n",
    "#formato txt para submissao na competicao\n",
    "\n",
    "#print(\"Stage\")\n",
    "#for item in y_test_previsao_4:\n",
    "#  print(item)"
   ]
  },
  {
   "cell_type": "markdown",
   "metadata": {},
   "source": [
    "#### Avaliacao com os dados do split test"
   ]
  },
  {
   "cell_type": "code",
   "execution_count": 329,
   "metadata": {},
   "outputs": [
    {
     "name": "stdout",
     "output_type": "stream",
     "text": [
      "Accuracy: 0.470\n",
      "\n",
      "Matriz de Confusão\n"
     ]
    },
    {
     "data": {
      "text/html": [
       "<div>\n",
       "<style scoped>\n",
       "    .dataframe tbody tr th:only-of-type {\n",
       "        vertical-align: middle;\n",
       "    }\n",
       "\n",
       "    .dataframe tbody tr th {\n",
       "        vertical-align: top;\n",
       "    }\n",
       "\n",
       "    .dataframe thead th {\n",
       "        text-align: right;\n",
       "    }\n",
       "</style>\n",
       "<table border=\"1\" class=\"dataframe\">\n",
       "  <thead>\n",
       "    <tr style=\"text-align: right;\">\n",
       "      <th></th>\n",
       "      <th>1</th>\n",
       "      <th>2</th>\n",
       "      <th>3</th>\n",
       "      <th>4</th>\n",
       "    </tr>\n",
       "  </thead>\n",
       "  <tbody>\n",
       "    <tr>\n",
       "      <th>1</th>\n",
       "      <td>0</td>\n",
       "      <td>1</td>\n",
       "      <td>2</td>\n",
       "      <td>2</td>\n",
       "    </tr>\n",
       "    <tr>\n",
       "      <th>2</th>\n",
       "      <td>0</td>\n",
       "      <td>6</td>\n",
       "      <td>9</td>\n",
       "      <td>4</td>\n",
       "    </tr>\n",
       "    <tr>\n",
       "      <th>3</th>\n",
       "      <td>1</td>\n",
       "      <td>3</td>\n",
       "      <td>21</td>\n",
       "      <td>10</td>\n",
       "    </tr>\n",
       "    <tr>\n",
       "      <th>4</th>\n",
       "      <td>2</td>\n",
       "      <td>5</td>\n",
       "      <td>5</td>\n",
       "      <td>12</td>\n",
       "    </tr>\n",
       "  </tbody>\n",
       "</table>\n",
       "</div>"
      ],
      "text/plain": [
       "   1  2   3   4\n",
       "1  0  1   2   2\n",
       "2  0  6   9   4\n",
       "3  1  3  21  10\n",
       "4  2  5   5  12"
      ]
     },
     "execution_count": 329,
     "metadata": {},
     "output_type": "execute_result"
    }
   ],
   "source": [
    "#COM SPLIT TEST\n",
    "#comp Score: 0.32357\n",
    "from sklearn.metrics import confusion_matrix\n",
    "\n",
    "dtc1 = DecisionTreeClassifier(criterion='entropy', max_depth = 6, min_samples_split = 7, min_samples_leaf = 8 )\n",
    "dtc1.fit(X_train_TRAIN,y_train_TRAIN)\n",
    "\n",
    "print(\"Accuracy: %.3f\" % dtc1.score(X_test_TRAIN,y_test_TRAIN))\n",
    "y_preds = dtc1.predict(X_test_TRAIN)\n",
    "print(\"\\nMatriz de Confusão\")\n",
    "pd.DataFrame(confusion_matrix(y_test_TRAIN, y_preds), columns=[1,2,3,4], index=[1,2,3,4])"
   ]
  },
  {
   "cell_type": "markdown",
   "metadata": {},
   "source": [
    "Na matriz de confusão os Stages da esquerda são a classes previstas. Na horizontal os Stages são o true stage. Para avaliar estes dados se são confiaveis ou não olhamos se a matriz tem muitos valores na diagonal pois são os true positives e true negatives. A partir da matriz de confusão é possivel determinar métricas como o precision e o recall por classe. Também temos o classification report que apresenta os valores para diferentes métricas como o f1-score macro que é o mais relevante para nós."
   ]
  },
  {
   "cell_type": "code",
   "execution_count": 330,
   "metadata": {},
   "outputs": [
    {
     "name": "stdout",
     "output_type": "stream",
     "text": [
      "              precision    recall  f1-score   support\n",
      "\n",
      "           1       0.00      0.00      0.00         5\n",
      "           2       0.40      0.32      0.35        19\n",
      "           3       0.57      0.60      0.58        35\n",
      "           4       0.43      0.50      0.46        24\n",
      "\n",
      "    accuracy                           0.47        83\n",
      "   macro avg       0.35      0.35      0.35        83\n",
      "weighted avg       0.45      0.47      0.46        83\n",
      "\n"
     ]
    }
   ],
   "source": [
    "from sklearn.metrics import classification_report\n",
    "print(classification_report(y_test_TRAIN, y_preds))"
   ]
  },
  {
   "cell_type": "markdown",
   "metadata": {},
   "source": [
    "#### 2.1.2 K-Vizinhos mais proximos"
   ]
  },
  {
   "cell_type": "markdown",
   "metadata": {},
   "source": [
    "Podemos usar random state diferentes para obter outros resultados (por ser um conjunto diferente)"
   ]
  },
  {
   "cell_type": "code",
   "execution_count": 331,
   "metadata": {},
   "outputs": [],
   "source": [
    "X_train_TRAIN, X_test_TRAIN, y_train_TRAIN, y_test_TRAIN = train_test_split(X_train,\n",
    "                                                            y_train,\n",
    "                                                            random_state=2)"
   ]
  },
  {
   "cell_type": "markdown",
   "metadata": {},
   "source": [
    "#### criacao de varios modelos de neighbors diferentes com cross-validation 5 para testar qual deles tem o melhor f1 macro score"
   ]
  },
  {
   "cell_type": "code",
   "execution_count": 332,
   "metadata": {},
   "outputs": [
    {
     "data": {
      "image/png": "[encoded data removed]",
      "text/plain": [
       "<Figure size 432x288 with 1 Axes>"
      ]
     },
     "metadata": {
      "needs_background": "light"
     },
     "output_type": "display_data"
    },
    {
     "name": "stdout",
     "output_type": "stream",
     "text": [
      "Melhor média do test f1_macro: 27.314213564213564 em knn i = [ 2  3  4  5  6  7  8  9 10 11 12 13 14 15 16 17 18 19] \n"
     ]
    }
   ],
   "source": [
    "from sklearn.neighbors import KNeighborsClassifier\n",
    "from sklearn.model_selection import cross_val_score\n",
    "\n",
    "train = []\n",
    "test = []\n",
    "for i in range(2,20):\n",
    "    knn = KNeighborsClassifier(n_neighbors=i)\n",
    "    knn = knn.fit(X_train_TRAIN,y_train_TRAIN)\n",
    "    scores_train = cross_val_score(knn,\n",
    "                             X= X_train_TRAIN,\n",
    "                             y= y_train_TRAIN,\n",
    "                             cv =5,\n",
    "                             scoring='f1_macro')\n",
    "    \n",
    "    scores_test = cross_val_score(ad,\n",
    "                             X= X_test_TRAIN,\n",
    "                             y= y_test_TRAIN,\n",
    "                             cv =5,\n",
    "                             scoring='f1_macro')\n",
    "\n",
    "    train.append(np.mean(scores_train)*100)\n",
    "    test.append(np.mean(scores_test)*100)\n",
    "\n",
    "# fazer um gráfico com a accuracy\n",
    "x = np.arange(2,20,1) # intervalo do eixo dos xx's\n",
    "plt.plot(x, train, 'bo--', label='Train set')\n",
    "plt.plot(x, test, 'rd--', label='Test set')\n",
    "plt.ylim(10,40) # limite dos eixo dos yy's\n",
    "plt.xlabel('Knn') # legenda do eixo dos xx's\n",
    "plt.ylabel('F1 Macro (in %)') # legenda do eixo dos yy's\n",
    "plt.legend() # legenda\n",
    "plt.show()\n",
    "\n",
    "#print(test)\n",
    "max_val_test = np.max(test)\n",
    "index_max = np.where(test == max_val_test)\n",
    "idx = index_max[0] + 2\n",
    "print (f\"Melhor média do test f1_macro: {max_val_test} em knn i = {idx} \")"
   ]
  },
  {
   "cell_type": "markdown",
   "metadata": {},
   "source": [
    "Temos um score muito baixo, portanto vamos fazer uma normalização dos dados para ver se obtemos melhores resultados."
   ]
  },
  {
   "cell_type": "markdown",
   "metadata": {},
   "source": [
    "#### Normalizacao do Knn para ver se obtemos melhores resultados"
   ]
  },
  {
   "cell_type": "markdown",
   "metadata": {},
   "source": [
    "Normalizacao para cv = 5"
   ]
  },
  {
   "cell_type": "code",
   "execution_count": 333,
   "metadata": {},
   "outputs": [
    {
     "data": {
      "image/png": "[encoded data removed]",
      "text/plain": [
       "<Figure size 432x288 with 1 Axes>"
      ]
     },
     "metadata": {
      "needs_background": "light"
     },
     "output_type": "display_data"
    },
    {
     "name": "stdout",
     "output_type": "stream",
     "text": [
      "Melhor média do test f1_macro: 27.314213564213564 em knn i = [ 2  3  4  5  6  7  8  9 10 11 12 13 14 15 16 17 18 19] \n"
     ]
    }
   ],
   "source": [
    "from sklearn.preprocessing import StandardScaler\n",
    "scaler = StandardScaler()\n",
    "scaler.fit(X_train)\n",
    "X_train_normalizacao = scaler.transform(X_train_TRAIN)\n",
    "X_test_normalicacao = scaler.transform(X_test_TRAIN)\n",
    "\n",
    "train = []\n",
    "test = []\n",
    "for i in range(2,20):\n",
    "    knn = KNeighborsClassifier(n_neighbors=i)\n",
    "    knn = knn.fit(X_train_TRAIN,y_train_TRAIN)\n",
    "    scores_train = cross_val_score(knn,\n",
    "                             X= X_train_normalizacao,\n",
    "                             y= y_train_TRAIN,\n",
    "                             cv =5,\n",
    "                             scoring='f1_macro')\n",
    "    \n",
    "    scores_test = cross_val_score(ad,\n",
    "                             X= X_test_normalicacao,\n",
    "                             y= y_test_TRAIN,\n",
    "                             cv =5,\n",
    "                             scoring='f1_macro')\n",
    "\n",
    "    train.append(np.mean(scores_train)*100)\n",
    "    test.append(np.mean(scores_test)*100)\n",
    "\n",
    "# fazer um gráfico com a accuracy\n",
    "x = np.arange(2,20,1) # intervalo do eixo dos xx's\n",
    "plt.plot(x, train, 'bo--', label='Train set')\n",
    "plt.plot(x, test, 'rd--', label='Test set')\n",
    "plt.ylim(10,40) # limite dos eixo dos yy's\n",
    "plt.xlabel('Knn') # legenda do eixo dos xx's\n",
    "plt.ylabel('F1 Macro (in %)') # legenda do eixo dos yy's\n",
    "plt.legend() # legenda\n",
    "plt.show()\n",
    "\n",
    "#print(test)\n",
    "max_val_test = np.max(test)\n",
    "index_max = np.where(test == max_val_test)\n",
    "idx = index_max[0] + 2\n",
    "print (f\"Melhor média do test f1_macro: {max_val_test} em knn i = {idx} \")\n"
   ]
  },
  {
   "cell_type": "markdown",
   "metadata": {},
   "source": [
    "##### b) Validar Modelos"
   ]
  },
  {
   "cell_type": "markdown",
   "metadata": {},
   "source": [
    "##### Validacao sem normalizacao de dados"
   ]
  },
  {
   "cell_type": "code",
   "execution_count": 334,
   "metadata": {},
   "outputs": [
    {
     "name": "stdout",
     "output_type": "stream",
     "text": [
      "Accuracy: 0.422\n",
      "\n",
      "Matriz de Confusão\n"
     ]
    },
    {
     "data": {
      "text/html": [
       "<div>\n",
       "<style scoped>\n",
       "    .dataframe tbody tr th:only-of-type {\n",
       "        vertical-align: middle;\n",
       "    }\n",
       "\n",
       "    .dataframe tbody tr th {\n",
       "        vertical-align: top;\n",
       "    }\n",
       "\n",
       "    .dataframe thead th {\n",
       "        text-align: right;\n",
       "    }\n",
       "</style>\n",
       "<table border=\"1\" class=\"dataframe\">\n",
       "  <thead>\n",
       "    <tr style=\"text-align: right;\">\n",
       "      <th></th>\n",
       "      <th>1</th>\n",
       "      <th>2</th>\n",
       "      <th>3</th>\n",
       "      <th>4</th>\n",
       "    </tr>\n",
       "  </thead>\n",
       "  <tbody>\n",
       "    <tr>\n",
       "      <th>1</th>\n",
       "      <td>0</td>\n",
       "      <td>0</td>\n",
       "      <td>2</td>\n",
       "      <td>3</td>\n",
       "    </tr>\n",
       "    <tr>\n",
       "      <th>2</th>\n",
       "      <td>0</td>\n",
       "      <td>6</td>\n",
       "      <td>9</td>\n",
       "      <td>4</td>\n",
       "    </tr>\n",
       "    <tr>\n",
       "      <th>3</th>\n",
       "      <td>0</td>\n",
       "      <td>6</td>\n",
       "      <td>17</td>\n",
       "      <td>12</td>\n",
       "    </tr>\n",
       "    <tr>\n",
       "      <th>4</th>\n",
       "      <td>1</td>\n",
       "      <td>6</td>\n",
       "      <td>5</td>\n",
       "      <td>12</td>\n",
       "    </tr>\n",
       "  </tbody>\n",
       "</table>\n",
       "</div>"
      ],
      "text/plain": [
       "   1  2   3   4\n",
       "1  0  0   2   3\n",
       "2  0  6   9   4\n",
       "3  0  6  17  12\n",
       "4  1  6   5  12"
      ]
     },
     "execution_count": 334,
     "metadata": {},
     "output_type": "execute_result"
    }
   ],
   "source": [
    "knn4 =  KNeighborsClassifier(n_neighbors=6)\n",
    "knn4.fit(X_train_TRAIN,y_train_TRAIN)\n",
    "\n",
    "print(\"Accuracy: %.3f\" % knn4.score(X_test_TRAIN,y_test_TRAIN))\n",
    "y_preds = knn4.predict(X_test_TRAIN)\n",
    "print(\"\\nMatriz de Confusão\")\n",
    "pd.DataFrame(confusion_matrix(y_test_TRAIN, y_preds), columns=[1,2,3,4], index=[1,2,3,4])"
   ]
  },
  {
   "cell_type": "code",
   "execution_count": 335,
   "metadata": {},
   "outputs": [
    {
     "name": "stdout",
     "output_type": "stream",
     "text": [
      "              precision    recall  f1-score   support\n",
      "\n",
      "           1       0.00      0.00      0.00         5\n",
      "           2       0.33      0.32      0.32        19\n",
      "           3       0.52      0.49      0.50        35\n",
      "           4       0.39      0.50      0.44        24\n",
      "\n",
      "    accuracy                           0.42        83\n",
      "   macro avg       0.31      0.33      0.32        83\n",
      "weighted avg       0.41      0.42      0.41        83\n",
      "\n"
     ]
    }
   ],
   "source": [
    " print(classification_report(y_test_TRAIN, y_preds))"
   ]
  },
  {
   "cell_type": "code",
   "execution_count": 336,
   "metadata": {},
   "outputs": [
    {
     "name": "stdout",
     "output_type": "stream",
     "text": [
      "Accuracy: 0.434\n",
      "\n",
      "Matriz de Confusão\n"
     ]
    },
    {
     "data": {
      "text/html": [
       "<div>\n",
       "<style scoped>\n",
       "    .dataframe tbody tr th:only-of-type {\n",
       "        vertical-align: middle;\n",
       "    }\n",
       "\n",
       "    .dataframe tbody tr th {\n",
       "        vertical-align: top;\n",
       "    }\n",
       "\n",
       "    .dataframe thead th {\n",
       "        text-align: right;\n",
       "    }\n",
       "</style>\n",
       "<table border=\"1\" class=\"dataframe\">\n",
       "  <thead>\n",
       "    <tr style=\"text-align: right;\">\n",
       "      <th></th>\n",
       "      <th>1</th>\n",
       "      <th>2</th>\n",
       "      <th>3</th>\n",
       "      <th>4</th>\n",
       "    </tr>\n",
       "  </thead>\n",
       "  <tbody>\n",
       "    <tr>\n",
       "      <th>1</th>\n",
       "      <td>0</td>\n",
       "      <td>0</td>\n",
       "      <td>2</td>\n",
       "      <td>3</td>\n",
       "    </tr>\n",
       "    <tr>\n",
       "      <th>2</th>\n",
       "      <td>0</td>\n",
       "      <td>5</td>\n",
       "      <td>9</td>\n",
       "      <td>5</td>\n",
       "    </tr>\n",
       "    <tr>\n",
       "      <th>3</th>\n",
       "      <td>0</td>\n",
       "      <td>8</td>\n",
       "      <td>15</td>\n",
       "      <td>12</td>\n",
       "    </tr>\n",
       "    <tr>\n",
       "      <th>4</th>\n",
       "      <td>0</td>\n",
       "      <td>3</td>\n",
       "      <td>5</td>\n",
       "      <td>16</td>\n",
       "    </tr>\n",
       "  </tbody>\n",
       "</table>\n",
       "</div>"
      ],
      "text/plain": [
       "   1  2   3   4\n",
       "1  0  0   2   3\n",
       "2  0  5   9   5\n",
       "3  0  8  15  12\n",
       "4  0  3   5  16"
      ]
     },
     "execution_count": 336,
     "metadata": {},
     "output_type": "execute_result"
    }
   ],
   "source": [
    "knn5 =  KNeighborsClassifier(n_neighbors=11)\n",
    "knn5.fit(X_train_TRAIN,y_train_TRAIN)\n",
    "\n",
    "print(\"Accuracy: %.3f\" % knn5.score(X_test_TRAIN,y_test_TRAIN))\n",
    "y_preds = knn5.predict(X_test_TRAIN)\n",
    "print(\"\\nMatriz de Confusão\")\n",
    "pd.DataFrame(confusion_matrix(y_test_TRAIN, y_preds), columns=[1,2,3,4], index=[1,2,3,4])"
   ]
  },
  {
   "cell_type": "code",
   "execution_count": 350,
   "metadata": {},
   "outputs": [
    {
     "name": "stdout",
     "output_type": "stream",
     "text": [
      "              precision    recall  f1-score   support\n",
      "\n",
      "           1       0.00      0.00      0.00         5\n",
      "           2       0.00      0.00      0.00        19\n",
      "           3       0.45      0.43      0.44        35\n",
      "           4       0.30      0.62      0.41        24\n",
      "\n",
      "    accuracy                           0.36        83\n",
      "   macro avg       0.19      0.26      0.21        83\n",
      "weighted avg       0.28      0.36      0.30        83\n",
      "\n"
     ]
    }
   ],
   "source": [
    " print(classification_report(y_test_TRAIN, y_preds))"
   ]
  },
  {
   "cell_type": "markdown",
   "metadata": {},
   "source": [
    "##### Validacao com normalizacao de dados"
   ]
  },
  {
   "cell_type": "code",
   "execution_count": 338,
   "metadata": {},
   "outputs": [
    {
     "name": "stdout",
     "output_type": "stream",
     "text": [
      "Accuracy: 0.361\n",
      "\n",
      "Matriz de Confusão\n"
     ]
    },
    {
     "data": {
      "text/html": [
       "<div>\n",
       "<style scoped>\n",
       "    .dataframe tbody tr th:only-of-type {\n",
       "        vertical-align: middle;\n",
       "    }\n",
       "\n",
       "    .dataframe tbody tr th {\n",
       "        vertical-align: top;\n",
       "    }\n",
       "\n",
       "    .dataframe thead th {\n",
       "        text-align: right;\n",
       "    }\n",
       "</style>\n",
       "<table border=\"1\" class=\"dataframe\">\n",
       "  <thead>\n",
       "    <tr style=\"text-align: right;\">\n",
       "      <th></th>\n",
       "      <th>1</th>\n",
       "      <th>2</th>\n",
       "      <th>3</th>\n",
       "      <th>4</th>\n",
       "    </tr>\n",
       "  </thead>\n",
       "  <tbody>\n",
       "    <tr>\n",
       "      <th>1</th>\n",
       "      <td>0</td>\n",
       "      <td>0</td>\n",
       "      <td>2</td>\n",
       "      <td>3</td>\n",
       "    </tr>\n",
       "    <tr>\n",
       "      <th>2</th>\n",
       "      <td>0</td>\n",
       "      <td>0</td>\n",
       "      <td>7</td>\n",
       "      <td>12</td>\n",
       "    </tr>\n",
       "    <tr>\n",
       "      <th>3</th>\n",
       "      <td>0</td>\n",
       "      <td>0</td>\n",
       "      <td>15</td>\n",
       "      <td>20</td>\n",
       "    </tr>\n",
       "    <tr>\n",
       "      <th>4</th>\n",
       "      <td>0</td>\n",
       "      <td>0</td>\n",
       "      <td>9</td>\n",
       "      <td>15</td>\n",
       "    </tr>\n",
       "  </tbody>\n",
       "</table>\n",
       "</div>"
      ],
      "text/plain": [
       "   1  2   3   4\n",
       "1  0  0   2   3\n",
       "2  0  0   7  12\n",
       "3  0  0  15  20\n",
       "4  0  0   9  15"
      ]
     },
     "execution_count": 338,
     "metadata": {},
     "output_type": "execute_result"
    }
   ],
   "source": [
    "knn6 =  KNeighborsClassifier(n_neighbors=7)\n",
    "knn6.fit(X_train_normalizacao,y_train_TRAIN)\n",
    "\n",
    "print(\"Accuracy: %.3f\" % knn6.score(X_test_TRAIN,y_test_TRAIN))\n",
    "y_preds = knn6.predict(X_test_TRAIN)\n",
    "print(\"\\nMatriz de Confusão\")\n",
    "pd.DataFrame(confusion_matrix(y_test_TRAIN, y_preds), columns=[1,2,3,4], index=[1,2,3,4])"
   ]
  },
  {
   "cell_type": "code",
   "execution_count": 351,
   "metadata": {},
   "outputs": [
    {
     "name": "stdout",
     "output_type": "stream",
     "text": [
      "              precision    recall  f1-score   support\n",
      "\n",
      "           1       0.00      0.00      0.00         5\n",
      "           2       0.00      0.00      0.00        19\n",
      "           3       0.45      0.43      0.44        35\n",
      "           4       0.30      0.62      0.41        24\n",
      "\n",
      "    accuracy                           0.36        83\n",
      "   macro avg       0.19      0.26      0.21        83\n",
      "weighted avg       0.28      0.36      0.30        83\n",
      "\n"
     ]
    }
   ],
   "source": [
    " print(classification_report(y_test_TRAIN, y_preds))"
   ]
  },
  {
   "cell_type": "markdown",
   "metadata": {},
   "source": [
    "Com a normalizacao dos dados obtemos piores resultados"
   ]
  },
  {
   "cell_type": "markdown",
   "metadata": {},
   "source": [
    "#### 2.1.2 Naive Bayes\n",
    "##### a) Criar Modelos"
   ]
  },
  {
   "cell_type": "markdown",
   "metadata": {},
   "source": [
    "#### Dados categoricos sao feitos com o categoricalNB"
   ]
  },
  {
   "cell_type": "code",
   "execution_count": 340,
   "metadata": {},
   "outputs": [
    {
     "name": "stdout",
     "output_type": "stream",
     "text": [
      "Média de probabilide categorica:  0.25\n",
      "Média f1_macro: 0.301839791734114 em cv = 5\n"
     ]
    }
   ],
   "source": [
    "from sklearn.naive_bayes import GaussianNB, CategoricalNB\n",
    "nb1_categorical = CategoricalNB(alpha=0.01)\n",
    "nb1_categorical.fit(hist_clinic_Xdum,y_train)\n",
    "\n",
    "proba_categorical=nb1_categorical.predict_proba(hist_clinic_Xdum_test)\n",
    "avg_proba_categorical = np.mean(proba_categorical) \n",
    "print(\"Média de probabilide categorica: \",  avg_proba_categorical)\n",
    "\n",
    "scores = cross_val_score(nb1_categorical,\n",
    "                             X= hist_clinic_Xdum,\n",
    "                             y= y_train,\n",
    "                             cv = 5,\n",
    "                             scoring='f1_macro')\n",
    "avg_f1_score_nb1_categorical = np.mean(scores)\n",
    "print (f\"Média f1_macro: {avg_f1_score_nb1_categorical} em cv = 5\")"
   ]
  },
  {
   "cell_type": "code",
   "execution_count": null,
   "metadata": {},
   "outputs": [],
   "source": []
  },
  {
   "cell_type": "code",
   "execution_count": 341,
   "metadata": {},
   "outputs": [
    {
     "name": "stdout",
     "output_type": "stream",
     "text": [
      "Média de probabilide categorica:  0.25\n",
      "Média f1_macro: 0.31167841615515224 em cv = 10\n"
     ]
    }
   ],
   "source": [
    "from sklearn.naive_bayes import GaussianNB, CategoricalNB\n",
    "nb2_categorical = CategoricalNB(alpha=0.01)\n",
    "nb2_categorical.fit(hist_clinic_Xdum,y_train)\n",
    "\n",
    "proba_categorical=nb2_categorical.predict_proba(hist_clinic_Xdum_test)\n",
    "avg_proba_categorical = np.mean(proba_categorical) \n",
    "print(\"Média de probabilide categorica: \",  avg_proba_categorical)\n",
    "\n",
    "scores = cross_val_score(nb2_categorical,\n",
    "                             X= hist_clinic_Xdum,\n",
    "                             y= y_train,\n",
    "                             cv = 10,\n",
    "                             scoring='f1_macro')\n",
    "avg_f1_score_nb2_categorical = np.mean(scores)\n",
    "print (f\"Média f1_macro: {avg_f1_score_nb2_categorical} em cv = 10\")"
   ]
  },
  {
   "cell_type": "markdown",
   "metadata": {},
   "source": [
    "#### Dados continuos sao feitos com o GaussianNB"
   ]
  },
  {
   "cell_type": "code",
   "execution_count": 342,
   "metadata": {},
   "outputs": [
    {
     "name": "stdout",
     "output_type": "stream",
     "text": [
      "Média de probabilide categorica:  0.2500000000000001\n",
      "Média f1_macro: 0.29367072829033347 em cv = 5\n"
     ]
    }
   ],
   "source": [
    "from sklearn.naive_bayes import GaussianNB\n",
    "\n",
    "nb1_num = GaussianNB()\n",
    "nb1_num.fit(hist_clinic_X_non_binary, y_train)\n",
    "\n",
    "proba_num =nb1_num.predict_proba(hist_clinic_X_non_binary_test)\n",
    "avg_proba_num= np.mean(proba_num) \n",
    "print(\"Média de probabilide categorica: \",  avg_proba_num)\n",
    "\n",
    "\n",
    "scores = cross_val_score(nb1_num,\n",
    "                             X= X_train,\n",
    "                             y= y_train,\n",
    "                             cv = 5,\n",
    "                             scoring='f1_macro')\n",
    "avg_f1_score_nb1_num = np.mean(scores)\n",
    "print (f\"Média f1_macro: {avg_f1_score_nb1_num} em cv = 5\")"
   ]
  },
  {
   "cell_type": "code",
   "execution_count": null,
   "metadata": {},
   "outputs": [],
   "source": []
  },
  {
   "cell_type": "code",
   "execution_count": 343,
   "metadata": {},
   "outputs": [
    {
     "name": "stdout",
     "output_type": "stream",
     "text": [
      "Média de probabilide categorica:  0.2500000000000001\n",
      "Média f1_macro: 0.3023312136630215 em cv = 10\n"
     ]
    }
   ],
   "source": [
    "nb2_num = GaussianNB()\n",
    "nb2_num.fit(hist_clinic_X_non_binary, y_train)\n",
    "\n",
    "\n",
    "proba_num =nb2_num.predict_proba(hist_clinic_X_non_binary_test)\n",
    "avg_proba_num= np.mean(proba_num) \n",
    "print(\"Média de probabilide categorica: \",  avg_proba_num)\n",
    "\n",
    "scores = cross_val_score(nb2_num,\n",
    "                             X= hist_clinic_X_non_binary,\n",
    "                             y= y_train,\n",
    "                             cv = 10,\n",
    "                             scoring='f1_macro')\n",
    "avg_f1_score_nb2_num = np.mean(scores)\n",
    "print (f\"Média f1_macro: {avg_f1_score_nb2_num} em cv = 10\")"
   ]
  },
  {
   "cell_type": "markdown",
   "metadata": {},
   "source": [
    "Probabilidade do categorical e gaussian juntos"
   ]
  },
  {
   "cell_type": "code",
   "execution_count": 344,
   "metadata": {},
   "outputs": [
    {
     "name": "stdout",
     "output_type": "stream",
     "text": [
      "NB_proba:  0.25\n"
     ]
    }
   ],
   "source": [
    "NB_proba =  (avg_proba_categorical * avg_proba_num) / avg_proba_num\n",
    "print(\"NB_proba: \" ,NB_proba)\n"
   ]
  },
  {
   "cell_type": "code",
   "execution_count": null,
   "metadata": {},
   "outputs": [],
   "source": []
  },
  {
   "cell_type": "code",
   "execution_count": 345,
   "metadata": {},
   "outputs": [
    {
     "name": "stdout",
     "output_type": "stream",
     "text": [
      "Average f1 macro score nb1:  0.301839791734114\n",
      "Average f1 macro score nb2:  0.30275017374382485\n"
     ]
    }
   ],
   "source": [
    "avg_f1_score_nb1 = avg_f1_score_nb1_categorical * avg_f1_score_nb1_num / avg_f1_score_nb1_num\n",
    "print('Average f1 macro score nb1: ',avg_f1_score_nb1 )\n",
    "\n",
    "avg_f1_score_nb2 = (avg_f1_score_nb2_categorical * avg_f1_score_nb1_num ) / avg_f1_score_nb2_num\n",
    "print('Average f1 macro score nb2: ', avg_f1_score_nb2)"
   ]
  },
  {
   "cell_type": "markdown",
   "metadata": {},
   "source": [
    "Scores muito baixos com Naive Bayes"
   ]
  },
  {
   "cell_type": "markdown",
   "metadata": {},
   "source": [
    "### 2.2. Seleção e apresentação do melhor modelo\n",
    "\n",
    "(remover) Apresentar todos os resultados para cada modelo obtido\n",
    "\n",
    "* Elencar o critério de selecção\n",
    "* Apresentar a árvore (se aplicável)\n",
    "* Discutir os resultados\n"
   ]
  },
  {
   "cell_type": "markdown",
   "metadata": {},
   "source": [
    "O melhor modelo foi o DecisionTree() com melhores resultados no Macro F1-score. Porém o valor do F1-score continuou baixo. Isso pode ser porcausa de termos dados muito complexos."
   ]
  },
  {
   "cell_type": "code",
   "execution_count": 346,
   "metadata": {},
   "outputs": [
    {
     "data": {
      "image/png": "[encoded data removed]",
      "text/plain": [
       "<Figure size 2880x2160 with 1 Axes>"
      ]
     },
     "metadata": {
      "needs_background": "light"
     },
     "output_type": "display_data"
    }
   ],
   "source": [
    "from sklearn.tree import DecisionTreeClassifier, plot_tree\n",
    "ad3 =DecisionTreeClassifier(criterion = \"entropy\", max_depth = 6, min_samples_split = 4, min_samples_leaf = 3)\n",
    "ad3.fit(X_train, y_train) #treinar o modelo, o xDum sao os valores da tabela e o y é a classe / stage\n",
    "y_test_previsao_3 = ad3.predict(X_test) #vai prever com os dados que ele tem os Y_test\n",
    "#y_test_previsao_3\n",
    "#formato txt para submissao na competicao\n",
    "\n",
    "#print(\"Stage\")\n",
    "#for item in y_test_previsao_3:\n",
    "#    print(item)\n",
    "\n",
    "# Visualizr a árvore de decisão obtida\n",
    "plt.figure(figsize=[40,30]) # width, height in inches\n",
    "plot_tree(ad3, \n",
    "          feature_names=col_names,\n",
    "          class_names=['1','2','3','4'],\n",
    "          filled=True, rounded=True)\n",
    "plt.show()"
   ]
  },
  {
   "cell_type": "markdown",
   "metadata": {},
   "source": [
    "## 3. Validação do modelo final ajustado com um conjunto de validação independente\n",
    "\n",
    "(remover) O ficheiro `test.csv` contém um conjunto de dados não usado para treinar o modelo definido no ponto #2. \n",
    "* Preparar o data set\n",
    "* Correr o modelo selecionado como sendo o melhor nestes dados\n",
    "* Apresentar os resultados para as métricas de validação\n",
    "* Discutir os resultados alcançados confrontando os resultados com os obtidos anteriormente"
   ]
  },
  {
   "cell_type": "markdown",
   "metadata": {},
   "source": [
    "###### A preparação dos dados do X_test foram extraídos e processados no início do relatório."
   ]
  },
  {
   "cell_type": "code",
   "execution_count": 347,
   "metadata": {},
   "outputs": [
    {
     "name": "stdout",
     "output_type": "stream",
     "text": [
      " média f1_macro: 0.39262362361568526\n"
     ]
    }
   ],
   "source": [
    "from sklearn.tree import DecisionTreeClassifier, plot_tree\n",
    "ad3 =DecisionTreeClassifier(criterion = \"entropy\", max_depth = 6, min_samples_split = 4, min_samples_leaf = 3)\n",
    "scores = cross_val_score(ad3,\n",
    "                             X= X_train,\n",
    "                             y= y_train,\n",
    "                             cv = 10,\n",
    "                             scoring='f1_macro')\n",
    "\n",
    "avg_score = np.mean(scores)\n",
    "print (f\" média f1_macro: {avg_score}\")\n",
    "\n",
    "\n",
    "ad3.fit(X_train, y_train) #treinar o modelo, o xDum sao os valores da tabela e o y é a classe / stage\n",
    "y_test_previsao_3 = ad3.predict(X_test) #vai prever com os dados que ele tem os Y_test\n",
    "#y_test_previsao_3\n",
    "#formato txt para submissao na competicao\n",
    "\n",
    "#print(\"Stage\")\n",
    "#for item in y_test_previsao_3:\n",
    "#    print(item)"
   ]
  },
  {
   "cell_type": "code",
   "execution_count": null,
   "metadata": {},
   "outputs": [],
   "source": []
  },
  {
   "cell_type": "markdown",
   "metadata": {},
   "source": [
    "## 4. Competição\n",
    "\n",
    "(remover) Explicar os passos feitos para chegar à solução submetida na competição, tendo em conta:\n",
    "\n",
    "* A escolha dos parâmetros usados pelos classificadores\n",
    "* A escolha de atributos mais relevantes para a aprendizagem dos modelos\n",
    "    "
   ]
  },
  {
   "cell_type": "markdown",
   "metadata": {},
   "source": [
    "Este modelo foi o que teve melhor score "
   ]
  },
  {
   "cell_type": "code",
   "execution_count": 348,
   "metadata": {},
   "outputs": [
    {
     "name": "stdout",
     "output_type": "stream",
     "text": [
      " média f1_macro: 0.38357021697726285\n"
     ]
    },
    {
     "data": {
      "text/plain": [
       "array([3, 3, 4, 2, 2, 4, 2, 3, 4, 2, 4, 3, 3, 3, 3, 4, 2, 2, 2, 3, 4, 3,\n",
       "       4, 2, 4, 2, 3, 4, 3, 3, 4, 4, 4, 2, 2, 2, 4, 4, 3, 4, 4, 4, 4, 2,\n",
       "       3, 3, 4, 2, 4, 4, 2, 2, 2, 4, 3, 4, 2, 4, 3, 4, 4, 4, 2, 4, 4, 3,\n",
       "       3, 2, 4, 3, 1, 3, 4, 2, 2, 3, 1, 4, 2, 2, 2, 2, 3])"
      ]
     },
     "execution_count": 348,
     "metadata": {},
     "output_type": "execute_result"
    }
   ],
   "source": [
    "#competition Score: 0.40367\n",
    "ad3 =DecisionTreeClassifier(criterion = \"entropy\", max_depth = 6, min_samples_split = 4, min_samples_leaf = 3)\n",
    "scores = cross_val_score(ad3,\n",
    "                             X= X_train,\n",
    "                             y= y_train,\n",
    "                             cv = 10,\n",
    "                             scoring='f1_macro')\n",
    "\n",
    "avg_score = np.mean(scores)\n",
    "print (f\" média f1_macro: {avg_score}\")\n",
    "\n",
    "\n",
    "ad3.fit(X_train, y_train) #treinar o modelo, o xDum sao os valores da tabela e o y é a classe / stage\n",
    "y_test_previsao_3 = ad3.predict(X_test) #vai prever com os dados que ele tem os Y_test\n",
    "y_test_previsao_3\n",
    "#formato txt para submissao na competicao\n",
    "\n",
    "#print(\"Stage\")\n",
    "#for item in y_test_previsao_3:\n",
    "#    print(item)"
   ]
  }
 ],
 "metadata": {
  "interpreter": {
   "hash": "0cd7aa3017f10c235d4c053c16d68549ffbdde9ae82de3902c3b374bdbd26001"
  },
  "kernelspec": {
   "display_name": "Python 3",
   "language": "python",
   "name": "python3"
  },
  "language_info": {
   "codemirror_mode": {
    "name": "ipython",
    "version": 3
   },
   "file_extension": ".py",
   "mimetype": "text/x-python",
   "name": "python",
   "nbconvert_exporter": "python",
   "pygments_lexer": "ipython3",
   "version": "3.8.5"
  }
 },
 "nbformat": 4,
 "nbformat_minor": 2
}
